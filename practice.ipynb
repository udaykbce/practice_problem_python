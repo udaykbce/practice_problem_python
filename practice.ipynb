{
  "nbformat": 4,
  "nbformat_minor": 0,
  "metadata": {
    "colab": {
      "provenance": [],
      "authorship_tag": "ABX9TyNkwYi2lTH3zEGuYjY5C9Tm",
      "include_colab_link": true
    },
    "kernelspec": {
      "name": "python3",
      "display_name": "Python 3"
    },
    "language_info": {
      "name": "python"
    }
  },
  "cells": [
    {
      "cell_type": "markdown",
      "metadata": {
        "id": "view-in-github",
        "colab_type": "text"
      },
      "source": [
        "<a href=\"https://colab.research.google.com/github/udaykbce/practice_problem_python/blob/main/practice.ipynb\" target=\"_parent\"><img src=\"https://colab.research.google.com/assets/colab-badge.svg\" alt=\"Open In Colab\"/></a>"
      ]
    },
    {
      "cell_type": "code",
      "execution_count": null,
      "metadata": {
        "colab": {
          "base_uri": "https://localhost:8080/"
        },
        "id": "t3Obs2pSKCEu",
        "outputId": "827df029-102f-40f5-bf92-654c582d1345"
      },
      "outputs": [
        {
          "output_type": "stream",
          "name": "stdout",
          "text": [
            "4\n",
            "6\n",
            "12\n"
          ]
        }
      ],
      "source": [
        "# lcm\n",
        "x = int(input())\n",
        "y =int(input())\n",
        "def lcm(x,y):\n",
        "  largest = 0\n",
        "  if x > y:\n",
        "    largest = x\n",
        "  else:\n",
        "    largest = y\n",
        "\n",
        "  while True:\n",
        "    if (largest % x == 0) and (largest % y == 0):\n",
        "      print(largest)\n",
        "      break\n",
        "    else:\n",
        "      largest += 1\n",
        "\n",
        "lcm(x,y)"
      ]
    },
    {
      "cell_type": "code",
      "source": [
        "# Write a program to sum the digits of the number until it became single digit\n",
        "\n",
        "\n",
        "def sum_until_single_digit(inp):\n",
        "  return (inp-1)%9 + 1 if inp > 9 else inp\n",
        "\n",
        "inp = int(input())\n",
        "sum_until_single_digit(inp)"
      ],
      "metadata": {
        "colab": {
          "base_uri": "https://localhost:8080/"
        },
        "id": "B4KMhBjC1xNJ",
        "outputId": "c6898fd8-c4eb-413e-a610-a87d16b4c4db"
      },
      "execution_count": null,
      "outputs": [
        {
          "name": "stdout",
          "output_type": "stream",
          "text": [
            "9999\n"
          ]
        },
        {
          "output_type": "execute_result",
          "data": {
            "text/plain": [
              "9"
            ]
          },
          "metadata": {},
          "execution_count": 3
        }
      ]
    },
    {
      "cell_type": "code",
      "source": [
        "# other method\n",
        "def sum_digit(num):\n",
        "  while num >= 10:\n",
        "    num = sum(int(i) for i in str(num))\n",
        "  return num\n",
        "\n",
        "num  = int(input())\n",
        "sum_digit(num)"
      ],
      "metadata": {
        "colab": {
          "base_uri": "https://localhost:8080/"
        },
        "id": "BEbNbUqNPqb9",
        "outputId": "6aad4cf4-e8ec-4a11-b97f-5424d0d7e7da"
      },
      "execution_count": null,
      "outputs": [
        {
          "name": "stdout",
          "output_type": "stream",
          "text": [
            "9999\n"
          ]
        },
        {
          "output_type": "execute_result",
          "data": {
            "text/plain": [
              "9"
            ]
          },
          "metadata": {},
          "execution_count": 7
        }
      ]
    },
    {
      "cell_type": "code",
      "source": [
        "# Write a program to reverse an integer python\n",
        "inp = int(input())\n",
        "strs = \"\"\n",
        "for i in str(inp):\n",
        "  strs += i\n",
        "\n",
        "print(strs[::-1])"
      ],
      "metadata": {
        "colab": {
          "base_uri": "https://localhost:8080/"
        },
        "id": "n2rsbzGH62zx",
        "outputId": "a9466875-e486-4abb-d7ca-64934a27527c"
      },
      "execution_count": 6,
      "outputs": [
        {
          "output_type": "stream",
          "name": "stdout",
          "text": [
            "12345\n",
            "54321\n"
          ]
        }
      ]
    },
    {
      "cell_type": "code",
      "source": [
        "check1 = ['Learn', 'Quiz', 'Practice', 'Contribute']\n",
        "check2 = check1\n",
        "check3 = check1[:]\n",
        "\n",
        "check2[0] = 'Code'\n",
        "check3[1] = 'Mcq'\n",
        "\n",
        "count = 0\n",
        "for c in (check1, check2, check3):\n",
        "    if c[0] == 'Code':\n",
        "        count += 1\n",
        "    if c[1] == 'Mcq':\n",
        "        count += 10\n",
        "\n",
        "print (count)"
      ],
      "metadata": {
        "colab": {
          "base_uri": "https://localhost:8080/"
        },
        "id": "m4kBl0X9usSI",
        "outputId": "2ffa8540-bf1d-48a6-d705-8dd47039763c"
      },
      "execution_count": null,
      "outputs": [
        {
          "output_type": "stream",
          "name": "stdout",
          "text": [
            "12\n"
          ]
        }
      ]
    },
    {
      "cell_type": "code",
      "source": [],
      "metadata": {
        "id": "V4m9E5nftCQ3"
      },
      "execution_count": null,
      "outputs": []
    },
    {
      "cell_type": "code",
      "source": [
        "def addToList(listcontainer):\n",
        "    listcontainer += [10]\n",
        "\n",
        "mylistContainer = [10, 20, 30, 40]\n",
        "addToList(mylistContainer)\n",
        "print(len(mylistContainer))"
      ],
      "metadata": {
        "colab": {
          "base_uri": "https://localhost:8080/"
        },
        "id": "NNzZhFwTvERp",
        "outputId": "bfc74847-d217-4a7f-9dc0-2e2390d54c75"
      },
      "execution_count": null,
      "outputs": [
        {
          "output_type": "stream",
          "name": "stdout",
          "text": [
            "5\n"
          ]
        }
      ]
    },
    {
      "cell_type": "code",
      "source": [
        "nameList = ['Harsh', 'Pratik', 'Bob', 'Dhruv']\n",
        "\n",
        "print(nameList[1][-1])"
      ],
      "metadata": {
        "colab": {
          "base_uri": "https://localhost:8080/"
        },
        "id": "wCrB6MTYvENq",
        "outputId": "54e4beea-37e1-4dc4-e945-d8f23f3a52d9"
      },
      "execution_count": null,
      "outputs": [
        {
          "output_type": "stream",
          "name": "stdout",
          "text": [
            "k\n"
          ]
        }
      ]
    },
    {
      "cell_type": "code",
      "source": [
        "count = 1\n",
        "\n",
        "def doThis():\n",
        "\n",
        "    global count\n",
        "\n",
        "    for i in (1, 2, 3):\n",
        "        count += 1\n",
        "\n",
        "doThis()\n",
        "\n",
        "print (count)"
      ],
      "metadata": {
        "colab": {
          "base_uri": "https://localhost:8080/"
        },
        "id": "3V9NiFpyvEJ3",
        "outputId": "4a2f5297-e3df-4e92-83ab-02a05651fbcc"
      },
      "execution_count": null,
      "outputs": [
        {
          "output_type": "stream",
          "name": "stdout",
          "text": [
            "4\n"
          ]
        }
      ]
    },
    {
      "cell_type": "code",
      "source": [
        "a = True\n",
        "b = False\n",
        "c = False\n",
        "\n",
        "if not a or b:\n",
        "    print (1)\n",
        "elif not a or not b and c:\n",
        "    print (2)\n",
        "elif not a or b or not b and a:\n",
        "    print (3)\n",
        "else:\n",
        "    print (4)"
      ],
      "metadata": {
        "colab": {
          "base_uri": "https://localhost:8080/"
        },
        "id": "czPgs-JEvEGf",
        "outputId": "0ac6f804-5e0b-4db9-99e4-ea7ce6fd2f46"
      },
      "execution_count": null,
      "outputs": [
        {
          "output_type": "stream",
          "name": "stdout",
          "text": [
            "3\n"
          ]
        }
      ]
    },
    {
      "cell_type": "code",
      "source": [
        "a = True\n",
        "b = False\n",
        "c = False\n",
        "\n",
        "if a or b and c:\n",
        "    print (\"HELLO\")\n",
        "else:\n",
        "    print (\"hello\")"
      ],
      "metadata": {
        "colab": {
          "base_uri": "https://localhost:8080/"
        },
        "id": "tSTj1izrvEC5",
        "outputId": "869be1fb-6ecd-4c5f-b9c9-88e2fd216950"
      },
      "execution_count": null,
      "outputs": [
        {
          "output_type": "stream",
          "name": "stdout",
          "text": [
            "HELLO\n"
          ]
        }
      ]
    },
    {
      "cell_type": "code",
      "source": [
        "r = lambda q: q * 2\n",
        "s = lambda q: q * 3\n",
        "x = 2\n",
        "x = r(x)\n",
        "x = s(x)\n",
        "x = r(x)\n",
        "print (x)"
      ],
      "metadata": {
        "colab": {
          "base_uri": "https://localhost:8080/"
        },
        "id": "O8w80yXGwdI2",
        "outputId": "764abede-9430-4542-8f5e-849507466fbb"
      },
      "execution_count": null,
      "outputs": [
        {
          "output_type": "stream",
          "name": "stdout",
          "text": [
            "24\n"
          ]
        }
      ]
    },
    {
      "cell_type": "code",
      "source": [
        "x = 1\n",
        "while True:\n",
        "  if x % 5 == 0:\n",
        "    break\n",
        "  x += 1\n",
        "\n",
        "print(x)\n"
      ],
      "metadata": {
        "colab": {
          "base_uri": "https://localhost:8080/"
        },
        "id": "k-ZjTv0kwdDX",
        "outputId": "88eb40f6-4322-44d4-ad4b-ba655f45c682"
      },
      "execution_count": null,
      "outputs": [
        {
          "output_type": "stream",
          "name": "stdout",
          "text": [
            "5\n"
          ]
        }
      ]
    },
    {
      "cell_type": "code",
      "source": [
        "all([2,4,0,6])"
      ],
      "metadata": {
        "colab": {
          "base_uri": "https://localhost:8080/"
        },
        "id": "irpy4FxzwdAy",
        "outputId": "4da44dc0-6fe1-4380-c1e6-761aa68c4df6"
      },
      "execution_count": null,
      "outputs": [
        {
          "output_type": "execute_result",
          "data": {
            "text/plain": [
              "False"
            ]
          },
          "metadata": {},
          "execution_count": 16
        }
      ]
    },
    {
      "cell_type": "code",
      "source": [
        "round(4.576)"
      ],
      "metadata": {
        "colab": {
          "base_uri": "https://localhost:8080/"
        },
        "id": "cG8Ns6bgwc9T",
        "outputId": "32af7387-9f5d-49d4-a976-0b8c14662782"
      },
      "execution_count": null,
      "outputs": [
        {
          "output_type": "execute_result",
          "data": {
            "text/plain": [
              "5"
            ]
          },
          "metadata": {},
          "execution_count": 17
        }
      ]
    },
    {
      "cell_type": "code",
      "source": [
        "class Name:\n",
        "    def __init__(javatpoint):\n",
        "        javajavatpoint = java\n",
        "         name1=Name(\"ABC\")\n",
        "           name2=name1"
      ],
      "metadata": {
        "id": "vI0CjtGvwc36"
      },
      "execution_count": null,
      "outputs": []
    },
    {
      "cell_type": "code",
      "source": [
        "def my_func(st):\n",
        "  l1 = [ch for ch in st if ch.isalpha()]\n",
        "  return \"\".join(l1.pop() if ch.isalpha() else ch for ch in st)\n",
        "\n",
        "st = 'ab-cd-ef'\n",
        "print(my_func(st))"
      ],
      "metadata": {
        "id": "M7nNYZ8xwc0S",
        "colab": {
          "base_uri": "https://localhost:8080/"
        },
        "outputId": "b955ea24-e951-4596-aaf6-12ced287987a"
      },
      "execution_count": null,
      "outputs": [
        {
          "output_type": "stream",
          "name": "stdout",
          "text": [
            "fe-dc-ba\n"
          ]
        }
      ]
    },
    {
      "cell_type": "code",
      "source": [],
      "metadata": {
        "id": "xd5aqlFyvD-d"
      },
      "execution_count": null,
      "outputs": []
    },
    {
      "cell_type": "code",
      "source": [],
      "metadata": {
        "id": "E-YKwgMqvD6k"
      },
      "execution_count": null,
      "outputs": []
    },
    {
      "cell_type": "code",
      "source": [],
      "metadata": {
        "id": "hjQcViqBvDsH"
      },
      "execution_count": null,
      "outputs": []
    },
    {
      "cell_type": "code",
      "source": [
        "x = [[0],[1]]\n",
        "print((\" \".join(list(map(str,x))),))"
      ],
      "metadata": {
        "colab": {
          "base_uri": "https://localhost:8080/"
        },
        "id": "tqQKxy-Rc12i",
        "outputId": "faba3899-e019-454d-c8c0-5878cd6371cb"
      },
      "execution_count": null,
      "outputs": [
        {
          "output_type": "stream",
          "name": "stdout",
          "text": [
            "('[0] [1]',)\n"
          ]
        }
      ]
    },
    {
      "cell_type": "code",
      "source": [
        "# fibonacci series\n",
        "def fibos(num):\n",
        "  m,n =0,1\n",
        "  if num < 0:\n",
        "    print(\"invalid input\")\n",
        "  elif num == 1:\n",
        "    print(0)\n",
        "  else:\n",
        "    count = 0\n",
        "    while count<= num:\n",
        "      print(m, end =\" \")\n",
        "      a = m+n\n",
        "      m = n\n",
        "      n = a\n",
        "      count += 1\n",
        "    print(m)\n",
        "\n",
        "fibos(6)\n"
      ],
      "metadata": {
        "colab": {
          "base_uri": "https://localhost:8080/"
        },
        "id": "nquvBH7G819P",
        "outputId": "13a0331c-de12-4aaa-f36e-e92cf609fbb7"
      },
      "execution_count": null,
      "outputs": [
        {
          "output_type": "stream",
          "name": "stdout",
          "text": [
            "0 1 1 2 3 5 8 13\n"
          ]
        }
      ]
    },
    {
      "cell_type": "code",
      "source": [
        "#prime number\n",
        "num = int(input())\n",
        "temp = 0\n",
        "for i in range(2,num):\n",
        "  if num%i == 0:\n",
        "    temp = 1\n",
        "\n",
        "if temp == 1:\n",
        "  print(\"Not Prime no\")\n",
        "else:\n",
        "  print(\"prime no\")\n",
        "\n"
      ],
      "metadata": {
        "colab": {
          "base_uri": "https://localhost:8080/"
        },
        "id": "ZmAbv7N0aLo-",
        "outputId": "19e4d028-637d-4a29-ec7a-64acaf228ac0"
      },
      "execution_count": null,
      "outputs": [
        {
          "output_type": "stream",
          "name": "stdout",
          "text": [
            "2\n",
            "prime no\n"
          ]
        }
      ]
    },
    {
      "cell_type": "code",
      "source": [
        "# Prime no\n",
        "inp = int(input())\n",
        "def prime_no(inp):\n",
        "  temp = 0\n",
        "  for i in range(2,inp):\n",
        "    if inp%i == 0:\n",
        "      temp = 1\n",
        "\n",
        "  if temp == 1:\n",
        "    print(\"not prime no\")\n",
        "  else:\n",
        "    temp == 0\n",
        "    print(\"prime no\")\n",
        "\n",
        "prime_no(inp)\n",
        "\n"
      ],
      "metadata": {
        "colab": {
          "base_uri": "https://localhost:8080/"
        },
        "id": "eLzfLVw5ojv-",
        "outputId": "22b50aed-fec0-48a8-95b4-5df721bd1597"
      },
      "execution_count": null,
      "outputs": [
        {
          "output_type": "stream",
          "name": "stdout",
          "text": [
            "7\n",
            "prime no\n"
          ]
        }
      ]
    },
    {
      "cell_type": "code",
      "source": [
        "# n = eval(input())\n",
        "lst = ['abc.txt', 'windows.dll', 'tiger.png', 'rose.jpg', 'test.py', 'win32.exe']\n",
        "# for i in n:\n",
        "#     lst.append(i)\n",
        "\n",
        "def lst_t(lst):\n",
        "    result = []\n",
        "    for i in lst:\n",
        "        if i.split('.')[1] in (\"txt\",\"dll\",\"png\",\"jpg\",\"exe\") and i[0].isalpha() and sum(j.isdigit() for j in i) <4:\n",
        "            result.append(\"Yes\")\n",
        "        else:\n",
        "            result.append(\"No\")\n",
        "    return result\n",
        "\n",
        "print(lst_t(lst))"
      ],
      "metadata": {
        "colab": {
          "base_uri": "https://localhost:8080/"
        },
        "id": "Nv-lXvFGOPbd",
        "outputId": "4a7c2a4f-33b8-47df-e114-b5975c29f0f8"
      },
      "execution_count": null,
      "outputs": [
        {
          "output_type": "stream",
          "name": "stdout",
          "text": [
            "['Yes', 'Yes', 'Yes', 'Yes', 'No', 'Yes']\n"
          ]
        }
      ]
    },
    {
      "cell_type": "code",
      "source": [
        "number1 = int(input())\n",
        "number2 = int(input())\n",
        "sum = number1+number2\n",
        "if sum > 0:\n",
        "  print(\"Positive\")\n",
        "else:\n",
        "  print(\"Negative\")"
      ],
      "metadata": {
        "colab": {
          "base_uri": "https://localhost:8080/"
        },
        "id": "XCGJ8bH3ZmDS",
        "outputId": "51a5f3c5-7398-43c2-9591-d80c99c9b052"
      },
      "execution_count": null,
      "outputs": [
        {
          "output_type": "stream",
          "name": "stdout",
          "text": [
            "22\n",
            "-40\n",
            "Negative\n"
          ]
        }
      ]
    },
    {
      "cell_type": "code",
      "source": [],
      "metadata": {
        "id": "SaMhM6WwntuR"
      },
      "execution_count": null,
      "outputs": []
    },
    {
      "cell_type": "code",
      "source": [
        "inp = int(input())\n",
        "reverse = str(inp)[::-1]\n",
        "print(reverse)\n"
      ],
      "metadata": {
        "colab": {
          "base_uri": "https://localhost:8080/"
        },
        "id": "LqkLE524P9Qc",
        "outputId": "2d29c42a-82a4-4b2f-a05e-1758927b59c6"
      },
      "execution_count": null,
      "outputs": [
        {
          "output_type": "stream",
          "name": "stdout",
          "text": [
            "534750\n",
            "057435\n"
          ]
        }
      ]
    },
    {
      "cell_type": "code",
      "source": [
        "num = 534750\n",
        "reversed_num = 0\n",
        "\n",
        "while num != 0:\n",
        "    digit = num % 10\n",
        "    reversed_num = reversed_num * 10 + digit\n",
        "    num //= 10\n",
        "\n",
        "print(\"Reversed Number: \" + str(reversed_num))"
      ],
      "metadata": {
        "colab": {
          "base_uri": "https://localhost:8080/"
        },
        "id": "0EMoYb3SRfWo",
        "outputId": "8b6ee657-1aa1-409a-facf-b48ad815ed99"
      },
      "execution_count": null,
      "outputs": [
        {
          "output_type": "stream",
          "name": "stdout",
          "text": [
            "Reversed Number: 57435\n"
          ]
        }
      ]
    },
    {
      "cell_type": "code",
      "source": [
        "s = \"uday kant\"\n",
        "for i in s.split(\" \"):\n",
        "  y = i.capitalize()\n",
        "  print(y, end = \" \")\n"
      ],
      "metadata": {
        "colab": {
          "base_uri": "https://localhost:8080/"
        },
        "id": "tnKcw3wPoDAK",
        "outputId": "356d742b-aa9b-49c6-ec3d-2a681dcb2521"
      },
      "execution_count": null,
      "outputs": [
        {
          "output_type": "stream",
          "name": "stdout",
          "text": [
            "Uday Kant "
          ]
        }
      ]
    },
    {
      "cell_type": "code",
      "source": [
        "# Write a python program to divide a list in halves, reverse each halve and concatenate both.\n",
        "\n",
        "inp = [1,2,3,4,5,6,7,8]\n",
        "def split(inp):\n",
        "    half = len(inp)//2\n",
        "    return inp[half-1::-1],inp[-1:half-1:-1]\n",
        "\n",
        "a,b = split(inp)\n",
        "req = a+b\n",
        "print(req)"
      ],
      "metadata": {
        "colab": {
          "base_uri": "https://localhost:8080/"
        },
        "id": "St0cSUe12xce",
        "outputId": "e7a668de-267c-48d0-bae8-9f8b0f76609b"
      },
      "execution_count": null,
      "outputs": [
        {
          "output_type": "stream",
          "name": "stdout",
          "text": [
            "[4, 3, 2, 1, 8, 7, 6, 5]\n"
          ]
        }
      ]
    },
    {
      "cell_type": "code",
      "source": [
        "rows= 5\n",
        "colms= 5\n",
        "for i in range(1,rows+1):\n",
        "    for j in range(1,colms+1):\n",
        "        if (j==1 or j ==colms) or (i == 1 or i == rows) and (j>0 and j<colms):\n",
        "            print(\"0.\", end =\"\")\n",
        "        else:\n",
        "          print(end = \"  \")\n",
        "\n",
        "\n",
        "    print()"
      ],
      "metadata": {
        "colab": {
          "base_uri": "https://localhost:8080/"
        },
        "id": "w3srmP256uXs",
        "outputId": "8df54c80-cda5-4b16-a947-96f49f7e0758"
      },
      "execution_count": null,
      "outputs": [
        {
          "output_type": "stream",
          "name": "stdout",
          "text": [
            "0.0.0.0.0.\n",
            "0.      0.\n",
            "0.      0.\n",
            "0.      0.\n",
            "0.0.0.0.0.\n"
          ]
        }
      ]
    },
    {
      "cell_type": "code",
      "source": [
        "n=int(input())\n",
        "ascii = 65\n",
        "for i in range(n):\n",
        "    for j in range(i+1):\n",
        "        alpha = chr(ascii)\n",
        "        print(alpha, end = \" \")\n",
        "    ascii += 1\n",
        "    print()"
      ],
      "metadata": {
        "colab": {
          "base_uri": "https://localhost:8080/"
        },
        "id": "bE1ufvIxRd3x",
        "outputId": "66473652-47a3-41cc-81e5-bb970b037c5c"
      },
      "execution_count": null,
      "outputs": [
        {
          "output_type": "stream",
          "name": "stdout",
          "text": [
            "4\n",
            "A \n",
            "B B \n",
            "C C C \n",
            "D D D D \n"
          ]
        }
      ]
    },
    {
      "cell_type": "code",
      "source": [
        "print(\"The character pattern \")\n",
        "asciiValue = 65     #ASCII value of A\n",
        "for i in range(0, 5):\n",
        "    for j in range(0, i + 1):\n",
        "        # It will convert the ASCII value to the character\n",
        "        alphabate = chr(asciiValue)\n",
        "        print(alphabate, end=' ')\n",
        "        asciiValue += 1\n",
        "    print()"
      ],
      "metadata": {
        "colab": {
          "base_uri": "https://localhost:8080/"
        },
        "id": "bQZEXeT_TEVL",
        "outputId": "4415f208-98e0-4a3c-f011-8c5eba684a3a"
      },
      "execution_count": null,
      "outputs": [
        {
          "output_type": "stream",
          "name": "stdout",
          "text": [
            "The character pattern \n",
            "A \n",
            "B C \n",
            "D E F \n",
            "G H I J \n",
            "K L M N O \n"
          ]
        }
      ]
    },
    {
      "cell_type": "code",
      "source": [
        "str1 =input().split(\" \")\n",
        "substr=input()\n",
        "str2 = \"\"\n",
        "index = 0\n",
        "for i in str1:\n",
        "  if substr == i:\n",
        "    str2 = i\n",
        "index = str1[::-1].index(substr)\n",
        "print(f\"Last occurrence of {str2} starts at index {index}\")"
      ],
      "metadata": {
        "colab": {
          "base_uri": "https://localhost:8080/"
        },
        "id": "0sd2TVRCnm0k",
        "outputId": "57beb21a-f175-4ad3-9cd1-b5607ff65a05"
      },
      "execution_count": null,
      "outputs": [
        {
          "output_type": "stream",
          "name": "stdout",
          "text": [
            "uday kant uday\n",
            "uday\n",
            "Last occurrence of uday starts at index 0\n"
          ]
        }
      ]
    },
    {
      "cell_type": "code",
      "source": [
        "inp = int(input())\n",
        "if inp > 90:\n",
        "    print(\"excellent\")\n",
        "elif inp > 80:\n",
        "    print(\"good\")\n",
        "elif inp > 70:\n",
        "    print(\"fair\")\n",
        "elif inp > 60:\n",
        "    print(\"meets expecrtation\")\n",
        "elif inp < 60:\n",
        "    print(\"below par\")\n",
        "else:\n",
        "    print(\"invalid input\")"
      ],
      "metadata": {
        "colab": {
          "base_uri": "https://localhost:8080/"
        },
        "id": "r9Xb1V8GN75u",
        "outputId": "7e37011c-58a6-4163-aedf-ba73d031bf7c"
      },
      "execution_count": null,
      "outputs": [
        {
          "output_type": "stream",
          "name": "stdout",
          "text": [
            "74\n",
            "fair\n"
          ]
        }
      ]
    },
    {
      "cell_type": "code",
      "source": [
        "digitsList=[]\n",
        "for i in range(4):\n",
        "    str = input()\n",
        "    digits=[int(x) for x in str.split(',')]\n",
        "    digitsList.append(digits)\n",
        "print(digitsList)\n",
        "for i in range(len(digitsList)):\n",
        "    rowNum = digitsList[i][0]\n",
        "    colNum = digitsList[i][1]\n",
        "    multilist = [[col for col in range(colNum)] for row in range(rowNum)]\n",
        "\n",
        "    val = 1\n",
        "    for row in range(rowNum):\n",
        "      for col in range(colNum):\n",
        "          multilist[row][col]= val\n",
        "          val +=  1\n",
        "\n",
        "    print(multilist)"
      ],
      "metadata": {
        "colab": {
          "base_uri": "https://localhost:8080/"
        },
        "id": "rr4ZFWNGyLsP",
        "outputId": "a1635420-35ee-4d1e-b64c-3e41bc4f8b40"
      },
      "execution_count": null,
      "outputs": [
        {
          "output_type": "stream",
          "name": "stdout",
          "text": [
            "2,2\n",
            "2,3\n",
            "3,3\n",
            "3,4\n",
            "[[2, 2], [2, 3], [3, 3], [3, 4]]\n",
            "[[1, 2], [3, 4]]\n",
            "[[1, 2, 3], [4, 5, 6]]\n",
            "[[1, 2, 3], [4, 5, 6], [7, 8, 9]]\n",
            "[[1, 2, 3, 4], [5, 6, 7, 8], [9, 10, 11, 12]]\n"
          ]
        }
      ]
    },
    {
      "cell_type": "code",
      "source": [
        "# for val in map(lambda x:int(x),input().split(',')):\n",
        "#   print(val)\n",
        "\n",
        "map(lambda x:int(x),input().split(','))\n"
      ],
      "metadata": {
        "colab": {
          "base_uri": "https://localhost:8080/"
        },
        "id": "P8XizUJM29vb",
        "outputId": "0cda204a-de99-40de-ef66-017f48256afc"
      },
      "execution_count": null,
      "outputs": [
        {
          "name": "stdout",
          "output_type": "stream",
          "text": [
            "45,666\n"
          ]
        },
        {
          "output_type": "execute_result",
          "data": {
            "text/plain": [
              "<map at 0x7f4f9dc16260>"
            ]
          },
          "metadata": {},
          "execution_count": 15
        }
      ]
    },
    {
      "cell_type": "code",
      "source": [
        "# factorial in recursion\n",
        "\n",
        "def factorial(n):\n",
        "  if n < 0:\n",
        "    return \"invalid\"\n",
        "  elif n == 0:\n",
        "    return 1\n",
        "  else:\n",
        "    return n*factorial(n-1)\n",
        "\n",
        "n = int(input())\n",
        "factorial(n)"
      ],
      "metadata": {
        "colab": {
          "base_uri": "https://localhost:8080/"
        },
        "id": "4h9ofqEzLiuZ",
        "outputId": "3121ce63-ca6f-45c6-d455-9dbf1758c698"
      },
      "execution_count": null,
      "outputs": [
        {
          "name": "stdout",
          "output_type": "stream",
          "text": [
            "1\n"
          ]
        },
        {
          "output_type": "execute_result",
          "data": {
            "text/plain": [
              "1"
            ]
          },
          "metadata": {},
          "execution_count": 4
        }
      ]
    },
    {
      "cell_type": "code",
      "source": [
        "# hcf\n",
        "x = int(input())\n",
        "y = int(input())\n",
        "\n",
        "if x > y:\n",
        "  smallest = y\n",
        "else:\n",
        "  smallest = x\n",
        "a = []\n",
        "for i in range(2,smallest):\n",
        "  if (x%i == 0) and (y%i == 0):\n",
        "    a = i\n",
        "\n",
        "print(a)\n",
        "\n",
        "\n"
      ],
      "metadata": {
        "colab": {
          "base_uri": "https://localhost:8080/"
        },
        "id": "gDU0mi0vzRLE",
        "outputId": "dc72725b-d06f-4ca2-95ce-4012090942ce"
      },
      "execution_count": null,
      "outputs": [
        {
          "output_type": "stream",
          "name": "stdout",
          "text": [
            "144\n",
            "104\n",
            "8\n"
          ]
        }
      ]
    },
    {
      "cell_type": "code",
      "source": [
        "# deciml to binary octal hexadeciml\n",
        "decimal = int(input())\n",
        "\n",
        "print(bin(decimal),\"binary of decimal\")\n",
        "print(oct(decimal),\"octal of decimal\")\n",
        "print(hex(decimal),\"hexadecimal of decimal\")"
      ],
      "metadata": {
        "colab": {
          "base_uri": "https://localhost:8080/"
        },
        "id": "r02beiCz5RWJ",
        "outputId": "09ca5ad8-8796-4115-8411-ce6fdc15cbd4"
      },
      "execution_count": null,
      "outputs": [
        {
          "output_type": "stream",
          "name": "stdout",
          "text": [
            "12\n",
            "0b1100 binary of decimal\n",
            "0o14 octal of decimal\n",
            "0xc hexadecimal of decimal\n"
          ]
        }
      ]
    },
    {
      "cell_type": "code",
      "source": [
        "# to find ascii\n",
        "inp  = input()\n",
        "char = list(inp)\n",
        "for i in char:\n",
        "  ascii = ord(i)\n",
        "  print(ascii)"
      ],
      "metadata": {
        "colab": {
          "base_uri": "https://localhost:8080/"
        },
        "id": "jGYQ3Fl86zaL",
        "outputId": "2bc5f971-2583-4db2-ce9b-4c88d351e70b"
      },
      "execution_count": null,
      "outputs": [
        {
          "output_type": "stream",
          "name": "stdout",
          "text": [
            "abc\n",
            "97\n",
            "98\n",
            "99\n"
          ]
        }
      ]
    },
    {
      "cell_type": "code",
      "source": [
        "x= \"abcdef\"\n",
        "i = 'a'\n",
        "while i in x:\n",
        "  x = x[:-1]\n",
        "  print(i,end = \" \")"
      ],
      "metadata": {
        "colab": {
          "base_uri": "https://localhost:8080/"
        },
        "id": "Es2NJHm3ju9d",
        "outputId": "48ac0bde-bfdd-40ed-83e2-26c9d5044ffc"
      },
      "execution_count": null,
      "outputs": [
        {
          "output_type": "stream",
          "name": "stdout",
          "text": [
            "a a a a a a "
          ]
        }
      ]
    },
    {
      "cell_type": "code",
      "source": [
        "# four basic mathematical operation\n",
        "a = []\n",
        "for i in range(1,3):\n",
        "  x = int(input(f\"input no {i}: \"))\n",
        "  a.append(x)\n",
        "\n",
        "operations = [\"/\",\"*\", \"+\", \"-\"]\n",
        "op_inp = input()\n",
        "if op_inp in operations:\n",
        "  if op_inp == \"/\":\n",
        "    print(a[0]/a[1])\n",
        "  elif op_inp == \"*\":\n",
        "    print(a[0]*a[1])\n",
        "  elif op_inp == \"+\":\n",
        "    print(a[0]+a[1])\n",
        "  else:\n",
        "    print(a[0]-a[1])\n",
        "else:\n",
        "  print(\"invalid input\")\n",
        "\n",
        "\n"
      ],
      "metadata": {
        "colab": {
          "base_uri": "https://localhost:8080/"
        },
        "id": "q1QC9L-uIDHs",
        "outputId": "1f6a2c0f-9787-42d4-dc6f-9503132e4356"
      },
      "execution_count": null,
      "outputs": [
        {
          "output_type": "stream",
          "name": "stdout",
          "text": [
            "input no 1: 25\n",
            "input no 2: 5\n",
            "*\n",
            "125\n"
          ]
        }
      ]
    },
    {
      "cell_type": "code",
      "source": [
        "import time\n",
        "\n",
        "for i in range(10):\n",
        "    print(f\"Progress: {i}/10\", end=\"\\r\")\n",
        "    time.sleep(1)\n"
      ],
      "metadata": {
        "colab": {
          "base_uri": "https://localhost:8080/"
        },
        "id": "X68WtVET0PNV",
        "outputId": "1c67f010-fe35-48f5-c636-ba2b1a0bd0b9"
      },
      "execution_count": null,
      "outputs": [
        {
          "output_type": "stream",
          "name": "stdout",
          "text": []
        }
      ]
    },
    {
      "cell_type": "code",
      "source": [
        "\n",
        "\n",
        "animation = \"|/-\\\\\"\n",
        "for i in range(10):\n",
        "    print(f\"Loading {animation[i % len(animation)]}\\r123\")\n",
        "\n"
      ],
      "metadata": {
        "colab": {
          "base_uri": "https://localhost:8080/"
        },
        "id": "CHWzs7Fq0kIc",
        "outputId": "3b3c411d-3aba-41aa-b5ab-ff3b9ebef664"
      },
      "execution_count": null,
      "outputs": [
        {
          "output_type": "stream",
          "name": "stdout",
          "text": [
            "Loading |\r123\n",
            "Loading /\r123\n",
            "Loading -\r123\n",
            "Loading \\\r123\n",
            "Loading |\r123\n",
            "Loading /\r123\n",
            "Loading -\r123\n",
            "Loading \\\r123\n",
            "Loading |\r123\n",
            "Loading /\r123\n"
          ]
        }
      ]
    },
    {
      "cell_type": "code",
      "source": [
        "# fibonacci series using recursion(repetation)\n",
        "def recr_fibo(n):\n",
        "  if n <= 1:\n",
        "    return n\n",
        "  else:\n",
        "    return (recr_fibo(n-1)+ recr_fibo(n-2))\n",
        "\n",
        "\n",
        "series_length = int(input())\n",
        "if series_length < 0:\n",
        "  print(\"invalid input\")\n",
        "else:\n",
        "  print(\"fibonacci series: \")\n",
        "  for i in range(series_length):\n",
        "    print(recr_fibo(i), end =\" \")"
      ],
      "metadata": {
        "colab": {
          "base_uri": "https://localhost:8080/"
        },
        "id": "cfkkVw3tJuT9",
        "outputId": "dc40e625-5378-4a5d-9252-930f87d721d2"
      },
      "execution_count": null,
      "outputs": [
        {
          "output_type": "stream",
          "name": "stdout",
          "text": [
            "10\n",
            "fibonacci series: \n",
            "0 1 1 2 3 5 8 13 21 34 "
          ]
        }
      ]
    },
    {
      "cell_type": "code",
      "source": [
        "n = int(input(\"please give a number for fibonacci series : \"))\n",
        "first,second=0,1\n",
        "print(\"fibonacci series are : \")\n",
        "for i in range(0,n):\n",
        "    if i<=1:\n",
        "        result=i\n",
        "    else:\n",
        "      result = first + second;\n",
        "      first = second;\n",
        "      second = result;\n",
        "    print(result, end = \" \")"
      ],
      "metadata": {
        "colab": {
          "base_uri": "https://localhost:8080/"
        },
        "id": "VMif6-vXtNlB",
        "outputId": "516f3533-7ff1-4221-c646-dde46c1bce76"
      },
      "execution_count": null,
      "outputs": [
        {
          "output_type": "stream",
          "name": "stdout",
          "text": [
            "please give a number for fibonacci series : 5\n",
            "fibonacci series are : \n",
            "0 1 1 2 3 "
          ]
        }
      ]
    },
    {
      "cell_type": "code",
      "source": [
        "# factorial program using recurtion\n",
        "def factorial(n):\n",
        "  if n == 1:\n",
        "    return n\n",
        "  else:\n",
        "    return n*factorial(n-1)\n",
        "\n",
        "n = int(input())\n",
        "\n",
        "if n < 0:\n",
        "  print(\"invalid input\")\n",
        "elif n == 0:\n",
        "  print(\"factorial of 0 is 1\")\n",
        "else:\n",
        "  print(f\"factorial of {n} is {factorial(n)}\")\n",
        "\n"
      ],
      "metadata": {
        "colab": {
          "base_uri": "https://localhost:8080/"
        },
        "id": "PE-v2RRqbwxW",
        "outputId": "cade058d-0693-4ad6-b286-f9da22083f45"
      },
      "execution_count": null,
      "outputs": [
        {
          "output_type": "stream",
          "name": "stdout",
          "text": [
            "0\n",
            "factorial of 0 is 1\n"
          ]
        }
      ]
    },
    {
      "cell_type": "code",
      "source": [
        "# cube sum of n natural numbers\n",
        "n = int(input())\n",
        "sum = 0\n",
        "for i in range(1, n+1):\n",
        "  sum += i**3\n",
        "print(sum)"
      ],
      "metadata": {
        "colab": {
          "base_uri": "https://localhost:8080/"
        },
        "id": "iAhZriXIhWgK",
        "outputId": "1d944d03-03c5-4412-c0c6-fb6508ae652b"
      },
      "execution_count": null,
      "outputs": [
        {
          "output_type": "stream",
          "name": "stdout",
          "text": [
            "3\n",
            "36\n"
          ]
        }
      ]
    },
    {
      "cell_type": "code",
      "source": [
        "# sum of array\n",
        "lst = list(input().split(\",\"))\n",
        "sum = 0\n",
        "for i in lst:\n",
        "  sum += int(i)\n",
        "print(sum)\n"
      ],
      "metadata": {
        "colab": {
          "base_uri": "https://localhost:8080/"
        },
        "id": "GFTkXus-jhP8",
        "outputId": "6575350a-a66a-49cf-ede7-20c4fdcc4c8c"
      },
      "execution_count": null,
      "outputs": [
        {
          "output_type": "stream",
          "name": "stdout",
          "text": [
            "12,13,14\n",
            "39\n"
          ]
        }
      ]
    },
    {
      "cell_type": "code",
      "source": [
        "# find largest element in arary\n",
        "n = int(input())\n",
        "lst = []\n",
        "for i in range(n):\n",
        "  element = input()\n",
        "  lst.append(element)\n",
        "print(lst)\n",
        "\n",
        "y = max(lst)\n",
        "print(y)"
      ],
      "metadata": {
        "colab": {
          "base_uri": "https://localhost:8080/",
          "height": 287
        },
        "id": "mfGW9CgQkqyk",
        "outputId": "2cb3891b-0fab-49ff-e756-802147c723bf"
      },
      "execution_count": null,
      "outputs": [
        {
          "output_type": "stream",
          "name": "stdout",
          "text": [
            "2\n",
            "12\n",
            "13\n",
            "['12', '13']\n"
          ]
        },
        {
          "output_type": "error",
          "ename": "TypeError",
          "evalue": "ignored",
          "traceback": [
            "\u001b[0;31m---------------------------------------------------------------------------\u001b[0m",
            "\u001b[0;31mTypeError\u001b[0m                                 Traceback (most recent call last)",
            "\u001b[0;32m<ipython-input-37-e8d78da3ae4b>\u001b[0m in \u001b[0;36m<cell line: 9>\u001b[0;34m()\u001b[0m\n\u001b[1;32m      7\u001b[0m \u001b[0mprint\u001b[0m\u001b[0;34m(\u001b[0m\u001b[0mlst\u001b[0m\u001b[0;34m)\u001b[0m\u001b[0;34m\u001b[0m\u001b[0;34m\u001b[0m\u001b[0m\n\u001b[1;32m      8\u001b[0m \u001b[0;34m\u001b[0m\u001b[0m\n\u001b[0;32m----> 9\u001b[0;31m \u001b[0my\u001b[0m \u001b[0;34m=\u001b[0m \u001b[0mmax\u001b[0m\u001b[0;34m(\u001b[0m\u001b[0mlst\u001b[0m\u001b[0;34m)\u001b[0m\u001b[0;34m\u001b[0m\u001b[0;34m\u001b[0m\u001b[0m\n\u001b[0m\u001b[1;32m     10\u001b[0m \u001b[0mprint\u001b[0m\u001b[0;34m(\u001b[0m\u001b[0my\u001b[0m\u001b[0;34m)\u001b[0m\u001b[0;34m\u001b[0m\u001b[0;34m\u001b[0m\u001b[0m\n",
            "\u001b[0;31mTypeError\u001b[0m: 'int' object is not callable"
          ]
        }
      ]
    },
    {
      "cell_type": "code",
      "source": [
        "array = []\n",
        "for i in range(2):\n",
        "  array.append(int(input()))\n",
        "\n",
        "print(array[::-1])"
      ],
      "metadata": {
        "id": "UIN02fjZrFjx",
        "colab": {
          "base_uri": "https://localhost:8080/"
        },
        "outputId": "663e7c4e-ea24-4b28-bf9b-c661eb945aa6"
      },
      "execution_count": null,
      "outputs": [
        {
          "output_type": "stream",
          "name": "stdout",
          "text": [
            "12\n",
            "13\n",
            "[13, 12]\n"
          ]
        }
      ]
    },
    {
      "cell_type": "code",
      "source": [
        "# add first part to end of the array\n",
        "\n",
        "\n",
        "def replace(array, n, pos):\n",
        "  for i in range(0, pos):\n",
        "    x = array[0]\n",
        "    for j in range(0,n-1):\n",
        "      array[j] = array[j+1]\n",
        "\n",
        "    array[n - 1] = x\n",
        "\n",
        "array = []\n",
        "for i in range(int(input(\"length of array: \"))):\n",
        "  array.append(int(input(\"array element: \")))\n",
        "n = len(array)\n",
        "pos = int(input(\"replacement position: \"))\n",
        "replace(array, n, pos)\n",
        "for i in range(0, n):\n",
        "\tprint(array[i], end = ' ')\n"
      ],
      "metadata": {
        "id": "LrNcGltHs4NK",
        "colab": {
          "base_uri": "https://localhost:8080/"
        },
        "outputId": "b08e50b1-b5e2-498d-d9a6-f0950df510e5"
      },
      "execution_count": null,
      "outputs": [
        {
          "output_type": "stream",
          "name": "stdout",
          "text": [
            "length of array: 5\n",
            "array element: 12\n",
            "array element: 15\n",
            "array element: 14\n",
            "array element: 16\n",
            "array element: 13\n",
            "replacement position: 3\n",
            "16 13 12 15 14 "
          ]
        }
      ]
    },
    {
      "cell_type": "code",
      "source": [
        "def SplitArray(arr, n, k):\n",
        "\tfor i in range(0, k):\n",
        "\t\tx = arr[0]\n",
        "\t\tfor j in range(0, n-1):\n",
        "\t\t\tarr[j] = arr[j + 1]\n",
        "\n",
        "\t\tarr[n-1] = x\n",
        "arr = [15, 40, 20, 16, 50, 36]\n",
        "n = len(arr)\n",
        "position = 2\n",
        "SplitArray(arr, n, position)\n",
        "for i in range(0, n):\n",
        "\tprint(arr[i], end = ' ')"
      ],
      "metadata": {
        "colab": {
          "base_uri": "https://localhost:8080/"
        },
        "id": "3_CdA19GHnZz",
        "outputId": "aad0da87-7ead-4d18-d527-c554b8b9f774"
      },
      "execution_count": null,
      "outputs": [
        {
          "output_type": "stream",
          "name": "stdout",
          "text": [
            "20 16 50 36 15 40 "
          ]
        }
      ]
    },
    {
      "cell_type": "code",
      "source": [
        "# Write a Python program to print even length words in a string using list comprehension\n",
        "inp = input().split(\" \")\n",
        "lst = list(inp)\n",
        "# for i in lst:\n",
        "#   if len(i)%2 == 0:\n",
        "#     print(i)\n",
        "out = [i for i in lst if len(i)%2 == 0]\n",
        "print(out)"
      ],
      "metadata": {
        "colab": {
          "base_uri": "https://localhost:8080/"
        },
        "id": "4XnwJK8dVQo0",
        "outputId": "c23c2ba6-2689-41e3-8f59-38aa9bd4cd0d"
      },
      "execution_count": null,
      "outputs": [
        {
          "output_type": "stream",
          "name": "stdout",
          "text": [
            "I am working in google\n",
            "['am', 'in', 'google']\n"
          ]
        }
      ]
    },
    {
      "cell_type": "code",
      "source": [
        "# given array is monotonic or not\n",
        "def monotonic(arr):\n",
        "  x,y = [], []\n",
        "  x.extend(arr)\n",
        "  y.extend(arr)\n",
        "  x.sort()\n",
        "  y.sort(reverse = True)\n",
        "  if (x == arr or y == arr):\n",
        "    print(\"monotonic\")\n",
        "  else:\n",
        "    print(\"not monotonic\")\n",
        "\n",
        "\n",
        "arr = []\n",
        "for j in range(int(input(\"length of arr: \"))):\n",
        "  arr.append(int(input(\"elements: \")))\n",
        "monotonic(arr)"
      ],
      "metadata": {
        "colab": {
          "base_uri": "https://localhost:8080/",
          "height": 380
        },
        "id": "v1_RsXHOZ8Kt",
        "outputId": "73339005-51a0-47a5-a1da-863a01b8c35c"
      },
      "execution_count": null,
      "outputs": [
        {
          "output_type": "error",
          "ename": "KeyboardInterrupt",
          "evalue": "ignored",
          "traceback": [
            "\u001b[0;31m---------------------------------------------------------------------------\u001b[0m",
            "\u001b[0;31mKeyboardInterrupt\u001b[0m                         Traceback (most recent call last)",
            "\u001b[0;32m<ipython-input-2-4501e4c7eb55>\u001b[0m in \u001b[0;36m<cell line: 15>\u001b[0;34m()\u001b[0m\n\u001b[1;32m     13\u001b[0m \u001b[0;34m\u001b[0m\u001b[0m\n\u001b[1;32m     14\u001b[0m \u001b[0marr\u001b[0m \u001b[0;34m=\u001b[0m \u001b[0;34m[\u001b[0m\u001b[0;34m]\u001b[0m\u001b[0;34m\u001b[0m\u001b[0;34m\u001b[0m\u001b[0m\n\u001b[0;32m---> 15\u001b[0;31m \u001b[0;32mfor\u001b[0m \u001b[0mj\u001b[0m \u001b[0;32min\u001b[0m \u001b[0mrange\u001b[0m\u001b[0;34m(\u001b[0m\u001b[0mint\u001b[0m\u001b[0;34m(\u001b[0m\u001b[0minput\u001b[0m\u001b[0;34m(\u001b[0m\u001b[0;34m\"length of arr: \"\u001b[0m\u001b[0;34m)\u001b[0m\u001b[0;34m)\u001b[0m\u001b[0;34m)\u001b[0m\u001b[0;34m:\u001b[0m\u001b[0;34m\u001b[0m\u001b[0;34m\u001b[0m\u001b[0m\n\u001b[0m\u001b[1;32m     16\u001b[0m   \u001b[0marr\u001b[0m\u001b[0;34m.\u001b[0m\u001b[0mappend\u001b[0m\u001b[0;34m(\u001b[0m\u001b[0mint\u001b[0m\u001b[0;34m(\u001b[0m\u001b[0minput\u001b[0m\u001b[0;34m(\u001b[0m\u001b[0;34m\"elements: \"\u001b[0m\u001b[0;34m)\u001b[0m\u001b[0;34m)\u001b[0m\u001b[0;34m)\u001b[0m\u001b[0;34m\u001b[0m\u001b[0;34m\u001b[0m\u001b[0m\n\u001b[1;32m     17\u001b[0m \u001b[0mmonotonic\u001b[0m\u001b[0;34m(\u001b[0m\u001b[0marr\u001b[0m\u001b[0;34m)\u001b[0m\u001b[0;34m\u001b[0m\u001b[0;34m\u001b[0m\u001b[0m\n",
            "\u001b[0;32m/usr/local/lib/python3.10/dist-packages/ipykernel/kernelbase.py\u001b[0m in \u001b[0;36mraw_input\u001b[0;34m(self, prompt)\u001b[0m\n\u001b[1;32m    849\u001b[0m                 \u001b[0;34m\"raw_input was called, but this frontend does not support input requests.\"\u001b[0m\u001b[0;34m\u001b[0m\u001b[0;34m\u001b[0m\u001b[0m\n\u001b[1;32m    850\u001b[0m             )\n\u001b[0;32m--> 851\u001b[0;31m         return self._input_request(str(prompt),\n\u001b[0m\u001b[1;32m    852\u001b[0m             \u001b[0mself\u001b[0m\u001b[0;34m.\u001b[0m\u001b[0m_parent_ident\u001b[0m\u001b[0;34m,\u001b[0m\u001b[0;34m\u001b[0m\u001b[0;34m\u001b[0m\u001b[0m\n\u001b[1;32m    853\u001b[0m             \u001b[0mself\u001b[0m\u001b[0;34m.\u001b[0m\u001b[0m_parent_header\u001b[0m\u001b[0;34m,\u001b[0m\u001b[0;34m\u001b[0m\u001b[0;34m\u001b[0m\u001b[0m\n",
            "\u001b[0;32m/usr/local/lib/python3.10/dist-packages/ipykernel/kernelbase.py\u001b[0m in \u001b[0;36m_input_request\u001b[0;34m(self, prompt, ident, parent, password)\u001b[0m\n\u001b[1;32m    893\u001b[0m             \u001b[0;32mexcept\u001b[0m \u001b[0mKeyboardInterrupt\u001b[0m\u001b[0;34m:\u001b[0m\u001b[0;34m\u001b[0m\u001b[0;34m\u001b[0m\u001b[0m\n\u001b[1;32m    894\u001b[0m                 \u001b[0;31m# re-raise KeyboardInterrupt, to truncate traceback\u001b[0m\u001b[0;34m\u001b[0m\u001b[0;34m\u001b[0m\u001b[0m\n\u001b[0;32m--> 895\u001b[0;31m                 \u001b[0;32mraise\u001b[0m \u001b[0mKeyboardInterrupt\u001b[0m\u001b[0;34m(\u001b[0m\u001b[0;34m\"Interrupted by user\"\u001b[0m\u001b[0;34m)\u001b[0m \u001b[0;32mfrom\u001b[0m \u001b[0;32mNone\u001b[0m\u001b[0;34m\u001b[0m\u001b[0;34m\u001b[0m\u001b[0m\n\u001b[0m\u001b[1;32m    896\u001b[0m             \u001b[0;32mexcept\u001b[0m \u001b[0mException\u001b[0m \u001b[0;32mas\u001b[0m \u001b[0me\u001b[0m\u001b[0;34m:\u001b[0m\u001b[0;34m\u001b[0m\u001b[0;34m\u001b[0m\u001b[0m\n\u001b[1;32m    897\u001b[0m                 \u001b[0mself\u001b[0m\u001b[0;34m.\u001b[0m\u001b[0mlog\u001b[0m\u001b[0;34m.\u001b[0m\u001b[0mwarning\u001b[0m\u001b[0;34m(\u001b[0m\u001b[0;34m\"Invalid Message:\"\u001b[0m\u001b[0;34m,\u001b[0m \u001b[0mexc_info\u001b[0m\u001b[0;34m=\u001b[0m\u001b[0;32mTrue\u001b[0m\u001b[0;34m)\u001b[0m\u001b[0;34m\u001b[0m\u001b[0;34m\u001b[0m\u001b[0m\n",
            "\u001b[0;31mKeyboardInterrupt\u001b[0m: Interrupted by user"
          ]
        }
      ]
    },
    {
      "cell_type": "code",
      "source": [
        "# add two matrix\n",
        "x = [[1,2,4],\n",
        "     [4,5,2],\n",
        "     [5,3,6]]\n",
        "\n",
        "y = [[4,3,5],\n",
        "     [5,4,6],\n",
        "     [7,9,6]]\n",
        "\n",
        "result = [[0,0,0],\n",
        "          [0,0,0],\n",
        "          [0,0,0]]\n",
        "\n",
        "for i in range(len(x)):\n",
        "  for j in range(len(x[0])):\n",
        "    result[i][j] = x[i][j]+y[i][j]\n",
        "\n",
        "for r in result:\n",
        "  print(r)"
      ],
      "metadata": {
        "colab": {
          "base_uri": "https://localhost:8080/"
        },
        "id": "TpGyd3UyzNV_",
        "outputId": "3bf1788d-f8bb-4498-d85a-5684d764ecee"
      },
      "execution_count": null,
      "outputs": [
        {
          "output_type": "stream",
          "name": "stdout",
          "text": [
            "[5, 5, 9]\n",
            "[9, 9, 8]\n",
            "[12, 12, 12]\n"
          ]
        }
      ]
    },
    {
      "cell_type": "code",
      "source": [
        "# multiply two matrix\n",
        "x = [[4,5,3],\n",
        "     [5,3,2],\n",
        "     [7,6,5]]\n",
        "\n",
        "y = [[2,3,9],\n",
        "     [3,6,8],\n",
        "     [3,4,9]]\n",
        "\n",
        "result = [[1,1,1],\n",
        "          [1,1,1],\n",
        "          [1,1,1]]\n",
        "\n",
        "for i in range(len(x)):\n",
        "  for j in range(len(x[0])):\n",
        "    result[i][j] = x[i][j]*y[i][j]\n",
        "\n",
        "\n",
        "for r in result:\n",
        "  print(r)"
      ],
      "metadata": {
        "colab": {
          "base_uri": "https://localhost:8080/"
        },
        "id": "kmcj-hklCmNi",
        "outputId": "46ad9f15-6759-4775-81ba-e06fa819d839"
      },
      "execution_count": null,
      "outputs": [
        {
          "output_type": "stream",
          "name": "stdout",
          "text": [
            "[8, 15, 27]\n",
            "[15, 18, 16]\n",
            "[21, 24, 45]\n"
          ]
        }
      ]
    },
    {
      "cell_type": "code",
      "source": [
        "# transpose of matrix\n",
        "a = [[4,5,6],\n",
        "     [3,2,5]]\n",
        "\n",
        "transpose = [[0,0],\n",
        "             [0,0],\n",
        "             [0,0]]\n",
        "\n",
        "for i in range(len(a)):\n",
        "  for j in range(len(a[0])):\n",
        "    transpose[j][i] = a[i][j]\n",
        "\n",
        "for t in transpose:\n",
        "  print(t)"
      ],
      "metadata": {
        "colab": {
          "base_uri": "https://localhost:8080/"
        },
        "id": "PUBOU1NUD_ZT",
        "outputId": "9175632d-0fa7-4c26-ab9c-8d4cbd22295a"
      },
      "execution_count": null,
      "outputs": [
        {
          "output_type": "stream",
          "name": "stdout",
          "text": [
            "[4, 3]\n",
            "[5, 2]\n",
            "[6, 5]\n"
          ]
        }
      ]
    },
    {
      "cell_type": "code",
      "source": [
        "# sort words in alphabetic order\n",
        "string = input().split(' ')\n",
        "result = []\n",
        "for i in string:\n",
        "  result.append(i)\n",
        "\n",
        "x = result.sort()\n",
        "print(result)\n"
      ],
      "metadata": {
        "colab": {
          "base_uri": "https://localhost:8080/"
        },
        "id": "GHBtZXJrJRPY",
        "outputId": "f0eed2ea-ae36-4fb9-9f13-1a9e78cb413c"
      },
      "execution_count": null,
      "outputs": [
        {
          "output_type": "stream",
          "name": "stdout",
          "text": [
            "dadfsd hjjhh bcvv\n",
            "['bcvv', 'dadfsd', 'hjjhh']\n"
          ]
        }
      ]
    },
    {
      "cell_type": "code",
      "source": [
        "punc = '''!()-[]{};:'\"\\,<>./?@#$%^&*_~'''\n",
        "\n",
        "words = input()\n",
        "result = \"\"\n",
        "for i in words:\n",
        "  if i not in punc:\n",
        "    result += i\n",
        "print(result)\n"
      ],
      "metadata": {
        "colab": {
          "base_uri": "https://localhost:8080/"
        },
        "id": "jtNCXMdnNDOL",
        "outputId": "bd5ee8da-8b17-4e85-aefb-bdc7203d9c04"
      },
      "execution_count": null,
      "outputs": [
        {
          "output_type": "stream",
          "name": "stdout",
          "text": [
            "uday@gmail.com\n",
            "udaygmailcom\n"
          ]
        }
      ]
    },
    {
      "cell_type": "code",
      "source": [
        "# disarium number (175 = 1^1 + 7^2 + 5^3 = 1 + 49 +125 =175)\n",
        "n = int(input())\n",
        "\n",
        "def disarium(n):\n",
        "  num = 0\n",
        "  for i in range(len(str(n))):\n",
        "    num += int(str(n)[i])**(i+1)\n",
        "  return num\n",
        "\n",
        "if n == disarium(n):\n",
        "  print(\"disarium no\")\n",
        "else:\n",
        "  print(\"not disarium no\")\n",
        "\n"
      ],
      "metadata": {
        "id": "NExF_31Vk2zP",
        "colab": {
          "base_uri": "https://localhost:8080/"
        },
        "outputId": "8fb291dd-4770-4bbe-d384-80856a147482"
      },
      "execution_count": null,
      "outputs": [
        {
          "output_type": "stream",
          "name": "stdout",
          "text": [
            "176\n",
            "not disarium no\n"
          ]
        }
      ]
    },
    {
      "cell_type": "code",
      "source": [
        "175//10"
      ],
      "metadata": {
        "id": "3JoHt1leqFP5",
        "outputId": "3d1e679b-8cc3-43ac-bb93-2f4d58833850",
        "colab": {
          "base_uri": "https://localhost:8080/"
        }
      },
      "execution_count": null,
      "outputs": [
        {
          "output_type": "execute_result",
          "data": {
            "text/plain": [
              "17"
            ]
          },
          "metadata": {},
          "execution_count": 18
        }
      ]
    },
    {
      "cell_type": "code",
      "source": [
        "# disarium no from 1 to 100\n",
        "def disarium(n):\n",
        "  num = 0\n",
        "  for i in range(len(str(n))):\n",
        "    num += int(str(n)[i])**(i+1)\n",
        "  return num\n",
        "\n",
        "for i in range(100):\n",
        "  if i == disarium(i):\n",
        "    print(i, end = \" \")"
      ],
      "metadata": {
        "id": "xKboKaU-qG-V",
        "colab": {
          "base_uri": "https://localhost:8080/"
        },
        "outputId": "3564b016-94d0-4a74-a027-a6a22fc0c846"
      },
      "execution_count": null,
      "outputs": [
        {
          "output_type": "stream",
          "name": "stdout",
          "text": [
            "0 1 2 3 4 5 6 7 8 9 89 "
          ]
        }
      ]
    },
    {
      "cell_type": "code",
      "source": [
        "# happy number\n",
        "inp = int(input())\n",
        "def happynum(inp):\n",
        "  sum = 0\n",
        "  while inp > 0:\n",
        "    digit = inp%10\n",
        "    sum += digit**2\n",
        "    inp //= 10\n",
        "  return sum\n",
        "\n",
        "result = happynum(inp)\n",
        "while (result != 1 and result > 0):\n",
        "  result = happynum(result)\n",
        "\n",
        "if result == 1:\n",
        "  print(\"happy num\")\n",
        "else:\n",
        "  print(\"Not happy num\")"
      ],
      "metadata": {
        "id": "9jbo5QWbsVTV",
        "colab": {
          "base_uri": "https://localhost:8080/",
          "height": 252
        },
        "outputId": "1f34cdd4-7ac8-4234-bc9a-1612fb84e3c0"
      },
      "execution_count": null,
      "outputs": [
        {
          "name": "stdout",
          "output_type": "stream",
          "text": [
            "20\n"
          ]
        },
        {
          "output_type": "error",
          "ename": "KeyboardInterrupt",
          "evalue": "ignored",
          "traceback": [
            "\u001b[0;31m---------------------------------------------------------------------------\u001b[0m",
            "\u001b[0;31mKeyboardInterrupt\u001b[0m                         Traceback (most recent call last)",
            "\u001b[0;32m<ipython-input-15-02af73a90f1c>\u001b[0m in \u001b[0;36m<cell line: 12>\u001b[0;34m()\u001b[0m\n\u001b[1;32m     11\u001b[0m \u001b[0mresult\u001b[0m \u001b[0;34m=\u001b[0m \u001b[0mhappynum\u001b[0m\u001b[0;34m(\u001b[0m\u001b[0minp\u001b[0m\u001b[0;34m)\u001b[0m\u001b[0;34m\u001b[0m\u001b[0;34m\u001b[0m\u001b[0m\n\u001b[1;32m     12\u001b[0m \u001b[0;32mwhile\u001b[0m \u001b[0;34m(\u001b[0m\u001b[0mresult\u001b[0m \u001b[0;34m!=\u001b[0m \u001b[0;36m1\u001b[0m \u001b[0;32mand\u001b[0m \u001b[0mresult\u001b[0m \u001b[0;34m>\u001b[0m \u001b[0;36m0\u001b[0m\u001b[0;34m)\u001b[0m\u001b[0;34m:\u001b[0m\u001b[0;34m\u001b[0m\u001b[0;34m\u001b[0m\u001b[0m\n\u001b[0;32m---> 13\u001b[0;31m   \u001b[0mresult\u001b[0m \u001b[0;34m=\u001b[0m \u001b[0mhappynum\u001b[0m\u001b[0;34m(\u001b[0m\u001b[0mresult\u001b[0m\u001b[0;34m)\u001b[0m\u001b[0;34m\u001b[0m\u001b[0;34m\u001b[0m\u001b[0m\n\u001b[0m\u001b[1;32m     14\u001b[0m \u001b[0;34m\u001b[0m\u001b[0m\n\u001b[1;32m     15\u001b[0m \u001b[0;32mif\u001b[0m \u001b[0mresult\u001b[0m \u001b[0;34m==\u001b[0m \u001b[0;36m1\u001b[0m\u001b[0;34m:\u001b[0m\u001b[0;34m\u001b[0m\u001b[0;34m\u001b[0m\u001b[0m\n",
            "\u001b[0;31mKeyboardInterrupt\u001b[0m: "
          ]
        }
      ]
    },
    {
      "cell_type": "code",
      "source": [
        "def is_Happy_num(n):\n",
        "  past = set()\n",
        "  while n != 1:\n",
        "        n = sum(int(i)**2 for i in str(n))\n",
        "        if n in past:\n",
        "            return False\n",
        "        past.add(n)\n",
        "  return True\n",
        "\n",
        "n = int(input())\n",
        "is_Happy_num(n)"
      ],
      "metadata": {
        "colab": {
          "base_uri": "https://localhost:8080/"
        },
        "id": "UTlNAn_5T2Ru",
        "outputId": "da0d7b61-68f8-4bdc-ced2-2db73e85bbea"
      },
      "execution_count": null,
      "outputs": [
        {
          "name": "stdout",
          "output_type": "stream",
          "text": [
            "20\n"
          ]
        },
        {
          "output_type": "execute_result",
          "data": {
            "text/plain": [
              "False"
            ]
          },
          "metadata": {},
          "execution_count": 17
        }
      ]
    },
    {
      "cell_type": "code",
      "source": [
        "a = int(input())\n",
        "lst = []\n",
        "for i in range(a):\n",
        "  element = int(input())\n",
        "  lst.append(element)\n",
        "\n",
        "sum = 0\n",
        "for i in lst:\n",
        "  sum += i\n",
        "print(sum)\n"
      ],
      "metadata": {
        "colab": {
          "base_uri": "https://localhost:8080/"
        },
        "id": "q6Afh0_g75X9",
        "outputId": "58348ad3-9c04-481b-c3f5-99e11368ed9d"
      },
      "execution_count": null,
      "outputs": [
        {
          "output_type": "stream",
          "name": "stdout",
          "text": [
            "4\n",
            "4\n",
            "5\n",
            "6\n",
            "7\n",
            "22\n"
          ]
        }
      ]
    },
    {
      "cell_type": "code",
      "source": [
        "a = int(input())\n",
        "b = []\n",
        "for i in range(a):\n",
        "  elem = int(input())\n",
        "  b.append(elem)\n",
        "\n",
        "mult = 1\n",
        "for i in b:\n",
        "  mult *= i\n",
        "print(mult)"
      ],
      "metadata": {
        "colab": {
          "base_uri": "https://localhost:8080/"
        },
        "id": "zPwETII8-LLu",
        "outputId": "c876036e-d89d-4244-935f-f9cf6c9e1951"
      },
      "execution_count": null,
      "outputs": [
        {
          "output_type": "stream",
          "name": "stdout",
          "text": [
            "5\n",
            "4\n",
            "5\n",
            "6\n",
            "7\n",
            "8\n",
            "6720\n"
          ]
        }
      ]
    },
    {
      "cell_type": "code",
      "source": [
        "num = int(input())\n",
        "lst = []\n",
        "for i in range(num):\n",
        "  elem = input()\n",
        "  lst.append(elem)\n",
        "\n",
        "y = min(lst)\n",
        "# minimum = min(lst)\n",
        "# print(minimum)\n",
        "# max = max(lst)\n",
        "print(y)"
      ],
      "metadata": {
        "colab": {
          "base_uri": "https://localhost:8080/",
          "height": 287
        },
        "id": "-uL0Zkl8-LId",
        "outputId": "9c052018-db89-41f0-ce19-57e4b6306b4c"
      },
      "execution_count": null,
      "outputs": [
        {
          "name": "stdout",
          "output_type": "stream",
          "text": [
            "2\n",
            "14\n",
            "12\n"
          ]
        },
        {
          "output_type": "error",
          "ename": "TypeError",
          "evalue": "ignored",
          "traceback": [
            "\u001b[0;31m---------------------------------------------------------------------------\u001b[0m",
            "\u001b[0;31mTypeError\u001b[0m                                 Traceback (most recent call last)",
            "\u001b[0;32m<ipython-input-22-2f25df4d3ecf>\u001b[0m in \u001b[0;36m<cell line: 7>\u001b[0;34m()\u001b[0m\n\u001b[1;32m      5\u001b[0m   \u001b[0mlst\u001b[0m\u001b[0;34m.\u001b[0m\u001b[0mappend\u001b[0m\u001b[0;34m(\u001b[0m\u001b[0melem\u001b[0m\u001b[0;34m)\u001b[0m\u001b[0;34m\u001b[0m\u001b[0;34m\u001b[0m\u001b[0m\n\u001b[1;32m      6\u001b[0m \u001b[0;34m\u001b[0m\u001b[0m\n\u001b[0;32m----> 7\u001b[0;31m \u001b[0my\u001b[0m \u001b[0;34m=\u001b[0m \u001b[0mmin\u001b[0m\u001b[0;34m(\u001b[0m\u001b[0mlst\u001b[0m\u001b[0;34m)\u001b[0m\u001b[0;34m\u001b[0m\u001b[0;34m\u001b[0m\u001b[0m\n\u001b[0m\u001b[1;32m      8\u001b[0m \u001b[0;31m# minimum = min(lst)\u001b[0m\u001b[0;34m\u001b[0m\u001b[0;34m\u001b[0m\u001b[0m\n\u001b[1;32m      9\u001b[0m \u001b[0;31m# print(minimum)\u001b[0m\u001b[0;34m\u001b[0m\u001b[0;34m\u001b[0m\u001b[0m\n",
            "\u001b[0;31mTypeError\u001b[0m: 'int' object is not callable"
          ]
        }
      ]
    },
    {
      "cell_type": "code",
      "source": [
        "# second largest\n",
        "a = int(input())\n",
        "b = []\n",
        "for i in range(a):\n",
        "  elem = int(input())\n",
        "  b.append(elem)\n",
        "\n",
        "b.sort()\n",
        "print(b[-2:])"
      ],
      "metadata": {
        "colab": {
          "base_uri": "https://localhost:8080/"
        },
        "id": "CRe0eKDx-KZZ",
        "outputId": "c3b3d3d7-fb66-48a7-8071-87d39c5e63c6"
      },
      "execution_count": null,
      "outputs": [
        {
          "output_type": "stream",
          "name": "stdout",
          "text": [
            "5\n",
            "5\n",
            "4\n",
            "3\n",
            "2\n",
            "1\n",
            "[4, 5]\n"
          ]
        }
      ]
    },
    {
      "cell_type": "code",
      "source": [
        "a = int(input())\n",
        "lst = []\n",
        "for i in range(a):\n",
        "  elem = int(input())\n",
        "  lst.append(elem)\n",
        "\n",
        "lst.sort()\n",
        "inp = int(input(\"no of largest elem: \"))\n",
        "for i in range(1,inp+1):\n",
        "  print(lst[-i], end = \" \")"
      ],
      "metadata": {
        "colab": {
          "base_uri": "https://localhost:8080/"
        },
        "id": "5NgTQh6kXM1C",
        "outputId": "578100e6-cadb-4052-9ffd-010e6a0689ab"
      },
      "execution_count": null,
      "outputs": [
        {
          "output_type": "stream",
          "name": "stdout",
          "text": [
            "5\n",
            "5\n",
            "4\n",
            "1\n",
            "2\n",
            "3\n",
            "no of largest elem: 2\n",
            "5 4 "
          ]
        }
      ]
    },
    {
      "cell_type": "code",
      "source": [
        "# even no\n",
        "a1 = int(input())\n",
        "inp1 = []\n",
        "for i in range(a1):\n",
        "  elem = int(input())\n",
        "  inp1.append(elem)\n",
        "\n",
        "for i in inp1:\n",
        "  if i % 2 == 0:\n",
        "    print(i)\n"
      ],
      "metadata": {
        "colab": {
          "base_uri": "https://localhost:8080/"
        },
        "id": "jOjH_JpBbGPS",
        "outputId": "91d35d0e-fc80-4376-d2e8-842eeba4829a"
      },
      "execution_count": null,
      "outputs": [
        {
          "output_type": "stream",
          "name": "stdout",
          "text": [
            "5\n",
            "55\n",
            "44\n",
            "11\n",
            "22\n",
            "33\n",
            "44\n",
            "22\n"
          ]
        }
      ]
    },
    {
      "cell_type": "code",
      "source": [
        "# odd num\n",
        "ins = int(input())\n",
        "b = []\n",
        "for i in range(ins):\n",
        "  elem = int(input())\n",
        "  b.append(elem)\n",
        "\n",
        "for i in b:\n",
        "  if i % 2 == 1:\n",
        "    print(i, end = \" \")"
      ],
      "metadata": {
        "colab": {
          "base_uri": "https://localhost:8080/"
        },
        "id": "uaW-71hwgHit",
        "outputId": "ecf0de36-e5cf-4ddf-a872-36b767a9b619"
      },
      "execution_count": null,
      "outputs": [
        {
          "output_type": "stream",
          "name": "stdout",
          "text": [
            "5\n",
            "55\n",
            "44\n",
            "77\n",
            "88\n",
            "99\n",
            "55 77 99 "
          ]
        }
      ]
    },
    {
      "cell_type": "code",
      "source": [
        "# removing empty list from lists\n",
        "ins = int(input())\n",
        "b = []\n",
        "for i in range(ins):\n",
        "  elem = input()\n",
        "  b.append(elem)\n",
        "\n",
        "print(b)\n",
        "z = [elem for elem in b if elem != '[]']\n",
        "print(z)"
      ],
      "metadata": {
        "colab": {
          "base_uri": "https://localhost:8080/"
        },
        "id": "0fgLGxyUhHyI",
        "outputId": "78df1eb6-b196-4869-ccbd-bbe87821fa8d"
      },
      "execution_count": null,
      "outputs": [
        {
          "output_type": "stream",
          "name": "stdout",
          "text": [
            "5\n",
            "55\n",
            "[]\n",
            "44\n",
            "[]\n",
            "33\n",
            "['55', '[]', '44', '[]', '33']\n",
            "['55', '44', '33']\n"
          ]
        }
      ]
    },
    {
      "cell_type": "code",
      "source": [
        "# cloning or copying a lsit\n",
        "a = int(input())\n",
        "inp = []\n",
        "for i in range(a):\n",
        "  elem = int(input())\n",
        "  inp.append(elem)\n",
        "\n",
        "cloned_list = inp\n",
        "print(cloned_list)"
      ],
      "metadata": {
        "colab": {
          "base_uri": "https://localhost:8080/"
        },
        "id": "VCYwrvSFpXPI",
        "outputId": "416c034b-c180-48fd-ae1b-7760187c78a7"
      },
      "execution_count": null,
      "outputs": [
        {
          "output_type": "stream",
          "name": "stdout",
          "text": [
            "5\n",
            "1\n",
            "2\n",
            "3\n",
            "4\n",
            "5\n",
            "[1, 2, 3, 4, 5]\n"
          ]
        }
      ]
    },
    {
      "cell_type": "code",
      "source": [
        "# count occurance of an element\n",
        "a = int(input())\n",
        "b = []\n",
        "for i in range(a):\n",
        "  elem = int(input())\n",
        "  b.append(elem)\n",
        "\n",
        "x = b.count(5)\n",
        "print(f\"count of elem is  {x}\")"
      ],
      "metadata": {
        "colab": {
          "base_uri": "https://localhost:8080/"
        },
        "id": "4-1d5aMdqU5Q",
        "outputId": "39558ec3-93b3-4e88-dcab-bc7dd42edd38"
      },
      "execution_count": null,
      "outputs": [
        {
          "name": "stdout",
          "output_type": "stream",
          "text": [
            "8\n",
            "4\n",
            "5\n",
            "2\n",
            "5\n",
            "3\n",
            "5\n",
            "5\n",
            "5\n"
          ]
        }
      ]
    },
    {
      "cell_type": "code",
      "source": [
        "# find words greator than given length\n",
        "inp = input('your sentence: ').split(\" \")\n",
        "\n",
        "length = int(input())\n",
        "lst_of_words = [word for word in inp]\n",
        "\n",
        "for word in lst_of_words:\n",
        "  if len(word) > length:\n",
        "    print(word, end=\" \")\n"
      ],
      "metadata": {
        "colab": {
          "base_uri": "https://localhost:8080/"
        },
        "id": "gKPZPnkrNk2e",
        "outputId": "1fd9202b-28d4-4df3-d5f9-2b4bcd992c4e"
      },
      "execution_count": null,
      "outputs": [
        {
          "output_type": "stream",
          "name": "stdout",
          "text": [
            "your sentence: uday kant is\n",
            "2\n",
            "uday kant "
          ]
        }
      ]
    },
    {
      "cell_type": "code",
      "source": [
        "# removing ith character from a string\n",
        "inp = input()\n",
        "str_new = \"\"\n",
        "ith = int(input())\n",
        "for i in range(len(inp)):\n",
        "  if i != ith:\n",
        "    str_new += inp[i]\n",
        "\n",
        "print(str_new)\n",
        "\n"
      ],
      "metadata": {
        "id": "jMcbCGk7QNrI",
        "colab": {
          "base_uri": "https://localhost:8080/"
        },
        "outputId": "12cc1c8d-6659-44fe-bfdb-14112f000c52"
      },
      "execution_count": null,
      "outputs": [
        {
          "output_type": "stream",
          "name": "stdout",
          "text": [
            "udaykant\n",
            "5\n",
            "udayknt\n"
          ]
        }
      ]
    },
    {
      "cell_type": "code",
      "source": [
        "# split and join the string\n",
        "inp = input().split(\" \")\n",
        "inp2 = input(\"delimiter: \")\n",
        "result = inp2.join(inp)\n",
        "print(result)\n"
      ],
      "metadata": {
        "colab": {
          "base_uri": "https://localhost:8080/"
        },
        "id": "Qe-6qO9IgE3w",
        "outputId": "beaeee96-1e10-4e50-9efe-cbd7e8780c3c"
      },
      "execution_count": null,
      "outputs": [
        {
          "output_type": "stream",
          "name": "stdout",
          "text": [
            "uday kant\n",
            "delimiter: *\n",
            "uday*kant\n"
          ]
        }
      ]
    },
    {
      "cell_type": "code",
      "source": [
        "# find uncommon words from two string\n",
        "inp1 = input().split(\" \")\n",
        "inp2 = input().split(\" \")\n",
        "new_str = \"\"\n",
        "for i in inp1:\n",
        "  if i not in inp2:\n",
        "    new_str += i\n",
        "\n",
        "for j in inp2:\n",
        "  if j not in inp1:\n",
        "    new_str += j\n",
        "\n",
        "print(new_str)\n",
        "\n"
      ],
      "metadata": {
        "colab": {
          "base_uri": "https://localhost:8080/"
        },
        "id": "AxtBMoG5iN9y",
        "outputId": "8814c12a-6249-47ea-dcce-1f5cd13bd115"
      },
      "execution_count": null,
      "outputs": [
        {
          "output_type": "stream",
          "name": "stdout",
          "text": [
            "uday kant\n",
            "uday bgp\n",
            "kantbgp\n"
          ]
        }
      ]
    },
    {
      "cell_type": "code",
      "source": [
        "# to check string is binary or not\n",
        "strng = input()\n",
        "compare_set = {\"0\", \"1\"}\n",
        "a =set(strng)\n",
        "\n",
        "if a == compare_set or a == '0' or a =='1':\n",
        "  print(\"string is binary\")\n",
        "else:\n",
        "  print(\"string is not binary\")"
      ],
      "metadata": {
        "id": "xbRnKib4km8H",
        "colab": {
          "base_uri": "https://localhost:8080/"
        },
        "outputId": "a3082ef9-9210-451f-f8c6-ba266af396eb"
      },
      "execution_count": null,
      "outputs": [
        {
          "output_type": "stream",
          "name": "stdout",
          "text": [
            "10110001\n",
            "string is binary\n"
          ]
        }
      ]
    },
    {
      "cell_type": "code",
      "source": [
        "# find all duplicate characters in string\n",
        "inp = input()\n",
        "strs = \"\"\n",
        "for i in range(len(inp)):\n",
        "  for j in range(i+1,len(inp)):\n",
        "    if inp[i] == inp[j]:\n",
        "      strs += inp[i]\n",
        "print(strs)"
      ],
      "metadata": {
        "colab": {
          "base_uri": "https://localhost:8080/"
        },
        "id": "wK_R4A23ETMV",
        "outputId": "43c67e30-f598-4ae0-eac5-1e940563fed7"
      },
      "execution_count": null,
      "outputs": [
        {
          "output_type": "stream",
          "name": "stdout",
          "text": [
            "abcdab\n",
            "ab\n"
          ]
        }
      ]
    },
    {
      "cell_type": "code",
      "source": [
        "# program to check special character in string\n",
        "strs = input()\n",
        "new_strs = \"\"\n",
        "spl_char = '[\"#$!@%^&*();:''<>,./\\\"]'\n",
        "for i in strs:\n",
        "  if i not in spl_char:\n",
        "    new_strs += i\n",
        "\n",
        "print(new_strs)"
      ],
      "metadata": {
        "colab": {
          "base_uri": "https://localhost:8080/"
        },
        "id": "JhO6r076Idn2",
        "outputId": "4ce7debe-da3c-468c-d045-7382e9283a16"
      },
      "execution_count": null,
      "outputs": [
        {
          "output_type": "stream",
          "name": "stdout",
          "text": [
            "uday@bce\n",
            "udaybce\n"
          ]
        }
      ]
    },
    {
      "cell_type": "code",
      "source": [
        "# dicitionary :- extract unique values of dicitionary\n",
        "dic = {}\n",
        "for i in range(2):\n",
        "  key = input(\"key: \")\n",
        "  value= input(\"value: \").split(',')\n",
        "\n",
        "  dic[key] = value\n",
        "\n",
        "print(dic)\n",
        "result = ''\n",
        "for i in dic.values():\n",
        "  for j in i:\n",
        "    result += j\n",
        "t = set(result)\n",
        "print(sorted(t))\n"
      ],
      "metadata": {
        "colab": {
          "base_uri": "https://localhost:8080/"
        },
        "id": "YGzUSS5K776H",
        "outputId": "6b762968-28ac-4679-ddeb-5181e72fd558"
      },
      "execution_count": null,
      "outputs": [
        {
          "output_type": "stream",
          "name": "stdout",
          "text": [
            "key: a\n",
            "value: 1,2,3\n",
            "key: b\n",
            "value: 2,3,4\n",
            "{'a': ['1', '2', '3'], 'b': ['2', '3', '4']}\n",
            "['1', '2', '3', '4']\n"
          ]
        }
      ]
    },
    {
      "cell_type": "code",
      "source": [
        "s = [2,4,3,6,1]\n",
        "y = sorted(s)\n",
        "print(y)"
      ],
      "metadata": {
        "colab": {
          "base_uri": "https://localhost:8080/"
        },
        "id": "FzU60j6AO5sG",
        "outputId": "84124fd2-a848-4002-94de-6989f894f26f"
      },
      "execution_count": null,
      "outputs": [
        {
          "output_type": "stream",
          "name": "stdout",
          "text": [
            "[1, 2, 3, 4, 6]\n"
          ]
        }
      ]
    },
    {
      "cell_type": "code",
      "source": [
        "# find the sum of all items in a dicitionary\n",
        "dict1 = {}\n",
        "for i in range(2):\n",
        "  key = input(\"key: \")\n",
        "  values = int(input(\"val: \"))\n",
        "\n",
        "  dict1[key] = values\n",
        "\n",
        "result = sum(dict1.values())\n",
        "print(result)\n",
        "\n"
      ],
      "metadata": {
        "colab": {
          "base_uri": "https://localhost:8080/"
        },
        "id": "hdwtfKhCAzqJ",
        "outputId": "12fe0c78-93ef-414c-e6da-bb58ef0153d6"
      },
      "execution_count": null,
      "outputs": [
        {
          "output_type": "stream",
          "name": "stdout",
          "text": [
            "key: a\n",
            "val: 123\n",
            "key: b\n",
            "val: 234\n",
            "357\n"
          ]
        }
      ]
    },
    {
      "cell_type": "code",
      "source": [
        "# merging two dicitionary\n",
        "dict1 = {\"a\":123,\"b\":234,\"c\":125}\n",
        "dict2 = {\"d\":456, \"e\" : 732}\n",
        "\n",
        "dict1.update(dict2)\n",
        "print(dict1)"
      ],
      "metadata": {
        "colab": {
          "base_uri": "https://localhost:8080/"
        },
        "id": "4ZapLWELIKnV",
        "outputId": "9c9435fc-25fa-4893-a58a-c1e4f9d530a9"
      },
      "execution_count": null,
      "outputs": [
        {
          "output_type": "stream",
          "name": "stdout",
          "text": [
            "{'a': 123, 'b': 234, 'c': 125, 'd': 456, 'e': 732}\n"
          ]
        }
      ]
    },
    {
      "cell_type": "code",
      "source": [
        "# key values list to flat dicitionary\n",
        "dict1 = {}\n",
        "num = 2\n",
        "while len(dict1) < num:\n",
        "  key = input(\"key: \")\n",
        "  value = input(\"value: \").split(\",\")\n",
        "  dict1[key] = value\n",
        "\n",
        "new_dict = dict(zip(dict1['month'], dict1['name']))\n",
        "print(new_dict)"
      ],
      "metadata": {
        "colab": {
          "base_uri": "https://localhost:8080/"
        },
        "id": "9Q_8S0syKrrl",
        "outputId": "a2501dad-d415-4578-d2e3-aa63f3490743"
      },
      "execution_count": null,
      "outputs": [
        {
          "output_type": "stream",
          "name": "stdout",
          "text": [
            "key: name\n",
            "value: jan,feb\n",
            "key: month\n",
            "value: 1,2\n",
            "{'1': 'jan', '2': 'feb'}\n"
          ]
        }
      ]
    },
    {
      "cell_type": "code",
      "source": [
        "g = dict()\n",
        "for x in enumerate(range(2)):\n",
        "  g[x[0]] = x[1]\n",
        "  g[x[1]+7] = x[0]\n",
        "\n",
        "print(g)"
      ],
      "metadata": {
        "colab": {
          "base_uri": "https://localhost:8080/"
        },
        "id": "JSQB6aX0vQE5",
        "outputId": "462722e4-5dc7-4447-d17b-b782d72ec683"
      },
      "execution_count": null,
      "outputs": [
        {
          "output_type": "stream",
          "name": "stdout",
          "text": [
            "{0: 0, 7: 0, 1: 1, 8: 1}\n"
          ]
        }
      ]
    },
    {
      "cell_type": "code",
      "source": [
        "D = list((input()).split(','))\n",
        "C = 50\n",
        "H = 30\n",
        "for elem in D:\n",
        "  Q = ((2*C*int(elem))/H)**0.5\n",
        "  print(int(Q), end =\" \")"
      ],
      "metadata": {
        "id": "HYq87nUqvme4",
        "colab": {
          "base_uri": "https://localhost:8080/"
        },
        "outputId": "7885b3db-38d2-443c-f23b-3aee35c07e62"
      },
      "execution_count": null,
      "outputs": [
        {
          "output_type": "stream",
          "name": "stdout",
          "text": [
            "100,150,180\n",
            "18 22 24 "
          ]
        }
      ]
    },
    {
      "cell_type": "code",
      "source": [
        "# program to generate 2d array\n",
        "rows = int(input())\n",
        "cols = int(input())\n",
        "arr = [[i*j for i in range(cols)] for j in range(rows)]\n",
        "print(arr)"
      ],
      "metadata": {
        "colab": {
          "base_uri": "https://localhost:8080/"
        },
        "id": "l2jbAq2LTrlb",
        "outputId": "1a2b4cac-f1a7-465d-87bc-b0e7bbe783df"
      },
      "execution_count": null,
      "outputs": [
        {
          "output_type": "stream",
          "name": "stdout",
          "text": [
            "3\n",
            "5\n",
            "[[0, 0, 0, 0, 0], [0, 1, 2, 3, 4], [0, 2, 4, 6, 8]]\n"
          ]
        }
      ]
    },
    {
      "cell_type": "code",
      "source": [
        "# Write a program that accepts a comma separated sequence of words as input and prints the words in a comma-separated sequence after sorting them alphabetically.\n",
        "inp = input().split(\",\")\n",
        "inp.sort()\n",
        "print(\",\".join(inp))\n",
        "\n",
        "\n"
      ],
      "metadata": {
        "colab": {
          "base_uri": "https://localhost:8080/"
        },
        "id": "GVzfpS9zwOF0",
        "outputId": "45b0be3b-5840-40d9-dc83-c8ebb24087c8"
      },
      "execution_count": null,
      "outputs": [
        {
          "output_type": "stream",
          "name": "stdout",
          "text": [
            "without,hello,bag,world\n",
            "bag,hello,without,world\n"
          ]
        }
      ]
    },
    {
      "cell_type": "code",
      "source": [
        "# Write a program that accepts a sequence of whitespace separated words as input and prints the words after removing all duplicate words and sorting them alphanumerically.\n",
        "inp = input().split( )\n",
        "lst = []\n",
        "for i in inp:\n",
        "  if i not in lst:\n",
        "    lst.append(i)\n",
        "  else:\n",
        "    continue\n",
        "\n",
        "lst.sort()\n",
        "print(\" \".join(lst))\n",
        "\n",
        "\n"
      ],
      "metadata": {
        "colab": {
          "base_uri": "https://localhost:8080/"
        },
        "id": "lw96g0N76UKI",
        "outputId": "5b863342-11c1-4a99-c649-40f6f6fb75a9"
      },
      "execution_count": null,
      "outputs": [
        {
          "output_type": "stream",
          "name": "stdout",
          "text": [
            "hello world and practice makes perfect and hello world again\n",
            "again and hello makes perfect practice world\n"
          ]
        }
      ]
    },
    {
      "cell_type": "code",
      "source": [
        "# Write a program that accepts a sentence and calculate the number of letters and digits.Suppose the following input is supplied to the program:\n",
        "inp = input()\n",
        "alphabets = \"abcdefghijklmnopqrstuvwxyzABCDEFGHIJKLMNOPQRSTUVWXYZ\"\n",
        "num = \"1234567890\"\n",
        "letters = 0\n",
        "digits = 0\n",
        "for i in inp:\n",
        "  if i in alphabets:\n",
        "    letters += 1\n",
        "  elif i in num:\n",
        "    digits += 1\n",
        "  else:\n",
        "    continue\n",
        "\n",
        "print(\"letters: {}\".format(letters))\n",
        "print(\"digits: {}\".format(digits))\n"
      ],
      "metadata": {
        "colab": {
          "base_uri": "https://localhost:8080/"
        },
        "id": "ZUb15jValpBD",
        "outputId": "fbe80ba0-d3a1-4746-d2d6-33a5f8cf1ad6"
      },
      "execution_count": null,
      "outputs": [
        {
          "output_type": "stream",
          "name": "stdout",
          "text": [
            "hello world! 123\n",
            "letters: 10\n",
            "digits: 3\n"
          ]
        }
      ]
    },
    {
      "cell_type": "code",
      "source": [
        "# A website requires the users to input username and password to register. Write a program to check the validity of password input by users.\n",
        "# Following are the criteria for checking the password:\n",
        "# 1. At least 1 letter between [a-z]\n",
        "# 2. At least 1 number between [0-9]\n",
        "# 3. At least 1 letter between [A-Z]\n",
        "# 4. At least 1 character from [$#@]\n",
        "# 5. Minimum length of transaction password: 6\n",
        "# 6. Maximum length of transaction password: 12\n",
        "\n",
        "inp = input().split(\",\")\n",
        "val_pswds = \"abcdefghijklmnopqrstuvwxyzABCDEFGHIJKLMNOPQRSTUVWXYZ~!@#$%^&*()_?/:;1234567890\"\n",
        "\n",
        "pswd = []\n",
        "for pswds in inp:\n",
        "  for i in pswds:\n",
        "    if i in val_pswds:\n",
        "      pswd.append(pswds)\n",
        "    else:\n",
        "        continue\n",
        "print(pswd)\n",
        "\n"
      ],
      "metadata": {
        "colab": {
          "base_uri": "https://localhost:8080/"
        },
        "id": "IRolkJLhpUWP",
        "outputId": "3892a517-9a12-452d-a9a7-e651beb807ff"
      },
      "execution_count": null,
      "outputs": [
        {
          "output_type": "stream",
          "name": "stdout",
          "text": [
            "ABd1234@1,a F1#,2w3E*,2We3345\n",
            "['ABd1234@1', 'ABd1234@1', 'ABd1234@1', 'ABd1234@1', 'ABd1234@1', 'ABd1234@1', 'ABd1234@1', 'ABd1234@1', 'ABd1234@1', 'a F1#', 'a F1#', 'a F1#', 'a F1#', '2w3E*', '2w3E*', '2w3E*', '2w3E*', '2w3E*', '2We3345', '2We3345', '2We3345', '2We3345', '2We3345', '2We3345', '2We3345']\n"
          ]
        }
      ]
    },
    {
      "cell_type": "markdown",
      "source": [
        "Pattern Matching\n"
      ],
      "metadata": {
        "id": "lZMUlchheXKc"
      }
    },
    {
      "cell_type": "code",
      "source": [
        "# left side triangle\n",
        "inp = int(input())\n",
        "for i in range(inp):\n",
        "  for j in range(i+1):\n",
        "    print('*',end = \" \")\n",
        "  print()"
      ],
      "metadata": {
        "colab": {
          "base_uri": "https://localhost:8080/"
        },
        "id": "D_hgnFUiev3h",
        "outputId": "ab61f7bd-8749-4f8f-e647-f37c76ab7ef5"
      },
      "execution_count": null,
      "outputs": [
        {
          "output_type": "stream",
          "name": "stdout",
          "text": [
            "3\n",
            "* \n",
            "* * \n",
            "* * * \n"
          ]
        }
      ]
    },
    {
      "cell_type": "code",
      "source": [
        "# odd stars in triangle\n",
        "inp = int(input())\n",
        "k = 1\n",
        "for i in range(inp):\n",
        "  for j in range(1,k+1):\n",
        "    print(\"*\", end =\" \")\n",
        "  k += 2\n",
        "  print()"
      ],
      "metadata": {
        "colab": {
          "base_uri": "https://localhost:8080/"
        },
        "id": "wyzR1M0Qfo3l",
        "outputId": "d388376e-df3c-45e0-e324-e7ad911e9789"
      },
      "execution_count": null,
      "outputs": [
        {
          "output_type": "stream",
          "name": "stdout",
          "text": [
            "3\n",
            "* \n",
            "* * * \n",
            "* * * * * \n"
          ]
        }
      ]
    },
    {
      "cell_type": "code",
      "source": [
        "# print pyramid shape\n",
        "inp = int(input())\n",
        "for i in range(inp):\n",
        "  for j in range(inp-i-1):\n",
        "    print(end = \" \")\n",
        "  for j in range(i+1):\n",
        "    print(\"*\", end = \" \")\n",
        "  print()"
      ],
      "metadata": {
        "colab": {
          "base_uri": "https://localhost:8080/"
        },
        "id": "Nk00VgrikdT_",
        "outputId": "553bee34-2f9f-480d-bb34-92c19096a13f"
      },
      "execution_count": null,
      "outputs": [
        {
          "output_type": "stream",
          "name": "stdout",
          "text": [
            "4\n",
            "   * \n",
            "  * * \n",
            " * * * \n",
            "* * * * \n"
          ]
        }
      ]
    },
    {
      "cell_type": "code",
      "source": [
        "# reverse pyramid\n",
        "inp = int(input())\n",
        "for i in range(inp):\n",
        "  for j in range(i):\n",
        "    print(end = \" \")\n",
        "  for j in range(inp-i):\n",
        "    print(\"*\", end = \" \")\n",
        "  print()\n"
      ],
      "metadata": {
        "colab": {
          "base_uri": "https://localhost:8080/"
        },
        "id": "cFxX_1MZntkj",
        "outputId": "36ebb7c2-2d91-4741-ef98-738249b1c83b"
      },
      "execution_count": null,
      "outputs": [
        {
          "output_type": "stream",
          "name": "stdout",
          "text": [
            "4\n",
            "* * * * \n",
            " * * * \n",
            "  * * \n",
            "   * \n"
          ]
        }
      ]
    },
    {
      "cell_type": "code",
      "source": [
        "# print in diamond shape\n",
        "def pyramid(inp):\n",
        "  for i in range(inp):\n",
        "    print(\" \"*(inp-i-1) + \"* \"*(i+1))\n",
        "  for j in range(inp-1,0,-1):\n",
        "    print(\" \"*(inp-j) + \"* \"*j)\n",
        "\n",
        "pyramid(5)\n"
      ],
      "metadata": {
        "id": "Ej22S1IdqYvG",
        "colab": {
          "base_uri": "https://localhost:8080/"
        },
        "outputId": "fce1d1b3-608d-48cd-8b63-daad9dbce49f"
      },
      "execution_count": null,
      "outputs": [
        {
          "output_type": "stream",
          "name": "stdout",
          "text": [
            "    * \n",
            "   * * \n",
            "  * * * \n",
            " * * * * \n",
            "* * * * * \n",
            " * * * * \n",
            "  * * * \n",
            "   * * \n",
            "    * \n"
          ]
        }
      ]
    },
    {
      "cell_type": "code",
      "source": [
        "inp = int(input())\n",
        "for i in range(inp):\n",
        "  for j in range(inp-i):\n",
        "    print(\"*\", end= \" \")\n",
        "  print()"
      ],
      "metadata": {
        "colab": {
          "base_uri": "https://localhost:8080/"
        },
        "id": "2KfFmpjGy1wB",
        "outputId": "deb37bcf-589a-4686-ecf5-ca7c80f8cce5"
      },
      "execution_count": null,
      "outputs": [
        {
          "output_type": "stream",
          "name": "stdout",
          "text": [
            "5\n",
            "* * * * * \n",
            "* * * * \n",
            "* * * \n",
            "* * \n",
            "* \n"
          ]
        }
      ]
    },
    {
      "cell_type": "code",
      "source": [
        "for row in range(7):\n",
        "  for col in range(5):\n",
        "    if ((col == 0 or col == 4) and row != 0) or ((row == 0 or row == 3) and (col > 0 and col < 4)):\n",
        "      print(\"*\", end =\"\")\n",
        "    else:\n",
        "      print(end = \" \")\n",
        "\n",
        "  print()\n"
      ],
      "metadata": {
        "colab": {
          "base_uri": "https://localhost:8080/"
        },
        "id": "1eLwYAY6zgqL",
        "outputId": "392fa93c-8027-47ab-ac6d-a234f29e30da"
      },
      "execution_count": null,
      "outputs": [
        {
          "output_type": "stream",
          "name": "stdout",
          "text": [
            " *** \n",
            "*   *\n",
            "*   *\n",
            "*****\n",
            "*   *\n",
            "*   *\n",
            "*   *\n"
          ]
        }
      ]
    },
    {
      "cell_type": "code",
      "source": [
        "n = int(input())\n",
        "i=1\n",
        "\n",
        "while i <= n:\n",
        "    j=1\n",
        "    while j <= i:\n",
        "        if i == 1:\n",
        "            print(1,end ='')\n",
        "\n",
        "        elif j == 1 or j == i:\n",
        "            print(i-1,end ='')\n",
        "\n",
        "        else:\n",
        "            print(0,end='')\n",
        "\n",
        "        j=j+1\n",
        "    print()\n",
        "    i=i+1"
      ],
      "metadata": {
        "colab": {
          "base_uri": "https://localhost:8080/"
        },
        "id": "4PTyjEQcIE9b",
        "outputId": "7580b47f-ab4f-4c14-ffcd-298282040cdf"
      },
      "execution_count": null,
      "outputs": [
        {
          "output_type": "stream",
          "name": "stdout",
          "text": [
            "5\n",
            "1\n",
            "11\n",
            "202\n",
            "3003\n",
            "40004\n"
          ]
        }
      ]
    },
    {
      "cell_type": "code",
      "source": [
        "# square alphabet pattern\n",
        "n = int(input())\n",
        "alphabet = 65\n",
        "for i in range(n):\n",
        "  for j in range(n):\n",
        "    print(chr(alphabet + j), end = \"\")\n",
        "  alphabet += 1\n",
        "\n",
        "  print()"
      ],
      "metadata": {
        "colab": {
          "base_uri": "https://localhost:8080/"
        },
        "id": "H1nG1I2-Kb88",
        "outputId": "18f96f67-2410-406d-92a7-4e3ab5af05f4"
      },
      "execution_count": null,
      "outputs": [
        {
          "output_type": "stream",
          "name": "stdout",
          "text": [
            "4\n",
            "ABCD\n",
            "BCDE\n",
            "CDEF\n",
            "DEFG\n"
          ]
        }
      ]
    },
    {
      "cell_type": "code",
      "source": [
        "n = int(input())\n",
        "for i in range(n):\n",
        "  for j in range(n-i):\n",
        "    print(n-i,end =\"\")\n",
        "  print()"
      ],
      "metadata": {
        "colab": {
          "base_uri": "https://localhost:8080/"
        },
        "id": "gR9i_qWsPfh6",
        "outputId": "4e2d6aab-2a79-4988-abab-a68131413f7c"
      },
      "execution_count": null,
      "outputs": [
        {
          "output_type": "stream",
          "name": "stdout",
          "text": [
            "4\n",
            "4444\n",
            "333\n",
            "22\n",
            "1\n"
          ]
        }
      ]
    },
    {
      "cell_type": "code",
      "source": [
        "n = int(input())\n",
        "for i in range(n):\n",
        "  for j in range(n-i-1):\n",
        "    print(\" \",end = \" \")\n",
        "  for j in range(i,-1,-1):\n",
        "    print(j+1, end= \" \")\n",
        "  print()"
      ],
      "metadata": {
        "colab": {
          "base_uri": "https://localhost:8080/"
        },
        "id": "TLkmxQhZR7LA",
        "outputId": "86939228-593a-4550-e9e5-52c989786bd3"
      },
      "execution_count": null,
      "outputs": [
        {
          "output_type": "stream",
          "name": "stdout",
          "text": [
            "4\n",
            "      1 \n",
            "    2 1 \n",
            "  3 2 1 \n",
            "4 3 2 1 \n"
          ]
        }
      ]
    },
    {
      "cell_type": "code",
      "source": [
        "n =5\n",
        "for i in range(n,-1,-1):\n",
        "  print(i)\n"
      ],
      "metadata": {
        "colab": {
          "base_uri": "https://localhost:8080/"
        },
        "id": "08N5OhPaVLAy",
        "outputId": "036eaddf-aae2-4532-bd88-8a5490ffe3f7"
      },
      "execution_count": null,
      "outputs": [
        {
          "output_type": "stream",
          "name": "stdout",
          "text": [
            "5\n",
            "4\n",
            "3\n",
            "2\n",
            "1\n",
            "0\n"
          ]
        }
      ]
    },
    {
      "cell_type": "code",
      "source": [
        "n = int(input())\n",
        "for i in range(n):\n",
        "  for j in range(i):\n",
        "    print(\" \", end= \"\")\n",
        "  for j in range(n-i):\n",
        "    print(j+i+1,end=\"\")\n",
        "  print()\n",
        "for i in range(n-2,-1,-1):\n",
        "  for j in range(i):\n",
        "    print(\" \",end = \"\")\n",
        "  for j in range(n-i):\n",
        "    print(j+i+1, end =\"\")\n",
        "  print()\n"
      ],
      "metadata": {
        "id": "sOax2lHGVR0x",
        "colab": {
          "base_uri": "https://localhost:8080/"
        },
        "outputId": "a64d9f14-c13e-4d06-f623-f20a035c8ed7"
      },
      "execution_count": null,
      "outputs": [
        {
          "output_type": "stream",
          "name": "stdout",
          "text": [
            "5\n",
            "12345\n",
            " 2345\n",
            "  345\n",
            "   45\n",
            "    5\n",
            "   45\n",
            "  345\n",
            " 2345\n",
            "12345\n"
          ]
        }
      ]
    },
    {
      "cell_type": "code",
      "source": [
        "def print_pattern(n):\n",
        "    for i in range(n):\n",
        "        for j in range(i):\n",
        "            print(\" \", end=\"\")\n",
        "        for k in range(n - i):\n",
        "            print(k + i + 1, end=\"\")\n",
        "        print()\n",
        "\n",
        "    for i in range(n - 2, -1, -1):\n",
        "        for j in range(i):\n",
        "            print(\" \", end=\"\")\n",
        "        for k in range(n - i):\n",
        "            print(k + i + 1, end=\"\")\n",
        "        print()\n",
        "\n",
        "n = 5  # Number of rows in the pattern\n",
        "print_pattern(n)\n",
        "\n"
      ],
      "metadata": {
        "colab": {
          "base_uri": "https://localhost:8080/"
        },
        "id": "eNOnFwgzbE14",
        "outputId": "220c4171-785e-43b2-bb97-3a18533cf246"
      },
      "execution_count": null,
      "outputs": [
        {
          "output_type": "stream",
          "name": "stdout",
          "text": [
            "12345\n",
            " 2345\n",
            "  345\n",
            "   45\n",
            "    5\n",
            "   45\n",
            "  345\n",
            " 2345\n",
            "12345\n"
          ]
        }
      ]
    },
    {
      "cell_type": "code",
      "source": [
        "n = int(input('Enter the number:'))\n",
        "i = 0\n",
        "while i <= n - 1:\n",
        "    j = 0\n",
        "    while j < i:\n",
        "        # display space\n",
        "        print('', end= ' ')\n",
        "        j += 1\n",
        "    k = i\n",
        "    while k <= n - 1:\n",
        "        print(k+1, end= '')\n",
        "        k += 1\n",
        "    print()\n",
        "    i += 1\n",
        "\n",
        "i = n - 1\n",
        "while i >= 0:\n",
        "    j = 0\n",
        "    while j < i:\n",
        "        print('', end= ' ')\n",
        "        j += 1\n",
        "    k = i\n",
        "    while k <=  n - 1:\n",
        "        print(k+1, end= '')\n",
        "        k += 1\n",
        "    print('')\n",
        "    i -= 1"
      ],
      "metadata": {
        "colab": {
          "base_uri": "https://localhost:8080/"
        },
        "id": "bi8Ix_deXGGo",
        "outputId": "b914078f-084c-4320-f435-cd4477579e10"
      },
      "execution_count": null,
      "outputs": [
        {
          "output_type": "stream",
          "name": "stdout",
          "text": [
            "Enter the number:5\n",
            "12345\n",
            " 2345\n",
            "  345\n",
            "   45\n",
            "    5\n",
            "    5\n",
            "   45\n",
            "  345\n",
            " 2345\n",
            "12345\n"
          ]
        }
      ]
    },
    {
      "cell_type": "code",
      "source": [
        "n = int(input())\n",
        "for i in range(1,n+1):\n",
        "  for k in range(i,1,-1):\n",
        "    print((k*n)+i,end = \"\")\n",
        "  for j in range(1,n+1):\n",
        "    print(j,end= \"\")\n",
        "\n",
        "  print()"
      ],
      "metadata": {
        "colab": {
          "base_uri": "https://localhost:8080/"
        },
        "id": "zW1pE5hgsYKN",
        "outputId": "f818305c-60b6-4045-d342-ad815ff1b23a"
      },
      "execution_count": null,
      "outputs": [
        {
          "output_type": "stream",
          "name": "stdout",
          "text": [
            "5\n",
            "12345\n",
            "1212345\n",
            "181312345\n",
            "24191412345\n",
            "3025201512345\n"
          ]
        }
      ]
    },
    {
      "cell_type": "code",
      "source": [
        "n = int(input())\n",
        "upper = int(n/2)+1\n",
        "lower = n - upper\n",
        "start_i_lower = 0\n",
        "\n",
        "for i in range(0, upper):\n",
        "  if i != 0:\n",
        "    i = i + i\n",
        "  start = n*i + 1\n",
        "  end = start + n\n",
        "\n",
        "  for j in range(start, end):\n",
        "    print(j, end =\" \")\n",
        "  start_i_lower = i\n",
        "  print()\n",
        "\n",
        "start_i_lower -= 1\n",
        "\n",
        "for i in range(0, lower):\n",
        "  if(n%2 == 0):\n",
        "    start_i_lower -= 1\n",
        "\n",
        "  start = n*(start_i_lower-1) + 1\n",
        "  end = start + n\n",
        "\n",
        "  for j in range(1, n+1):\n",
        "        print(j+n, end =\" \")\n",
        "\n",
        "  print()"
      ],
      "metadata": {
        "colab": {
          "base_uri": "https://localhost:8080/"
        },
        "id": "w0_bFMoN76VQ",
        "outputId": "9250be19-3784-492b-f8e3-96de086ce15d"
      },
      "execution_count": null,
      "outputs": [
        {
          "output_type": "stream",
          "name": "stdout",
          "text": [
            "5\n",
            "1 2 3 4 5 \n",
            "11 12 13 14 15 \n",
            "21 22 23 24 25 \n",
            "6 7 8 9 10 \n",
            "6 7 8 9 10 \n"
          ]
        }
      ]
    },
    {
      "cell_type": "code",
      "source": [
        "n = 5\n",
        "h = 0\n",
        "d = int(n/2)+1\n",
        "for r in range(0, n):\n",
        "\ts=''\n",
        "\tfor c in range(1, n+1):\n",
        "\t\tif r<d:\n",
        "\t\t\th = r*2\n",
        "\t\telif r==d:\n",
        "\t\t\th = d\n",
        "\t\telse:\n",
        "\t\t\th = int(d/3)\n",
        "\t\ts+=str(h*n+c) + ' '\n",
        "\tprint(s)"
      ],
      "metadata": {
        "colab": {
          "base_uri": "https://localhost:8080/"
        },
        "id": "gj9oHpzJ8LKJ",
        "outputId": "e3d253a8-eae7-487b-9ee3-05892739ffcd"
      },
      "execution_count": null,
      "outputs": [
        {
          "output_type": "stream",
          "name": "stdout",
          "text": [
            "1 2 3 4 5 \n",
            "11 12 13 14 15 \n",
            "21 22 23 24 25 \n",
            "16 17 18 19 20 \n",
            "6 7 8 9 10 \n"
          ]
        }
      ]
    },
    {
      "cell_type": "code",
      "source": [
        "import math\n",
        "\n",
        "n = int(input())\n",
        "\n",
        "for i in range(math.ceil(n/2)):\n",
        "\n",
        "  for j in range(1, n+1):\n",
        "\n",
        "    print( n*2*i + j, end =\" \")\n",
        "\n",
        "  print ()\n",
        "\n",
        "  for i in range(int(n/2),0, -1):\n",
        "\n",
        "    for j in range( 1, n+1):\n",
        "\n",
        "      print(n*(2*i-1) + j, end =\" \")\n",
        "\n",
        "  print()"
      ],
      "metadata": {
        "colab": {
          "base_uri": "https://localhost:8080/"
        },
        "id": "426xR3flAuI_",
        "outputId": "2016f715-5c73-4510-e968-23fb6a7303a4"
      },
      "execution_count": null,
      "outputs": [
        {
          "output_type": "stream",
          "name": "stdout",
          "text": [
            "5\n",
            "1 2 3 4 5 \n",
            "16 17 18 19 20 6 7 8 9 10 \n",
            "11 12 13 14 15 \n",
            "16 17 18 19 20 6 7 8 9 10 \n",
            "21 22 23 24 25 \n",
            "16 17 18 19 20 6 7 8 9 10 \n"
          ]
        }
      ]
    },
    {
      "cell_type": "code",
      "source": [
        "n = int(input())\n",
        "for i in range(n):\n",
        "  for j in range(n-i):\n",
        "    print(\" \", end =\"\")\n",
        "  for j in range(2*i+1):\n",
        "    if j==0 or j==2*i or i == n-1:\n",
        "      print(\"*\", end =\"\")\n",
        "    else:\n",
        "      print(\" \",end=\"\")\n",
        "  print()"
      ],
      "metadata": {
        "colab": {
          "base_uri": "https://localhost:8080/"
        },
        "id": "z0KxM2s0CxUz",
        "outputId": "59882d58-1cbf-4821-b331-8f68a83c2ef4"
      },
      "execution_count": null,
      "outputs": [
        {
          "output_type": "stream",
          "name": "stdout",
          "text": [
            "2\n",
            "  *\n",
            " ***\n"
          ]
        }
      ]
    },
    {
      "cell_type": "code",
      "source": [
        "def print_pattern():\n",
        "    rows = 5\n",
        "    spaces = rows - 1\n",
        "    stars = 1\n",
        "\n",
        "    for i in range(rows):\n",
        "        # Print spaces\n",
        "        for j in range(spaces):\n",
        "            print(\" \", end=\"\")\n",
        "\n",
        "        # Print stars\n",
        "        for j in range(stars):\n",
        "            if i == rows - 1:\n",
        "                print(\"*\", end=\"\")\n",
        "            else:\n",
        "                if j == 0 or j == stars - 1:\n",
        "                    print(\"*\", end=\"\")\n",
        "                else:\n",
        "                    print(\" \", end=\"\")\n",
        "\n",
        "        print()\n",
        "        spaces -= 1\n",
        "        stars += 2\n",
        "\n",
        "print_pattern()\n"
      ],
      "metadata": {
        "colab": {
          "base_uri": "https://localhost:8080/"
        },
        "id": "cEKr06z-tlgv",
        "outputId": "433ed8a0-33ab-4f10-cc47-f095b150e520"
      },
      "execution_count": null,
      "outputs": [
        {
          "output_type": "stream",
          "name": "stdout",
          "text": [
            "    *\n",
            "   * *\n",
            "  *   *\n",
            " *     *\n",
            "*********\n"
          ]
        }
      ]
    },
    {
      "cell_type": "code",
      "source": [
        "n = int(input())\n",
        "for i in range(n):\n",
        "    for j in range(n-i):\n",
        "        print(\" \", end = \"\")\n",
        "    for k in range(i+1):\n",
        "        print(\"*\", end =\"\")\n",
        "    print()\n",
        "for i in range(n-1):\n",
        "    for j in range(i+2):\n",
        "        print(\" \",end = \"\")\n",
        "    for k in range(n-i-1):\n",
        "        print(\"*\", end= \"\")\n",
        "    print()"
      ],
      "metadata": {
        "colab": {
          "base_uri": "https://localhost:8080/"
        },
        "id": "LDU_Sq-R3b3X",
        "outputId": "6dcf52a0-83b7-4d58-82c9-47eacb8d4918"
      },
      "execution_count": null,
      "outputs": [
        {
          "output_type": "stream",
          "name": "stdout",
          "text": [
            "6\n",
            "      *\n",
            "     **\n",
            "    ***\n",
            "   ****\n",
            "  *****\n",
            " ******\n",
            "  *****\n",
            "   ****\n",
            "    ***\n",
            "     **\n",
            "      *\n"
          ]
        }
      ]
    },
    {
      "cell_type": "code",
      "source": [
        "nums = sorted(eval(input()))\n",
        "target= int(input())\n",
        "\n",
        "def searchInsert(nums,target):\n",
        "  for i in range(len(nums)):\n",
        "    if nums[i] == target:\n",
        "      return i\n",
        "    elif nums[i] > target:\n",
        "      return i\n",
        "\n",
        "searchInsert(nums, target)\n"
      ],
      "metadata": {
        "colab": {
          "base_uri": "https://localhost:8080/"
        },
        "id": "k1rNsjyzrIJz",
        "outputId": "d8571c79-bccc-41c6-c4fc-2e194add7914"
      },
      "execution_count": null,
      "outputs": [
        {
          "name": "stdout",
          "output_type": "stream",
          "text": [
            "7,5,4,3\n",
            "6\n"
          ]
        },
        {
          "output_type": "execute_result",
          "data": {
            "text/plain": [
              "3"
            ]
          },
          "metadata": {},
          "execution_count": 35
        }
      ]
    },
    {
      "cell_type": "code",
      "source": [
        "3//2"
      ],
      "metadata": {
        "colab": {
          "base_uri": "https://localhost:8080/"
        },
        "id": "RvBtsRSrpAjz",
        "outputId": "f1993dbb-1e7c-4a51-f31f-ddb2aa3a9c4a"
      },
      "execution_count": null,
      "outputs": [
        {
          "output_type": "execute_result",
          "data": {
            "text/plain": [
              "1"
            ]
          },
          "metadata": {},
          "execution_count": 40
        }
      ]
    },
    {
      "cell_type": "code",
      "source": [
        "nums=eval(input())\n",
        "def singleNumber(nums):\n",
        "  for i in nums:\n",
        "    count = 0\n",
        "    for j in nums:\n",
        "      if j == i:\n",
        "        count += 1\n",
        "    if count == 1:\n",
        "      return j\n",
        "\n",
        "singleNumber(nums)"
      ],
      "metadata": {
        "colab": {
          "base_uri": "https://localhost:8080/"
        },
        "id": "-as6Ryl6jTfT",
        "outputId": "cf79317e-2ddd-4250-cd49-039c2e24b7d6"
      },
      "execution_count": null,
      "outputs": [
        {
          "name": "stdout",
          "output_type": "stream",
          "text": [
            "2,2,3,1\n"
          ]
        },
        {
          "output_type": "execute_result",
          "data": {
            "text/plain": [
              "1"
            ]
          },
          "metadata": {},
          "execution_count": 41
        }
      ]
    },
    {
      "cell_type": "code",
      "source": [
        "nums=eval(input())\n",
        "def singleNumber(nums):\n",
        "  singles = []\n",
        "  for i in range(0, len(nums)):\n",
        "    for j in range(i+1, len(nums)):\n",
        "      if i == j and nums[i] not in singles:\n",
        "        singles.append(nums[i])\n",
        "\n",
        "  return\n",
        "\n",
        "\n",
        "\n",
        "singleNumber(nums)"
      ],
      "metadata": {
        "colab": {
          "base_uri": "https://localhost:8080/"
        },
        "id": "9u7GK9iHCRXE",
        "outputId": "10a5c044-a8f5-4b98-8e04-c3221be2054d"
      },
      "execution_count": null,
      "outputs": [
        {
          "name": "stdout",
          "output_type": "stream",
          "text": [
            "2,2,3,1\n"
          ]
        },
        {
          "output_type": "execute_result",
          "data": {
            "text/plain": [
              "[2, 2, 2]"
            ]
          },
          "metadata": {},
          "execution_count": 42
        }
      ]
    },
    {
      "cell_type": "code",
      "source": [
        "inp = input().split(\",\")\n",
        "y = list(inp)\n",
        "sum = 0\n",
        "for i in inp:\n",
        "  sum += int(i)\n",
        "print(sum)\n"
      ],
      "metadata": {
        "colab": {
          "base_uri": "https://localhost:8080/"
        },
        "id": "uJgvyywHJK9H",
        "outputId": "a95a3fa0-4dd7-46cb-99d9-a45398b7f437"
      },
      "execution_count": null,
      "outputs": [
        {
          "output_type": "stream",
          "name": "stdout",
          "text": [
            "25,5\n",
            "30\n"
          ]
        }
      ]
    },
    {
      "cell_type": "code",
      "source": [
        "inp1 = int(input())\n",
        "inp2 = int(input())\n",
        "\n",
        "div = inp1/inp2\n",
        "\n",
        "print(div)"
      ],
      "metadata": {
        "id": "ECSyL5jeJpn1",
        "colab": {
          "base_uri": "https://localhost:8080/"
        },
        "outputId": "9a4d9a11-5351-4738-ebbe-d9347d4f14bc"
      },
      "execution_count": null,
      "outputs": [
        {
          "output_type": "stream",
          "name": "stdout",
          "text": [
            "25\n",
            "5\n",
            "5.0\n"
          ]
        }
      ]
    },
    {
      "cell_type": "code",
      "source": [
        "nums1=eval(input())\n",
        "nums2=eval(input())\n",
        "def nextGreaterElement(nums1, nums2):\n",
        "  for i in range(len(nums1)):\n",
        "    nexts = -1\n",
        "    for j in range(len(nums2)):\n",
        "      if nums1[i] == nums2[j]:\n",
        "          if nums1[i] < nums2[j]:\n",
        "            print(nums2[J])\n",
        "          else:\n",
        "            print(nexts)\n",
        "\n",
        "\n",
        "nextGreaterElement(nums1, nums2)"
      ],
      "metadata": {
        "colab": {
          "base_uri": "https://localhost:8080/"
        },
        "id": "ILwWFQMDTlMw",
        "outputId": "bcdfdab9-2b4e-40c3-b793-66e3fb5d8750"
      },
      "execution_count": null,
      "outputs": [
        {
          "output_type": "stream",
          "name": "stdout",
          "text": [
            "4,1,2\n",
            "1,4,3,2\n",
            "-1\n",
            "-1\n",
            "-1\n"
          ]
        }
      ]
    },
    {
      "cell_type": "code",
      "source": [
        "nums1 = eval(input())\n",
        "nums2 = eval(input())\n",
        "def nextgreaterelem(nums1,nums2):\n",
        "  ans = []\n",
        "  for i in range(0,len(nums1)):\n",
        "    for j in range(0,len(nums2)):\n",
        "      flag,val = 1,0\n",
        "      if nums1[i]==nums2[j]:\n",
        "        val = nums2[j]\n",
        "        for k in range(j+1,len(nums2)):\n",
        "          if nums2[k] > val:\n",
        "            ans.append(nums2[k])\n",
        "            flag = 0\n",
        "            break\n",
        "\n",
        "        if flag == 1:\n",
        "          ans.append(-1)\n",
        "  return ans\n",
        "\n",
        "nextgreaterelem(nums1, nums2)"
      ],
      "metadata": {
        "colab": {
          "base_uri": "https://localhost:8080/"
        },
        "id": "RaKbcjsun5Bv",
        "outputId": "05ab5ec5-d1ae-405b-e57a-1184b514f316"
      },
      "execution_count": null,
      "outputs": [
        {
          "name": "stdout",
          "output_type": "stream",
          "text": [
            "4,1,2\n",
            "1,4,3,2\n"
          ]
        },
        {
          "output_type": "execute_result",
          "data": {
            "text/plain": [
              "[-1, 4, -1]"
            ]
          },
          "metadata": {},
          "execution_count": 11
        }
      ]
    },
    {
      "cell_type": "code",
      "source": [
        "nums1 = eval(input())\n",
        "nums2 = eval(input())\n",
        "def nextGreaterElement(nums1, nums2):\n",
        "\tif not nums2:\n",
        "\t\treturn None\n",
        "\n",
        "\tmapping = {}\n",
        "\tresult = []\n",
        "\tstack = []\n",
        "\tstack.append(nums2[0])\n",
        "\n",
        "\tfor i in range(1, len(nums2)):\n",
        "\t\twhile stack and nums2[i] > stack[-1]:\n",
        "\t\t\tmapping[stack[-1]] = nums2[i]\n",
        "\t\t\tstack.pop()\n",
        "\t\tstack.append(nums2[i])\n",
        "\n",
        "\tfor element in stack:\n",
        "\t\tmapping[element] = -1\n",
        "\n",
        "\tfor i in range(len(nums1)):\n",
        "\t\tresult.append(mapping[nums1[i]])\n",
        "\treturn result\n",
        "\n",
        "\n",
        "nextGreaterElement(nums1, nums2)\n",
        "\n",
        "     # if stack is not empty, then compare it's last element with nums2[i]\n",
        "\t\t      # if the new element is greater than stack's top element, then add this to dictionary\n",
        "\t\t        # since we found a pair for the top element, remove it.\n",
        "              # add the element nums2[i] to the stack because we need to find a number greater than this\n",
        "\n",
        "                          # if there are elements in the stack for which we didn't find a greater number, map them to -1\n"
      ],
      "metadata": {
        "colab": {
          "base_uri": "https://localhost:8080/"
        },
        "id": "ghc8wlIUwaHQ",
        "outputId": "4a396fde-a209-41ad-fe80-4827ce6644c0"
      },
      "execution_count": null,
      "outputs": [
        {
          "name": "stdout",
          "output_type": "stream",
          "text": [
            "4,1,2\n",
            "1,3,4,2\n"
          ]
        },
        {
          "output_type": "execute_result",
          "data": {
            "text/plain": [
              "[-1, 3, -1]"
            ]
          },
          "metadata": {},
          "execution_count": 12
        }
      ]
    },
    {
      "cell_type": "code",
      "source": [
        "nums=eval(input())\n",
        "def missingNumber(nums):\n",
        "    missing_num = 0\n",
        "    for i in range(len(nums)+1):\n",
        "        if i not in nums:\n",
        "            missing_num = i\n",
        "    return missing_num\n",
        "\n",
        "\n",
        "print(missingNumber(nums))"
      ],
      "metadata": {
        "colab": {
          "base_uri": "https://localhost:8080/"
        },
        "id": "FdUY8hAu2lKJ",
        "outputId": "8040a3eb-0d4b-4823-cbb2-87e9350ccb30"
      },
      "execution_count": null,
      "outputs": [
        {
          "output_type": "stream",
          "name": "stdout",
          "text": [
            "1,3,0\n",
            "2\n"
          ]
        }
      ]
    },
    {
      "cell_type": "code",
      "source": [
        "nums=eval(input())\n",
        "def canThreePartsEqualSum(nums):\n",
        "  average = sum(nums) // 3\n",
        "  remainder = sum(nums)%3\n",
        "  part = 0\n",
        "  cnt = 0\n",
        "  for a in nums:\n",
        "    part += a\n",
        "    if part == average:\n",
        "      cnt += 1\n",
        "      part = 0\n",
        "  return not remainder and cnt >= 3\n",
        "\n",
        "print(canThreePartsEqualSum(nums))"
      ],
      "metadata": {
        "colab": {
          "base_uri": "https://localhost:8080/"
        },
        "id": "cblaZdFy7ivS",
        "outputId": "5bb998b3-5323-48c6-f2c5-65f1afffc1f9"
      },
      "execution_count": null,
      "outputs": [
        {
          "output_type": "stream",
          "name": "stdout",
          "text": [
            "0,2,1,-6,6,-7,9,1,2,0,1\n",
            "True\n"
          ]
        }
      ]
    },
    {
      "cell_type": "code",
      "source": [
        "set1=eval(input())\n",
        "set2=eval(input())\n",
        "def set_intersection(set1, set2):\n",
        "  diff = []\n",
        "  for i in range(len(set1)):\n",
        "    for j in range(len(set2)):\n",
        "      if set1[i] == set2[j]:\n",
        "        x = set1[i]\n",
        "        diff.append(x)\n",
        "  return list(set(diff))\n",
        "\n",
        "print(set_intersection(set1,set2))"
      ],
      "metadata": {
        "colab": {
          "base_uri": "https://localhost:8080/"
        },
        "id": "Qv3TxRSIA9W9",
        "outputId": "72095dfd-c800-4f0a-b1f4-bd747b899ead"
      },
      "execution_count": null,
      "outputs": [
        {
          "output_type": "stream",
          "name": "stdout",
          "text": [
            "1,2,2,1\n",
            "2,2\n",
            "[2]\n"
          ]
        }
      ]
    },
    {
      "cell_type": "code",
      "source": [
        "lst = [2,2,2,2]\n",
        "x = set(lst)\n",
        "list(x)"
      ],
      "metadata": {
        "colab": {
          "base_uri": "https://localhost:8080/"
        },
        "id": "YTc-6hNeDBWQ",
        "outputId": "be2fa6fe-22d6-4843-d411-c2863a507ce7"
      },
      "execution_count": null,
      "outputs": [
        {
          "output_type": "execute_result",
          "data": {
            "text/plain": [
              "[2]"
            ]
          },
          "metadata": {},
          "execution_count": 14
        }
      ]
    },
    {
      "cell_type": "code",
      "source": [
        "nums=eval(input())\n",
        "def majorityElement(nums):\n",
        "  max_count = 0\n",
        "  index = -1\n",
        "  appearance = len(nums)//2\n",
        "  for i in range(len(nums)):\n",
        "    count = 1\n",
        "    for j in range(i+1, len(nums)):\n",
        "      if  nums[i] == nums[j]:\n",
        "        count += 1\n",
        "\n",
        "      if count > max_count:\n",
        "        max_count = count\n",
        "        index = i\n",
        "\n",
        "    if max_count > appearance:\n",
        "      return nums[index]\n",
        "    else:\n",
        "      return \"no elements\"\n",
        "\n",
        "print(majorityElement(nums))\n"
      ],
      "metadata": {
        "colab": {
          "base_uri": "https://localhost:8080/"
        },
        "id": "KKf3pO-jDHQN",
        "outputId": "fd4e4b33-bcb0-4b0e-881b-232a6c7abae2"
      },
      "execution_count": null,
      "outputs": [
        {
          "output_type": "stream",
          "name": "stdout",
          "text": [
            "3,2,3\n",
            "3\n"
          ]
        }
      ]
    },
    {
      "cell_type": "code",
      "source": [
        "a = [2,4,3,5]\n",
        "for i, x in enumerate(a):\n",
        "  print(i,x)"
      ],
      "metadata": {
        "colab": {
          "base_uri": "https://localhost:8080/"
        },
        "id": "WDZV9SFWaTCP",
        "outputId": "26f6c852-404b-4594-ddac-0fe90bc610bb"
      },
      "execution_count": null,
      "outputs": [
        {
          "output_type": "stream",
          "name": "stdout",
          "text": [
            "0 2\n",
            "1 4\n",
            "2 3\n",
            "3 5\n"
          ]
        }
      ]
    },
    {
      "cell_type": "code",
      "source": [
        "dicts = {1:2,2:4,3:7,4:5}\n",
        "for i in dicts:\n",
        "  print(i)"
      ],
      "metadata": {
        "colab": {
          "base_uri": "https://localhost:8080/"
        },
        "id": "xNv3j7BpgOAv",
        "outputId": "4aa4f0d2-66c9-4f9c-dc74-e66e6896fd7a"
      },
      "execution_count": null,
      "outputs": [
        {
          "output_type": "stream",
          "name": "stdout",
          "text": [
            "1\n",
            "2\n",
            "3\n",
            "4\n"
          ]
        }
      ]
    },
    {
      "cell_type": "code",
      "source": [
        "A=eval(input())\n",
        "lst = list(A)\n",
        "def largestPerimeter(lst):\n",
        "  lst.sort(reverse= True)\n",
        "  for i in range(len(lst)-2):\n",
        "    if lst[i] < lst[i+1] + lst[i+2]:\n",
        "      return lst[i]+lst[i+1]+lst[i+2]\n",
        "  return 0\n",
        "\n",
        "largestPerimeter(lst)"
      ],
      "metadata": {
        "colab": {
          "base_uri": "https://localhost:8080/"
        },
        "id": "yzDAR3jKFFM6",
        "outputId": "81c95711-f880-434c-f7ba-17041b80aa7e"
      },
      "execution_count": null,
      "outputs": [
        {
          "name": "stdout",
          "output_type": "stream",
          "text": [
            "2,1,2\n"
          ]
        },
        {
          "output_type": "execute_result",
          "data": {
            "text/plain": [
              "5"
            ]
          },
          "metadata": {},
          "execution_count": 17
        }
      ]
    },
    {
      "cell_type": "code",
      "source": [
        "A=eval(input())\n",
        "lst = list(A)\n",
        "lst.sort()\n",
        "for i in range(len(lst),0,-1):\n",
        "  print(i)"
      ],
      "metadata": {
        "colab": {
          "base_uri": "https://localhost:8080/"
        },
        "id": "S39faA2PGZTx",
        "outputId": "de8e89ec-182c-42d1-852d-4b61928a6e14"
      },
      "execution_count": null,
      "outputs": [
        {
          "output_type": "stream",
          "name": "stdout",
          "text": [
            "2,1,2\n",
            "3\n",
            "2\n",
            "1\n"
          ]
        }
      ]
    },
    {
      "cell_type": "code",
      "source": [
        "lst = eval(input())\n",
        "digits = list(lst)\n",
        "def intg(digits):\n",
        "  num = []\n",
        "  for i in range(len(digits)):\n",
        "    if digits[i] == digits[-1]:\n",
        "      num.append(digits[i]+1)\n",
        "    else:\n",
        "      num.append(digits[i])\n",
        "  return num\n",
        "\n",
        "\n",
        "print(intg(digits))"
      ],
      "metadata": {
        "colab": {
          "base_uri": "https://localhost:8080/"
        },
        "id": "4hIEjq7VUNjO",
        "outputId": "3d402fab-f737-4696-e70a-b537114e4673"
      },
      "execution_count": null,
      "outputs": [
        {
          "output_type": "stream",
          "name": "stdout",
          "text": [
            "1,2,3\n",
            "[1, 2, 4]\n"
          ]
        }
      ]
    },
    {
      "cell_type": "code",
      "source": [
        "lst = [1,2,3,4]\n",
        "for i in reversed(lst):\n",
        "  print(i)"
      ],
      "metadata": {
        "colab": {
          "base_uri": "https://localhost:8080/"
        },
        "id": "NiF3EafCllkQ",
        "outputId": "b36f98e3-d385-4481-d268-6479d0092987"
      },
      "execution_count": null,
      "outputs": [
        {
          "output_type": "stream",
          "name": "stdout",
          "text": [
            "4\n",
            "3\n",
            "2\n",
            "1\n"
          ]
        }
      ]
    },
    {
      "cell_type": "code",
      "source": [
        "lst = [1,2,3,4]\n",
        "lst.pop(2)"
      ],
      "metadata": {
        "colab": {
          "base_uri": "https://localhost:8080/"
        },
        "id": "UEv--Sub6SdT",
        "outputId": "0601ba3b-2c90-4098-dc90-9821dbd65a64"
      },
      "execution_count": null,
      "outputs": [
        {
          "output_type": "execute_result",
          "data": {
            "text/plain": [
              "3"
            ]
          },
          "metadata": {},
          "execution_count": 13
        }
      ]
    },
    {
      "cell_type": "code",
      "source": [
        "arr=eval(input())\n",
        "k=int(input())\n",
        "def findKthPositive(arr, k):\n",
        "  lst = []\n",
        "  for i in range(1,arr[-1]):\n",
        "      if i not in arr:\n",
        "        lst.append(i)\n",
        "\n",
        "  return lst.pop(k-1)\n",
        "\n",
        "print(findKthPositive(arr,k))"
      ],
      "metadata": {
        "colab": {
          "base_uri": "https://localhost:8080/"
        },
        "id": "9ZSYCO9T6XiY",
        "outputId": "138d06f3-c2c0-4297-9d4a-e02d922232c3"
      },
      "execution_count": null,
      "outputs": [
        {
          "output_type": "stream",
          "name": "stdout",
          "text": [
            "2,3,4,7,11\n",
            "5\n",
            "9\n"
          ]
        }
      ]
    },
    {
      "cell_type": "code",
      "source": [
        "aliceSizes=eval(input())\n",
        "bobSizes= eval(input())\n",
        "def fairCandySwap(aliceSizes, bobSizes):\n",
        "  alice_nos = sum(aliceSizes)\n",
        "  bob_nos = sum(bobSizes)\n",
        "  output_sum = (alice_nos+bob_nos)//2\n",
        "  aliceset = set(aliceSizes)\n",
        "  for i in bobSizes:\n",
        "    aliceCandy = output_sum - (bob_nos - i)\n",
        "    if aliceCandy in aliceset:\n",
        "      return [aliceCandy, i]\n",
        "\n",
        "\n",
        "print(fairCandySwap(aliceSizes, bobSizes))"
      ],
      "metadata": {
        "colab": {
          "base_uri": "https://localhost:8080/"
        },
        "id": "Cvc6KTuKFGkB",
        "outputId": "2e62e38e-06cf-4911-8569-bb7de50f5d04"
      },
      "execution_count": null,
      "outputs": [
        {
          "name": "stdout",
          "output_type": "stream",
          "text": [
            "1,1\n"
          ]
        }
      ]
    },
    {
      "cell_type": "code",
      "source": [
        "lst = eval(input())\n",
        "for i in range(len(lst)):\n",
        "  if lst[i] == 5:\n",
        "    break\n",
        "  print(lst[i])\n"
      ],
      "metadata": {
        "colab": {
          "base_uri": "https://localhost:8080/"
        },
        "id": "PpwXfEmf8d2f",
        "outputId": "41aa9d32-64f6-419c-e2bb-8310a4f6fe3a"
      },
      "execution_count": null,
      "outputs": [
        {
          "output_type": "stream",
          "name": "stdout",
          "text": [
            "2,3,5,6\n",
            "2\n",
            "3\n"
          ]
        }
      ]
    },
    {
      "cell_type": "code",
      "source": [
        "lst = eval(input())\n",
        "def getsum(lst):\n",
        "  if len(lst) == 0:\n",
        "    return 0\n",
        "  else:\n",
        "    return lst[0] + getsum(lst[1:])\n",
        "\n",
        "print(getsum(lst))"
      ],
      "metadata": {
        "colab": {
          "base_uri": "https://localhost:8080/"
        },
        "id": "5INTCc5v3qA1",
        "outputId": "97d7b85e-9df0-4d85-a968-81bfca218737"
      },
      "execution_count": null,
      "outputs": [
        {
          "output_type": "stream",
          "name": "stdout",
          "text": [
            "2,3,4\n",
            "9\n"
          ]
        }
      ]
    },
    {
      "cell_type": "code",
      "source": [
        "n=int(input())\n",
        "base=int(input())\n",
        "def to_string(n,base):\n",
        "  strs = '0123456789ABCDEF'\n",
        "  if n < base:\n",
        "    return strs[n]\n",
        "  else:\n",
        "    return strs[n%base] + to_string(n//base, base)\n",
        "to_string(n,base)"
      ],
      "metadata": {
        "colab": {
          "base_uri": "https://localhost:8080/",
          "height": 70
        },
        "id": "a9Wfk7xj-lLP",
        "outputId": "42e14811-079b-4131-94bf-ea271456e454"
      },
      "execution_count": null,
      "outputs": [
        {
          "name": "stdout",
          "output_type": "stream",
          "text": [
            "2835\n",
            "16\n"
          ]
        },
        {
          "output_type": "execute_result",
          "data": {
            "text/plain": [
              "'31B'"
            ],
            "application/vnd.google.colaboratory.intrinsic+json": {
              "type": "string"
            }
          },
          "metadata": {},
          "execution_count": 9
        }
      ]
    }
  ]
}