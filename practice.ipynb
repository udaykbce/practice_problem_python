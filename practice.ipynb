{
  "nbformat": 4,
  "nbformat_minor": 0,
  "metadata": {
    "colab": {
      "provenance": [],
      "authorship_tag": "ABX9TyM6K6BUiBhvb6lNUO6gAy7A",
      "include_colab_link": true
    },
    "kernelspec": {
      "name": "python3",
      "display_name": "Python 3"
    },
    "language_info": {
      "name": "python"
    }
  },
  "cells": [
    {
      "cell_type": "markdown",
      "metadata": {
        "id": "view-in-github",
        "colab_type": "text"
      },
      "source": [
        "<a href=\"https://colab.research.google.com/github/udaykbce/practice_problem_python/blob/main/practice.ipynb\" target=\"_parent\"><img src=\"https://colab.research.google.com/assets/colab-badge.svg\" alt=\"Open In Colab\"/></a>"
      ]
    },
    {
      "cell_type": "code",
      "execution_count": null,
      "metadata": {
        "id": "t3Obs2pSKCEu"
      },
      "outputs": [],
      "source": [
        "# lcm\n",
        "x = int(input())\n",
        "y =int(input())\n",
        "def lcm(x,y):\n",
        "  largest = 0\n",
        "  if x > y:\n",
        "    largest = x\n",
        "  else:\n",
        "    largest = y\n",
        "\n",
        "  while True:\n",
        "    if (largest % x == 0) and (largest % y == 0):\n",
        "      print(largest)\n",
        "      break\n",
        "    else:\n",
        "      largest += 1\n",
        "\n",
        "lcm(x,y)"
      ]
    },
    {
      "cell_type": "code",
      "source": [
        "# Write a program to sum the digits of the number until it became single digit\n",
        "\n",
        "\n",
        "def sum_until_single_digit(inp):\n",
        "  return (inp-1)%9 + 1 if inp > 9 else inp\n",
        "\n",
        "inp = int(input())\n",
        "sum_until_single_digit(inp)"
      ],
      "metadata": {
        "id": "B4KMhBjC1xNJ"
      },
      "execution_count": null,
      "outputs": []
    },
    {
      "cell_type": "code",
      "source": [
        "# other method\n",
        "def sum_digit(num):\n",
        "  while num >= 10:\n",
        "    num = sum(int(i) for i in str(num))\n",
        "  return num\n",
        "\n",
        "num  = int(input())\n",
        "sum_digit(num)"
      ],
      "metadata": {
        "id": "BEbNbUqNPqb9"
      },
      "execution_count": null,
      "outputs": []
    },
    {
      "cell_type": "code",
      "source": [
        "# Write a program to reverse an integer python\n",
        "inp = int(input())\n",
        "strs = \"\"\n",
        "for i in str(inp):\n",
        "  strs += i\n",
        "\n",
        "print(strs[::-1])"
      ],
      "metadata": {
        "id": "n2rsbzGH62zx"
      },
      "execution_count": null,
      "outputs": []
    },
    {
      "cell_type": "code",
      "source": [
        "check1 = ['Learn', 'Quiz', 'Practice', 'Contribute']\n",
        "check2 = check1\n",
        "check3 = check1[:]\n",
        "\n",
        "check2[0] = 'Code'\n",
        "check3[1] = 'Mcq'\n",
        "\n",
        "count = 0\n",
        "for c in (check1, check2, check3):\n",
        "    if c[0] == 'Code':\n",
        "        count += 1\n",
        "    if c[1] == 'Mcq':\n",
        "        count += 10\n",
        "\n",
        "print (count)"
      ],
      "metadata": {
        "id": "m4kBl0X9usSI"
      },
      "execution_count": null,
      "outputs": []
    },
    {
      "cell_type": "code",
      "source": [],
      "metadata": {
        "id": "V4m9E5nftCQ3"
      },
      "execution_count": null,
      "outputs": []
    },
    {
      "cell_type": "code",
      "source": [
        "def addToList(listcontainer):\n",
        "    listcontainer += [10]\n",
        "\n",
        "mylistContainer = [10, 20, 30, 40]\n",
        "addToList(mylistContainer)\n",
        "print(len(mylistContainer))"
      ],
      "metadata": {
        "id": "NNzZhFwTvERp"
      },
      "execution_count": null,
      "outputs": []
    },
    {
      "cell_type": "code",
      "source": [
        "nameList = ['Harsh', 'Pratik', 'Bob', 'Dhruv']\n",
        "\n",
        "print(nameList[1][-1])"
      ],
      "metadata": {
        "id": "wCrB6MTYvENq"
      },
      "execution_count": null,
      "outputs": []
    },
    {
      "cell_type": "code",
      "source": [
        "import pandas as pd\n",
        "import numpy as np\n",
        "\n",
        "# dictionary of lists\n",
        "dict = {'id':[1, 4, np.nan, 9],\n",
        "        'Age': [30, 45, np.nan, np.nan],\n",
        "        'Score':[np.nan, 140, 180, 198]}\n",
        "\n",
        "# creating a DataFrame\n",
        "df = pd.DataFrame(dict)\n",
        "print(df)\n",
        "df.isnull().sum()\n",
        "# id       1\n",
        "# Age      2\n",
        "# Score    1"
      ],
      "metadata": {
        "id": "5FaiYI1Z1-En"
      },
      "execution_count": null,
      "outputs": []
    },
    {
      "cell_type": "markdown",
      "source": [
        "#Args and Kwargs\n",
        "*args and **kwargs allow you to pass an undefined number of arguments and keywords when calling a function."
      ],
      "metadata": {
        "id": "dwL11jQT4W5I"
      }
    },
    {
      "cell_type": "code",
      "source": [
        "def some_function(*args, **kwargs):\n",
        "     pass\n",
        "\n",
        " # call some_function with any number of arguments\n",
        "some_function(arg1, arg2, arg3)\n",
        "\n",
        "# call some_function with any number of keywords\n",
        "some_function(key1=arg1, key2=arg2, key3=arg3)\n",
        "\n",
        " # call both, arguments and keywords\n",
        "some_function(arg, key1=arg1)\n",
        "\n",
        "# or none\n",
        "some_function()"
      ],
      "metadata": {
        "id": "wpmvQ2WL4eVi"
      },
      "execution_count": null,
      "outputs": []
    },
    {
      "cell_type": "markdown",
      "source": [
        "#args\n",
        "You can access the arguments through the args variable:"
      ],
      "metadata": {
        "id": "ORmnFMTL-N1t"
      }
    },
    {
      "cell_type": "code",
      "source": [
        "def some_function(*args):\n",
        "  print(f'Arguments passed: {args} as {type(args)}')\n",
        "\n",
        "some_function('arg1', 'arg2', 'arg3')\n",
        "# Arguments passed: ('arg1', 'arg2', 'arg3') as <class 'tuple'>"
      ],
      "metadata": {
        "id": "K75o10u0_fPE"
      },
      "execution_count": null,
      "outputs": []
    },
    {
      "cell_type": "markdown",
      "source": [
        "#kwargs\n",
        "Keywords are accessed through the kwargs variable:"
      ],
      "metadata": {
        "id": "IgSg22DbAD78"
      }
    },
    {
      "cell_type": "code",
      "source": [
        "def some_function(**kwargs):\n",
        "  print(f'keywords: {kwargs} as {type(kwargs)}')\n",
        "\n",
        "some_function(key1='arg1', key2='arg2')\n",
        "# keywords: {'key1': 'arg1', 'key2': 'arg2'} as <class 'dict'>"
      ],
      "metadata": {
        "id": "RhDTT-kU_7gp"
      },
      "execution_count": null,
      "outputs": []
    },
    {
      "cell_type": "markdown",
      "source": [
        "#Encapsulation\n",
        "Encapsulation is one of the fundamental concepts of object-oriented programming, which helps to protect the data and methods of an object from unauthorized access and modification. It is a way to achieve data abstraction, which means that the implementation details of an object are hidden from the outside world, and only the essential information is exposed.\n",
        "\n",
        "In Python, encapsulation can be achieved by using access modifiers. Access modifiers are keywords that define the accessibility of attributes and methods in a class. The three access modifiers available in Python are public, private, and protected. However, Python does not have an explicit way of defining access modifiers like some other programming languages such as Java and C++. Instead, it uses a convention of using underscore prefixes to indicate the access level.\n",
        "\n",
        "In the given code example, the class MyClass has two attributes, _protected_var and __private_var. The _protected_var is marked as protected by using a single underscore prefix. This means that the attribute can be accessed within the class and its subclasses but not outside the class. The __private_var is marked as private by using two underscore prefixes. This means that the attribute can only be accessed within the class and not outside the class, not even in its subclasses.\n",
        "\n",
        "When we create an object of the MyClass class, we can access the _protected_var attribute using the object name with a single underscore prefix. However, we cannot access the __private_var attribute using the object name, as it is hidden from the outside world. If we try to access the __private_var attribute, we will get an AttributeError as shown in the code.\n",
        "\n",
        "In summary, encapsulation is an important concept in object-oriented programming that helps to protect the implementation details of an object. In Python, we can achieve encapsulation by using access modifiers and using underscore prefixes to indicate the access level."
      ],
      "metadata": {
        "id": "9XihF7Jc3BcI"
      }
    },
    {
      "cell_type": "code",
      "source": [
        "# Define a class named MyClass\n",
        "class MyClass:\n",
        "\n",
        "    # Constructor method that initializes the class object\n",
        "    def __init__(self):\n",
        "\n",
        "        # Define a protected variable with an initial value of 10\n",
        "        # The variable name starts with a single underscore, which indicates protected access\n",
        "        self._protected_var = 10\n",
        "\n",
        "        # Define a private variable with an initial value of 20\n",
        "        # The variable name starts with two underscores, which indicates private access\n",
        "        self.__private_var = 20\n",
        "\n",
        "# Create an object of MyClass class\n",
        "obj = MyClass()\n",
        "\n",
        "# Access the protected variable using the object name and print its value\n",
        "# The protected variable can be accessed outside the class but\n",
        "# it is intended to be used within the class or its subclasses\n",
        "print(obj._protected_var)   # output: 10\n",
        "\n",
        "# Try to access the private variable using the object name and print its value\n",
        "# The private variable cannot be accessed outside the class, even by its subclasses\n",
        "# This will raise an AttributeError because the variable is not accessible outside the class\n",
        "print(obj.__private_var)    # AttributeError: 'MyClass' object has no attribute '__private_var'\n"
      ],
      "metadata": {
        "id": "k2rbdftp3HIc"
      },
      "execution_count": null,
      "outputs": []
    },
    {
      "cell_type": "markdown",
      "source": [
        "#Inheritance\n",
        "Inheritance promotes code reuse and allows you to create a hierarchy of classes that share common attributes and methods. It helps in creating clean and organized code by keeping related functionality in one place and promoting the concept of modularity. The base class from which a new class is derived is also known as a parent class, and the new class is known as the child class or subclass.\n",
        "\n",
        "In the code, we define a class named Animal which has a constructor method that initializes the class object with a name attribute and a method named speak. The speak method is defined in the Animal class but does not have a body.\n",
        "\n",
        "We then define two subclasses named Dog and Cat which inherit from the Animal class. These subclasses override the speak method of the Animal class.\n",
        "\n",
        "We create a Dog object with a name attribute “Rover” and a Cat object with a name attribute “Whiskers”. We call the speak method of the Dog object using dog.speak(), and it prints “Woof!” because the speak method of the Dog class overrides the speak method of the Animal class. Similarly, we call the speak method of the Cat object using cat.speak(), and it prints “Meow!” because the speak method of the Cat class overrides the speak method of the Animal class.\n",
        "\n"
      ],
      "metadata": {
        "id": "-mnN2wCM3Jcc"
      }
    },
    {
      "cell_type": "code",
      "source": [
        "# Define a class named Animal\n",
        "class Animal:\n",
        "\n",
        "    # Constructor method that initializes the class object with a name attribute\n",
        "    def __init__(self, name):\n",
        "        self.name = name\n",
        "\n",
        "    # Method that is defined in the Animal class but does not have a body\n",
        "    # This method will be overridden in the subclasses of Animal\n",
        "    def speak(self):\n",
        "        print(\"\")\n",
        "\n",
        "# Define a subclass named Dog that inherits from the Animal class\n",
        "class Dog(Animal):\n",
        "\n",
        "    # Override the speak method of the Animal class\n",
        "    def speak(self):\n",
        "        print(\"Woof!\")\n",
        "\n",
        "# Define a subclass named Cat that inherits from the Animal class\n",
        "class Cat(Animal):\n",
        "\n",
        "    # Override the speak method of the Animal class\n",
        "    def speak(self):\n",
        "        print(\"Meow!\")\n",
        "\n",
        "# Create a Dog object with a name attribute \"Rover\"\n",
        "dog = Dog(\"Rover\")\n",
        "\n",
        "# Create a Cat object with a name attribute \"Whiskers\"\n",
        "cat = Cat(\"Whiskers\")\n",
        "\n",
        "# Call the speak method of the Dog class and print the output\n",
        "# The speak method of the Dog class overrides the speak method of the Animal class\n",
        "# Therefore, when we call the speak method of the Dog object, it will print \"Woof!\"\n",
        "dog.speak()   # output: Woof!\n",
        "\n",
        "# Call the speak method of the Cat class and print the output\n",
        "# The speak method of the Cat class overrides the speak method of the Animal class\n",
        "# Therefore, when we call the speak method of the Cat object, it will print \"Meow!\"\n",
        "cat.speak()   # output: Meow!\n"
      ],
      "metadata": {
        "id": "sUIAWb2u3M5L"
      },
      "execution_count": null,
      "outputs": []
    },
    {
      "cell_type": "markdown",
      "source": [
        "#Polymorphism\n",
        "Polymorphism is an important concept in object-oriented programming that allows you to write code that can work with objects of different classes in a uniform way. In Python, polymorphism is achieved by using method overriding or method overloading.\n",
        "\n",
        "Method overriding is when a subclass provides its own implementation of a method that is already defined in its parent class. This allows the subclass to modify the behavior of the method without changing its name or signature.\n",
        "\n",
        "Method overloading is when multiple methods have the same name but different parameters. Python does not support method overloading directly, but it can be achieved using default arguments or variable-length arguments.\n",
        "\n",
        "Polymorphism makes it easier to write flexible and reusable code. It allows you to write code that can work with different objects without needing to know their specific types."
      ],
      "metadata": {
        "id": "rkqQ9Jyy3UQ2"
      }
    },
    {
      "cell_type": "code",
      "source": [
        "#The Shape class is defined with an abstract area method, which is intended to be overridden by subclasses.\n",
        "class Shape:\n",
        "    def area(self):\n",
        "        pass\n",
        "\n",
        "class Rectangle(Shape):\n",
        "    # The Rectangle class is defined with an __init__ method that initializes\n",
        "    # width and height instance variables.\n",
        "    # It also defines an area method that calculates and returns\n",
        "    # the area of a rectangle using the width and height instance variables.\n",
        "    def __init__(self, width, height):\n",
        "        self.width = width  # Initialize width instance variable\n",
        "        self.height = height  # Initialize height instance variable\n",
        "\n",
        "    def area(self):\n",
        "        return self.width * self.height  # Return area of rectangle\n",
        "\n",
        "\n",
        " # The Circle class is defined with an __init__ method\n",
        " # that initializes a radius instance variable.\n",
        " # It also defines an area method that calculates and\n",
        " # returns the area of a circle using the radius instance variable.\n",
        "class Circle(Shape):\n",
        "    def __init__(self, radius):\n",
        "        self.radius = radius  # Initialize radius instance variable\n",
        "\n",
        "    def area(self):\n",
        "        return 3.14 * self.radius ** 2  # Return area of circle using pi * r^2\n",
        "\n",
        "# The shapes list is created with one Rectangle object and one Circle object. The for\n",
        "# loop iterates over each object in the list and calls the area method of each object\n",
        "# The output will be the area of the rectangle (20) and the area of the circle (153.86).\n",
        "shapes = [Rectangle(4, 5), Circle(7)]  # Create a list of Shape objects\n",
        "for shape in shapes:\n",
        "    print(shape.area())  # Output the area of each Shape object\n"
      ],
      "metadata": {
        "id": "Ni-oEToW3T1U"
      },
      "execution_count": null,
      "outputs": []
    },
    {
      "cell_type": "markdown",
      "source": [
        "#Abstraction\n",
        "Abstraction is an important concept in object-oriented programming (OOP) because it allows you to focus on the essential features of an object or system while ignoring the details that aren’t relevant to the current context. By reducing complexity and hiding unnecessary details, abstraction can make code more modular, easier to read, and easier to maintain.\n",
        "\n",
        "In Python, abstraction can be achieved by using abstract classes or interfaces. An abstract class is a class that cannot be instantiated directly, but is meant to be subclassed by other classes. It often includes abstract methods that have no implementation, but provide a template for how the subclass should be implemented. This allows the programmer to define a common interface for a group of related classes, while still allowing each class to have its own specific behavior.\n",
        "\n",
        "An interface, on the other hand, is a collection of method signatures that a class must implement in order to be considered “compatible” with the interface. Interfaces are often used to define a common set of methods that multiple classes can implement, allowing them to be used interchangeably in certain contexts.\n",
        "\n",
        "Python does not have built-in support for abstract classes or interfaces, but they can be implemented using the abc (abstract base class) module. This module provides the ABC class and the abstractmethod decorator, which can be used to define abstract classes and methods.\n",
        "\n",
        "Overall, abstraction is a powerful tool for managing complexity and improving code quality in object-oriented programming, and Python provides a range of options for achieving abstraction in your code."
      ],
      "metadata": {
        "id": "uj2cnWok3jkX"
      }
    },
    {
      "cell_type": "code",
      "source": [
        "# Import the abc module to define abstract classes and methods\n",
        "from abc import ABC, abstractmethod\n",
        "\n",
        "# Define an abstract class called Shape that has an abstract method called area\n",
        "class Shape(ABC):\n",
        "    @abstractmethod\n",
        "    def area(self):\n",
        "        pass\n",
        "\n",
        "# Define a Rectangle class that inherits from Shape\n",
        "class Rectangle(Shape):\n",
        "    def __init__(self, width, height):\n",
        "        self.width = width\n",
        "        self.height = height\n",
        "\n",
        "    # Implement the area method for Rectangles\n",
        "    def area(self):\n",
        "        return self.width * self.height\n",
        "\n",
        "# Define a Circle class that also inherits from Shape\n",
        "class Circle(Shape):\n",
        "    def __init__(self, radius):\n",
        "        self.radius = radius\n",
        "\n",
        "    # Implement the area method for Circles\n",
        "    def area(self):\n",
        "        return 3.14 * self.radius ** 2\n",
        "\n",
        "# Create a list of shapes that includes both Rectangles and Circles\n",
        "shapes = [Rectangle(4, 5), Circle(7)]\n",
        "\n",
        "# Loop through each shape in the list and print its area\n",
        "for shape in shapes:\n",
        "    print(shape.area())"
      ],
      "metadata": {
        "id": "vPa8_l313mWv"
      },
      "execution_count": null,
      "outputs": []
    },
    {
      "cell_type": "code",
      "source": [
        "count = 1\n",
        "\n",
        "def doThis():\n",
        "\n",
        "    global count\n",
        "\n",
        "    for i in (1, 2, 3):\n",
        "        count += 1\n",
        "\n",
        "doThis()\n",
        "\n",
        "print (count)"
      ],
      "metadata": {
        "id": "3V9NiFpyvEJ3"
      },
      "execution_count": null,
      "outputs": []
    },
    {
      "cell_type": "code",
      "source": [
        "a = True\n",
        "b = False\n",
        "c = False\n",
        "\n",
        "if not a or b:\n",
        "    print (1)\n",
        "elif not a or not b and c:\n",
        "    print (2)\n",
        "elif not a or b or not b and a:\n",
        "    print (3)\n",
        "else:\n",
        "    print (4)"
      ],
      "metadata": {
        "id": "czPgs-JEvEGf"
      },
      "execution_count": null,
      "outputs": []
    },
    {
      "cell_type": "code",
      "source": [
        "# How to create dataframe\n",
        "import pandas as pd\n",
        "\n",
        "data = {\"a\": [21,32,\"null\",12,23], \"b\": [32,46,24,72,64], \"c\": [32,54,76,87,65]}\n",
        "\n",
        "df = pd.DataFrame(data)\n",
        "df"
      ],
      "metadata": {
        "id": "uSW6mH86-vTu"
      },
      "execution_count": null,
      "outputs": []
    },
    {
      "cell_type": "code",
      "source": [
        "a = True\n",
        "b = False\n",
        "c = False\n",
        "\n",
        "if a or b and c:\n",
        "    print (\"HELLO\")\n",
        "else:\n",
        "    print (\"hello\")"
      ],
      "metadata": {
        "id": "tSTj1izrvEC5"
      },
      "execution_count": null,
      "outputs": []
    },
    {
      "cell_type": "code",
      "source": [
        "r = lambda q: q * 2\n",
        "s = lambda q: q * 3\n",
        "x = 2\n",
        "x = r(x)\n",
        "x = s(x)\n",
        "x = r(x)\n",
        "print (x)"
      ],
      "metadata": {
        "id": "O8w80yXGwdI2"
      },
      "execution_count": null,
      "outputs": []
    },
    {
      "cell_type": "code",
      "source": [
        "x = 1\n",
        "while True:\n",
        "  if x % 5 == 0:\n",
        "    break\n",
        "  x += 1\n",
        "\n",
        "print(x)\n"
      ],
      "metadata": {
        "id": "k-ZjTv0kwdDX"
      },
      "execution_count": null,
      "outputs": []
    },
    {
      "cell_type": "code",
      "source": [
        "all([2,4,0,6])"
      ],
      "metadata": {
        "id": "irpy4FxzwdAy"
      },
      "execution_count": null,
      "outputs": []
    },
    {
      "cell_type": "code",
      "source": [
        "round(4.576)"
      ],
      "metadata": {
        "id": "cG8Ns6bgwc9T"
      },
      "execution_count": null,
      "outputs": []
    },
    {
      "cell_type": "code",
      "source": [
        "class Name:\n",
        "    def __init__(javatpoint):\n",
        "        javajavatpoint = java\n",
        "         name1=Name(\"ABC\")\n",
        "           name2=name1"
      ],
      "metadata": {
        "id": "vI0CjtGvwc36"
      },
      "execution_count": null,
      "outputs": []
    },
    {
      "cell_type": "code",
      "source": [
        "def my_func(st):\n",
        "  l1 = [ch for ch in st if ch.isalpha()]\n",
        "  return \"\".join(l1.pop() if ch.isalpha() else ch for ch in st)\n",
        "\n",
        "st = 'ab-cd-ef'\n",
        "print(my_func(st))"
      ],
      "metadata": {
        "id": "M7nNYZ8xwc0S"
      },
      "execution_count": null,
      "outputs": []
    },
    {
      "cell_type": "markdown",
      "source": [
        "#python Question"
      ],
      "metadata": {
        "id": "4ANo3GsAJa9b"
      }
    },
    {
      "cell_type": "code",
      "source": [
        "# Write a python program that accepts a list of integers and chek the length and the fifth element.\n",
        "# Return true if the lemgth of the list is 8 and fifth element occurs thrice in the saidlist.\n",
        "\n",
        "inp = eval(input())\n",
        "lst = list(inp)\n",
        "length = len(lst)\n",
        "if length == 8 and lst.count(lst[4]) == 3:\n",
        "  print(True)\n",
        "else:\n",
        "  print(False)\n"
      ],
      "metadata": {
        "id": "m5Qx-xyRJZ6f",
        "colab": {
          "base_uri": "https://localhost:8080/"
        },
        "outputId": "adddbb6f-f8b6-45db-b980-53de155df347"
      },
      "execution_count": 6,
      "outputs": [
        {
          "output_type": "stream",
          "name": "stdout",
          "text": [
            "19,19,15,5,5,5,1,2\n",
            "True\n"
          ]
        }
      ]
    },
    {
      "cell_type": "code",
      "source": [
        "# Write a python program that accept an integer test whether an integer greater than 4^4 and which is 4 mod 34.\n",
        "\n",
        "inp1 = int(input())\n",
        "if inp1 > 4**4 and inp1%34 == 4:\n",
        "  print(True)\n",
        "else:\n",
        "  print(False)\n"
      ],
      "metadata": {
        "colab": {
          "base_uri": "https://localhost:8080/"
        },
        "id": "LcdMfrD9JaC7",
        "outputId": "5d7ad145-60d2-490b-9cd9-f6319a0c5fed"
      },
      "execution_count": 10,
      "outputs": [
        {
          "output_type": "stream",
          "name": "stdout",
          "text": [
            "922\n",
            "True\n"
          ]
        }
      ]
    },
    {
      "cell_type": "code",
      "source": [
        "# Write a program which returns list having integer with exactly two occurences of nineteen and at least three occurences of five.\n",
        "\n",
        "inp ="
      ],
      "metadata": {
        "id": "tKxrlnHiJZ-5"
      },
      "execution_count": null,
      "outputs": []
    },
    {
      "cell_type": "code",
      "source": [],
      "metadata": {
        "id": "xd5aqlFyvD-d"
      },
      "execution_count": null,
      "outputs": []
    },
    {
      "cell_type": "code",
      "source": [],
      "metadata": {
        "id": "E-YKwgMqvD6k"
      },
      "execution_count": null,
      "outputs": []
    },
    {
      "cell_type": "code",
      "source": [],
      "metadata": {
        "id": "hjQcViqBvDsH"
      },
      "execution_count": null,
      "outputs": []
    },
    {
      "cell_type": "code",
      "source": [
        "x = [[0],[1]]\n",
        "print((\" \".join(list(map(str,x))),))"
      ],
      "metadata": {
        "id": "tqQKxy-Rc12i"
      },
      "execution_count": null,
      "outputs": []
    },
    {
      "cell_type": "code",
      "source": [
        "# fibonacci series\n",
        "def fibos(num):\n",
        "  m,n =0,1\n",
        "  if num < 0:\n",
        "    print(\"invalid input\")\n",
        "  elif num == 1:\n",
        "    print(0)\n",
        "  else:\n",
        "    count = 0\n",
        "    while count<= num:\n",
        "      print(m, end =\" \")\n",
        "      a = m+n\n",
        "      m = n\n",
        "      n = a\n",
        "      count += 1\n",
        "    print(m)\n",
        "\n",
        "fibos(6)\n"
      ],
      "metadata": {
        "id": "nquvBH7G819P"
      },
      "execution_count": null,
      "outputs": []
    },
    {
      "cell_type": "code",
      "source": [
        "#prime number\n",
        "num = int(input())\n",
        "temp = 0\n",
        "for i in range(2,num):\n",
        "  if num%i == 0:\n",
        "    temp = 1\n",
        "\n",
        "if temp == 1:\n",
        "  print(\"Not Prime no\")\n",
        "else:\n",
        "  print(\"prime no\")\n",
        "\n"
      ],
      "metadata": {
        "id": "ZmAbv7N0aLo-"
      },
      "execution_count": null,
      "outputs": []
    },
    {
      "cell_type": "code",
      "source": [
        "# Prime no\n",
        "inp = int(input())\n",
        "def prime_no(inp):\n",
        "  temp = 0\n",
        "  for i in range(2,inp):\n",
        "    if inp%i == 0:\n",
        "      temp = 1\n",
        "\n",
        "  if temp == 1:\n",
        "    print(\"not prime no\")\n",
        "  else:\n",
        "    temp == 0\n",
        "    print(\"prime no\")\n",
        "\n",
        "prime_no(inp)\n",
        "\n"
      ],
      "metadata": {
        "id": "eLzfLVw5ojv-"
      },
      "execution_count": null,
      "outputs": []
    },
    {
      "cell_type": "code",
      "source": [
        "# n = eval(input())\n",
        "lst = ['abc.txt', 'windows.dll', 'tiger.png', 'rose.jpg', 'test.py', 'win32.exe']\n",
        "# for i in n:\n",
        "#     lst.append(i)\n",
        "\n",
        "def lst_t(lst):\n",
        "    result = []\n",
        "    for i in lst:\n",
        "        if i.split('.')[1] in (\"txt\",\"dll\",\"png\",\"jpg\",\"exe\") and i[0].isalpha() and sum(j.isdigit() for j in i) <4:\n",
        "            result.append(\"Yes\")\n",
        "        else:\n",
        "            result.append(\"No\")\n",
        "    return result\n",
        "\n",
        "print(lst_t(lst))"
      ],
      "metadata": {
        "id": "Nv-lXvFGOPbd"
      },
      "execution_count": null,
      "outputs": []
    },
    {
      "cell_type": "code",
      "source": [
        "number1 = int(input())\n",
        "number2 = int(input())\n",
        "sum = number1+number2\n",
        "if sum > 0:\n",
        "  print(\"Positive\")\n",
        "else:\n",
        "  print(\"Negative\")"
      ],
      "metadata": {
        "id": "XCGJ8bH3ZmDS"
      },
      "execution_count": null,
      "outputs": []
    },
    {
      "cell_type": "code",
      "source": [],
      "metadata": {
        "id": "SaMhM6WwntuR"
      },
      "execution_count": null,
      "outputs": []
    },
    {
      "cell_type": "code",
      "source": [
        "inp = int(input())\n",
        "reverse = str(inp)[::-1]\n",
        "print(reverse)\n"
      ],
      "metadata": {
        "id": "LqkLE524P9Qc"
      },
      "execution_count": null,
      "outputs": []
    },
    {
      "cell_type": "code",
      "source": [
        "num = 534750\n",
        "reversed_num = 0\n",
        "\n",
        "while num != 0:\n",
        "    digit = num % 10\n",
        "    reversed_num = reversed_num * 10 + digit\n",
        "    num //= 10\n",
        "\n",
        "print(\"Reversed Number: \" + str(reversed_num))"
      ],
      "metadata": {
        "id": "0EMoYb3SRfWo"
      },
      "execution_count": null,
      "outputs": []
    },
    {
      "cell_type": "code",
      "source": [
        "s = \"uday kant\"\n",
        "for i in s.split(\" \"):\n",
        "  y = i.capitalize()\n",
        "  print(y, end = \" \")\n"
      ],
      "metadata": {
        "id": "tnKcw3wPoDAK"
      },
      "execution_count": null,
      "outputs": []
    },
    {
      "cell_type": "code",
      "source": [
        "# Write a python program to divide a list in halves, reverse each halve and concatenate both.\n",
        "\n",
        "inp = [1,2,3,4,5,6,7,8]\n",
        "def split(inp):\n",
        "    half = len(inp)//2\n",
        "    return inp[half-1::-1],inp[-1:half-1:-1]\n",
        "\n",
        "a,b = split(inp)\n",
        "req = a+b\n",
        "print(req)"
      ],
      "metadata": {
        "id": "St0cSUe12xce"
      },
      "execution_count": null,
      "outputs": []
    },
    {
      "cell_type": "code",
      "source": [
        "rows= 5\n",
        "colms= 5\n",
        "for i in range(1,rows+1):\n",
        "    for j in range(1,colms+1):\n",
        "        if (j==1 or j ==colms) or (i == 1 or i == rows) and (j>0 and j<colms):\n",
        "            print(\"0.\", end =\"\")\n",
        "        else:\n",
        "          print(end = \"  \")\n",
        "\n",
        "\n",
        "    print()"
      ],
      "metadata": {
        "id": "w3srmP256uXs"
      },
      "execution_count": null,
      "outputs": []
    },
    {
      "cell_type": "code",
      "source": [
        "n=int(input())\n",
        "ascii = 65\n",
        "for i in range(n):\n",
        "    for j in range(i+1):\n",
        "        alpha = chr(ascii)\n",
        "        print(alpha, end = \" \")\n",
        "    ascii += 1\n",
        "    print()"
      ],
      "metadata": {
        "id": "bE1ufvIxRd3x"
      },
      "execution_count": null,
      "outputs": []
    },
    {
      "cell_type": "code",
      "source": [
        "print(\"The character pattern \")\n",
        "asciiValue = 65     #ASCII value of A\n",
        "for i in range(0, 5):\n",
        "    for j in range(0, i + 1):\n",
        "        # It will convert the ASCII value to the character\n",
        "        alphabate = chr(asciiValue)\n",
        "        print(alphabate, end=' ')\n",
        "        asciiValue += 1\n",
        "    print()"
      ],
      "metadata": {
        "id": "bQZEXeT_TEVL"
      },
      "execution_count": null,
      "outputs": []
    },
    {
      "cell_type": "code",
      "source": [
        "str1 =input().split(\" \")\n",
        "substr=input()\n",
        "str2 = \"\"\n",
        "index = 0\n",
        "for i in str1:\n",
        "  if substr == i:\n",
        "    str2 = i\n",
        "index = str1[::-1].index(substr)\n",
        "print(f\"Last occurrence of {str2} starts at index {index}\")"
      ],
      "metadata": {
        "id": "0sd2TVRCnm0k"
      },
      "execution_count": null,
      "outputs": []
    },
    {
      "cell_type": "code",
      "source": [
        "inp = int(input())\n",
        "if inp > 90:\n",
        "    print(\"excellent\")\n",
        "elif inp > 80:\n",
        "    print(\"good\")\n",
        "elif inp > 70:\n",
        "    print(\"fair\")\n",
        "elif inp > 60:\n",
        "    print(\"meets expecrtation\")\n",
        "elif inp < 60:\n",
        "    print(\"below par\")\n",
        "else:\n",
        "    print(\"invalid input\")"
      ],
      "metadata": {
        "id": "r9Xb1V8GN75u"
      },
      "execution_count": null,
      "outputs": []
    },
    {
      "cell_type": "code",
      "source": [
        "digitsList=[]\n",
        "for i in range(4):\n",
        "    str = input()\n",
        "    digits=[int(x) for x in str.split(',')]\n",
        "    digitsList.append(digits)\n",
        "print(digitsList)\n",
        "for i in range(len(digitsList)):\n",
        "    rowNum = digitsList[i][0]\n",
        "    colNum = digitsList[i][1]\n",
        "    multilist = [[col for col in range(colNum)] for row in range(rowNum)]\n",
        "\n",
        "    val = 1\n",
        "    for row in range(rowNum):\n",
        "      for col in range(colNum):\n",
        "          multilist[row][col]= val\n",
        "          val +=  1\n",
        "\n",
        "    print(multilist)"
      ],
      "metadata": {
        "id": "rr4ZFWNGyLsP"
      },
      "execution_count": null,
      "outputs": []
    },
    {
      "cell_type": "code",
      "source": [
        "# for val in map(lambda x:int(x),input().split(',')):\n",
        "#   print(val)\n",
        "\n",
        "map(lambda x:int(x),input().split(','))\n"
      ],
      "metadata": {
        "id": "P8XizUJM29vb"
      },
      "execution_count": null,
      "outputs": []
    },
    {
      "cell_type": "code",
      "source": [
        "# factorial in recursion\n",
        "\n",
        "def factorial(n):\n",
        "  if n < 0:\n",
        "    return \"invalid\"\n",
        "  elif n == 0:\n",
        "    return 1\n",
        "  else:\n",
        "    return n*factorial(n-1)\n",
        "\n",
        "n = int(input())\n",
        "factorial(n)"
      ],
      "metadata": {
        "id": "4h9ofqEzLiuZ"
      },
      "execution_count": null,
      "outputs": []
    },
    {
      "cell_type": "code",
      "source": [
        "# hcf\n",
        "x = int(input())\n",
        "y = int(input())\n",
        "\n",
        "if x > y:\n",
        "  smallest = y\n",
        "else:\n",
        "  smallest = x\n",
        "a = []\n",
        "for i in range(2,smallest):\n",
        "  if (x%i == 0) and (y%i == 0):\n",
        "    a = i\n",
        "\n",
        "print(a)\n",
        "\n",
        "\n"
      ],
      "metadata": {
        "id": "gDU0mi0vzRLE"
      },
      "execution_count": null,
      "outputs": []
    },
    {
      "cell_type": "code",
      "source": [
        "# deciml to binary octal hexadeciml\n",
        "decimal = int(input())\n",
        "\n",
        "print(bin(decimal),\"binary of decimal\")\n",
        "print(oct(decimal),\"octal of decimal\")\n",
        "print(hex(decimal),\"hexadecimal of decimal\")"
      ],
      "metadata": {
        "id": "r02beiCz5RWJ"
      },
      "execution_count": null,
      "outputs": []
    },
    {
      "cell_type": "code",
      "source": [
        "# to find ascii\n",
        "inp  = input()\n",
        "char = list(inp)\n",
        "for i in char:\n",
        "  ascii = ord(i)\n",
        "  print(ascii)"
      ],
      "metadata": {
        "id": "jGYQ3Fl86zaL"
      },
      "execution_count": null,
      "outputs": []
    },
    {
      "cell_type": "code",
      "source": [
        "x= \"abcdef\"\n",
        "i = 'a'\n",
        "while i in x:\n",
        "  x = x[:-1]\n",
        "  print(i,end = \" \")"
      ],
      "metadata": {
        "id": "Es2NJHm3ju9d"
      },
      "execution_count": null,
      "outputs": []
    },
    {
      "cell_type": "code",
      "source": [
        "# four basic mathematical operation\n",
        "a = []\n",
        "for i in range(1,3):\n",
        "  x = int(input(f\"input no {i}: \"))\n",
        "  a.append(x)\n",
        "\n",
        "operations = [\"/\",\"*\", \"+\", \"-\"]\n",
        "op_inp = input()\n",
        "if op_inp in operations:\n",
        "  if op_inp == \"/\":\n",
        "    print(a[0]/a[1])\n",
        "  elif op_inp == \"*\":\n",
        "    print(a[0]*a[1])\n",
        "  elif op_inp == \"+\":\n",
        "    print(a[0]+a[1])\n",
        "  else:\n",
        "    print(a[0]-a[1])\n",
        "else:\n",
        "  print(\"invalid input\")\n",
        "\n",
        "\n"
      ],
      "metadata": {
        "id": "q1QC9L-uIDHs"
      },
      "execution_count": null,
      "outputs": []
    },
    {
      "cell_type": "code",
      "source": [
        "import time\n",
        "\n",
        "for i in range(10):\n",
        "    print(f\"Progress: {i}/10\", end=\"\\r\")\n",
        "    time.sleep(1)\n"
      ],
      "metadata": {
        "id": "X68WtVET0PNV"
      },
      "execution_count": null,
      "outputs": []
    },
    {
      "cell_type": "code",
      "source": [
        "\n",
        "\n",
        "animation = \"|/-\\\\\"\n",
        "for i in range(10):\n",
        "    print(f\"Loading {animation[i % len(animation)]}\\r123\")\n",
        "\n"
      ],
      "metadata": {
        "id": "CHWzs7Fq0kIc"
      },
      "execution_count": null,
      "outputs": []
    },
    {
      "cell_type": "code",
      "source": [
        "# fibonacci series using recursion(repetation)\n",
        "def recr_fibo(n):\n",
        "  if n <= 1:\n",
        "    return n\n",
        "  else:\n",
        "    return (recr_fibo(n-1)+ recr_fibo(n-2))\n",
        "\n",
        "\n",
        "series_length = int(input())\n",
        "if series_length < 0:\n",
        "  print(\"invalid input\")\n",
        "else:\n",
        "  print(\"fibonacci series: \")\n",
        "  for i in range(series_length):\n",
        "    print(recr_fibo(i), end =\" \")"
      ],
      "metadata": {
        "id": "cfkkVw3tJuT9"
      },
      "execution_count": null,
      "outputs": []
    },
    {
      "cell_type": "code",
      "source": [
        "n = int(input(\"please give a number for fibonacci series : \"))\n",
        "first,second=0,1\n",
        "print(\"fibonacci series are : \")\n",
        "for i in range(0,n):\n",
        "    if i<=1:\n",
        "        result=i\n",
        "    else:\n",
        "      result = first + second;\n",
        "      first = second;\n",
        "      second = result;\n",
        "    print(result, end = \" \")"
      ],
      "metadata": {
        "id": "VMif6-vXtNlB"
      },
      "execution_count": null,
      "outputs": []
    },
    {
      "cell_type": "code",
      "source": [
        "# factorial program using recurtion\n",
        "def factorial(n):\n",
        "  if n == 1:\n",
        "    return n\n",
        "  else:\n",
        "    return n*factorial(n-1)\n",
        "\n",
        "n = int(input())\n",
        "\n",
        "if n < 0:\n",
        "  print(\"invalid input\")\n",
        "elif n == 0:\n",
        "  print(\"factorial of 0 is 1\")\n",
        "else:\n",
        "  print(f\"factorial of {n} is {factorial(n)}\")\n",
        "\n"
      ],
      "metadata": {
        "id": "PE-v2RRqbwxW"
      },
      "execution_count": null,
      "outputs": []
    },
    {
      "cell_type": "code",
      "source": [
        "# cube sum of n natural numbers\n",
        "n = int(input())\n",
        "sum = 0\n",
        "for i in range(1, n+1):\n",
        "  sum += i**3\n",
        "print(sum)"
      ],
      "metadata": {
        "id": "iAhZriXIhWgK"
      },
      "execution_count": null,
      "outputs": []
    },
    {
      "cell_type": "code",
      "source": [
        "# sum of array\n",
        "lst = list(input().split(\",\"))\n",
        "sum = 0\n",
        "for i in lst:\n",
        "  sum += int(i)\n",
        "print(sum)\n"
      ],
      "metadata": {
        "id": "GFTkXus-jhP8"
      },
      "execution_count": null,
      "outputs": []
    },
    {
      "cell_type": "code",
      "source": [
        "# find largest element in arary\n",
        "n = int(input())\n",
        "lst = []\n",
        "for i in range(n):\n",
        "  element = input()\n",
        "  lst.append(element)\n",
        "print(lst)\n",
        "\n",
        "y = max(lst)\n",
        "print(y)"
      ],
      "metadata": {
        "id": "mfGW9CgQkqyk"
      },
      "execution_count": null,
      "outputs": []
    },
    {
      "cell_type": "code",
      "source": [
        "array = []\n",
        "for i in range(2):\n",
        "  array.append(int(input()))\n",
        "\n",
        "print(array[::-1])"
      ],
      "metadata": {
        "id": "UIN02fjZrFjx"
      },
      "execution_count": null,
      "outputs": []
    },
    {
      "cell_type": "code",
      "source": [
        "# add first part to end of the array\n",
        "\n",
        "\n",
        "def replace(array, n, pos):\n",
        "  for i in range(0, pos):\n",
        "    x = array[0]\n",
        "    for j in range(0,n-1):\n",
        "      array[j] = array[j+1]\n",
        "\n",
        "    array[n - 1] = x\n",
        "\n",
        "array = []\n",
        "for i in range(int(input(\"length of array: \"))):\n",
        "  array.append(int(input(\"array element: \")))\n",
        "n = len(array)\n",
        "pos = int(input(\"replacement position: \"))\n",
        "replace(array, n, pos)\n",
        "for i in range(0, n):\n",
        "\tprint(array[i], end = ' ')\n"
      ],
      "metadata": {
        "id": "LrNcGltHs4NK"
      },
      "execution_count": null,
      "outputs": []
    },
    {
      "cell_type": "code",
      "source": [
        "def SplitArray(arr, n, k):\n",
        "\tfor i in range(0, k):\n",
        "\t\tx = arr[0]\n",
        "\t\tfor j in range(0, n-1):\n",
        "\t\t\tarr[j] = arr[j + 1]\n",
        "\n",
        "\t\tarr[n-1] = x\n",
        "arr = [15, 40, 20, 16, 50, 36]\n",
        "n = len(arr)\n",
        "position = 2\n",
        "SplitArray(arr, n, position)\n",
        "for i in range(0, n):\n",
        "\tprint(arr[i], end = ' ')"
      ],
      "metadata": {
        "id": "3_CdA19GHnZz"
      },
      "execution_count": null,
      "outputs": []
    },
    {
      "cell_type": "code",
      "source": [
        "# Write a Python program to print even length words in a string using list comprehension\n",
        "inp = input().split(\" \")\n",
        "lst = list(inp)\n",
        "# for i in lst:\n",
        "#   if len(i)%2 == 0:\n",
        "#     print(i)\n",
        "out = [i for i in lst if len(i)%2 == 0]\n",
        "print(out)"
      ],
      "metadata": {
        "id": "4XnwJK8dVQo0"
      },
      "execution_count": null,
      "outputs": []
    },
    {
      "cell_type": "code",
      "source": [
        "# given array is monotonic or not\n",
        "def monotonic(arr):\n",
        "  x,y = [], []\n",
        "  x.extend(arr)\n",
        "  y.extend(arr)\n",
        "  x.sort()\n",
        "  y.sort(reverse = True)\n",
        "  if (x == arr or y == arr):\n",
        "    print(\"monotonic\")\n",
        "  else:\n",
        "    print(\"not monotonic\")\n",
        "\n",
        "\n",
        "arr = []\n",
        "for j in range(int(input(\"length of arr: \"))):\n",
        "  arr.append(int(input(\"elements: \")))\n",
        "monotonic(arr)"
      ],
      "metadata": {
        "id": "v1_RsXHOZ8Kt"
      },
      "execution_count": null,
      "outputs": []
    },
    {
      "cell_type": "code",
      "source": [
        "# add two matrix\n",
        "x = [[1,2,4],\n",
        "     [4,5,2],\n",
        "     [5,3,6]]\n",
        "\n",
        "y = [[4,3,5],\n",
        "     [5,4,6],\n",
        "     [7,9,6]]\n",
        "\n",
        "result = [[0,0,0],\n",
        "          [0,0,0],\n",
        "          [0,0,0]]\n",
        "\n",
        "for i in range(len(x)):\n",
        "  for j in range(len(x[0])):\n",
        "    result[i][j] = x[i][j]+y[i][j]\n",
        "\n",
        "for r in result:\n",
        "  print(r)"
      ],
      "metadata": {
        "id": "TpGyd3UyzNV_"
      },
      "execution_count": null,
      "outputs": []
    },
    {
      "cell_type": "code",
      "source": [
        "# multiply two matrix\n",
        "x = [[4,5,3],\n",
        "     [5,3,2],\n",
        "     [7,6,5]]\n",
        "\n",
        "y = [[2,3,9],\n",
        "     [3,6,8],\n",
        "     [3,4,9]]\n",
        "\n",
        "result = [[1,1,1],\n",
        "          [1,1,1],\n",
        "          [1,1,1]]\n",
        "\n",
        "for i in range(len(x)):\n",
        "  for j in range(len(x[0])):\n",
        "    result[i][j] = x[i][j]*y[i][j]\n",
        "\n",
        "\n",
        "for r in result:\n",
        "  print(r)"
      ],
      "metadata": {
        "id": "kmcj-hklCmNi"
      },
      "execution_count": null,
      "outputs": []
    },
    {
      "cell_type": "code",
      "source": [
        "# transpose of matrix\n",
        "a = [[4,5,6],\n",
        "     [3,2,5]]\n",
        "\n",
        "transpose = [[0,0],\n",
        "             [0,0],\n",
        "             [0,0]]\n",
        "\n",
        "for i in range(len(a)):\n",
        "  for j in range(len(a[0])):\n",
        "    transpose[j][i] = a[i][j]\n",
        "\n",
        "for t in transpose:\n",
        "  print(t)"
      ],
      "metadata": {
        "id": "PUBOU1NUD_ZT"
      },
      "execution_count": null,
      "outputs": []
    },
    {
      "cell_type": "code",
      "source": [
        "# sort words in alphabetic order\n",
        "string = input().split(' ')\n",
        "result = []\n",
        "for i in string:\n",
        "  result.append(i)\n",
        "\n",
        "x = result.sort()\n",
        "print(result)\n"
      ],
      "metadata": {
        "id": "GHBtZXJrJRPY"
      },
      "execution_count": null,
      "outputs": []
    },
    {
      "cell_type": "code",
      "source": [
        "punc = '''!()-[]{};:'\"\\,<>./?@#$%^&*_~'''\n",
        "\n",
        "words = input()\n",
        "result = \"\"\n",
        "for i in words:\n",
        "  if i not in punc:\n",
        "    result += i\n",
        "print(result)\n"
      ],
      "metadata": {
        "id": "jtNCXMdnNDOL"
      },
      "execution_count": null,
      "outputs": []
    },
    {
      "cell_type": "code",
      "source": [
        "# disarium number (175 = 1^1 + 7^2 + 5^3 = 1 + 49 +125 =175)\n",
        "n = int(input())\n",
        "\n",
        "def disarium(n):\n",
        "  num = 0\n",
        "  for i in range(len(str(n))):\n",
        "    num += int(str(n)[i])**(i+1)\n",
        "  return num\n",
        "\n",
        "if n == disarium(n):\n",
        "  print(\"disarium no\")\n",
        "else:\n",
        "  print(\"not disarium no\")\n",
        "\n"
      ],
      "metadata": {
        "id": "NExF_31Vk2zP"
      },
      "execution_count": null,
      "outputs": []
    },
    {
      "cell_type": "code",
      "source": [
        "175//10"
      ],
      "metadata": {
        "id": "3JoHt1leqFP5"
      },
      "execution_count": null,
      "outputs": []
    },
    {
      "cell_type": "code",
      "source": [
        "# disarium no from 1 to 100\n",
        "def disarium(n):\n",
        "  num = 0\n",
        "  for i in range(len(str(n))):\n",
        "    num += int(str(n)[i])**(i+1)\n",
        "  return num\n",
        "\n",
        "for i in range(100):\n",
        "  if i == disarium(i):\n",
        "    print(i, end = \" \")"
      ],
      "metadata": {
        "id": "xKboKaU-qG-V"
      },
      "execution_count": null,
      "outputs": []
    },
    {
      "cell_type": "code",
      "source": [
        "# happy number\n",
        "inp = int(input())\n",
        "def happynum(inp):\n",
        "  sum = 0\n",
        "  while inp > 0:\n",
        "    digit = inp%10\n",
        "    sum += digit**2\n",
        "    inp //= 10\n",
        "  return sum\n",
        "\n",
        "result = happynum(inp)\n",
        "while (result != 1 and result > 0):\n",
        "  result = happynum(result)\n",
        "\n",
        "if result == 1:\n",
        "  print(\"happy num\")\n",
        "else:\n",
        "  print(\"Not happy num\")"
      ],
      "metadata": {
        "id": "9jbo5QWbsVTV"
      },
      "execution_count": null,
      "outputs": []
    },
    {
      "cell_type": "code",
      "source": [
        "def is_Happy_num(n):\n",
        "  past = set()\n",
        "  while n != 1:\n",
        "        n = sum(int(i)**2 for i in str(n))\n",
        "        if n in past:\n",
        "            return False\n",
        "        past.add(n)\n",
        "  return True\n",
        "\n",
        "n = int(input())\n",
        "is_Happy_num(n)"
      ],
      "metadata": {
        "id": "UTlNAn_5T2Ru"
      },
      "execution_count": null,
      "outputs": []
    },
    {
      "cell_type": "code",
      "source": [
        "a = int(input())\n",
        "lst = []\n",
        "for i in range(a):\n",
        "  element = int(input())\n",
        "  lst.append(element)\n",
        "\n",
        "sum = 0\n",
        "for i in lst:\n",
        "  sum += i\n",
        "print(sum)\n"
      ],
      "metadata": {
        "id": "q6Afh0_g75X9"
      },
      "execution_count": null,
      "outputs": []
    },
    {
      "cell_type": "code",
      "source": [
        "a = int(input())\n",
        "b = []\n",
        "for i in range(a):\n",
        "  elem = int(input())\n",
        "  b.append(elem)\n",
        "\n",
        "mult = 1\n",
        "for i in b:\n",
        "  mult *= i\n",
        "print(mult)"
      ],
      "metadata": {
        "id": "zPwETII8-LLu"
      },
      "execution_count": null,
      "outputs": []
    },
    {
      "cell_type": "code",
      "source": [
        "num = int(input())\n",
        "lst = []\n",
        "for i in range(num):\n",
        "  elem = input()\n",
        "  lst.append(elem)\n",
        "\n",
        "y = min(lst)\n",
        "# minimum = min(lst)\n",
        "# print(minimum)\n",
        "# max = max(lst)\n",
        "print(y)"
      ],
      "metadata": {
        "id": "-uL0Zkl8-LId"
      },
      "execution_count": null,
      "outputs": []
    },
    {
      "cell_type": "code",
      "source": [
        "# second largest\n",
        "a = int(input())\n",
        "b = []\n",
        "for i in range(a):\n",
        "  elem = int(input())\n",
        "  b.append(elem)\n",
        "\n",
        "b.sort()\n",
        "print(b[-2:])"
      ],
      "metadata": {
        "id": "CRe0eKDx-KZZ"
      },
      "execution_count": null,
      "outputs": []
    },
    {
      "cell_type": "code",
      "source": [
        "a = int(input())\n",
        "lst = []\n",
        "for i in range(a):\n",
        "  elem = int(input())\n",
        "  lst.append(elem)\n",
        "\n",
        "lst.sort()\n",
        "inp = int(input(\"no of largest elem: \"))\n",
        "for i in range(1,inp+1):\n",
        "  print(lst[-i], end = \" \")"
      ],
      "metadata": {
        "id": "5NgTQh6kXM1C"
      },
      "execution_count": null,
      "outputs": []
    },
    {
      "cell_type": "code",
      "source": [
        "# even no\n",
        "a1 = int(input())\n",
        "inp1 = []\n",
        "for i in range(a1):\n",
        "  elem = int(input())\n",
        "  inp1.append(elem)\n",
        "\n",
        "for i in inp1:\n",
        "  if i % 2 == 0:\n",
        "    print(i)\n"
      ],
      "metadata": {
        "id": "jOjH_JpBbGPS"
      },
      "execution_count": null,
      "outputs": []
    },
    {
      "cell_type": "code",
      "source": [
        "# odd num\n",
        "ins = int(input())\n",
        "b = []\n",
        "for i in range(ins):\n",
        "  elem = int(input())\n",
        "  b.append(elem)\n",
        "\n",
        "for i in b:\n",
        "  if i % 2 == 1:\n",
        "    print(i, end = \" \")"
      ],
      "metadata": {
        "id": "uaW-71hwgHit"
      },
      "execution_count": null,
      "outputs": []
    },
    {
      "cell_type": "code",
      "source": [
        "# removing empty list from lists\n",
        "ins = int(input())\n",
        "b = []\n",
        "for i in range(ins):\n",
        "  elem = input()\n",
        "  b.append(elem)\n",
        "\n",
        "print(b)\n",
        "z = [elem for elem in b if elem != '[]']\n",
        "print(z)"
      ],
      "metadata": {
        "id": "0fgLGxyUhHyI"
      },
      "execution_count": null,
      "outputs": []
    },
    {
      "cell_type": "code",
      "source": [
        "# cloning or copying a lsit\n",
        "a = int(input())\n",
        "inp = []\n",
        "for i in range(a):\n",
        "  elem = int(input())\n",
        "  inp.append(elem)\n",
        "\n",
        "cloned_list = inp\n",
        "print(cloned_list)"
      ],
      "metadata": {
        "id": "VCYwrvSFpXPI"
      },
      "execution_count": null,
      "outputs": []
    },
    {
      "cell_type": "code",
      "source": [
        "# count occurance of an element\n",
        "a = int(input())\n",
        "b = []\n",
        "for i in range(a):\n",
        "  elem = int(input())\n",
        "  b.append(elem)\n",
        "\n",
        "x = b.count(5)\n",
        "print(f\"count of elem is  {x}\")"
      ],
      "metadata": {
        "id": "4-1d5aMdqU5Q"
      },
      "execution_count": null,
      "outputs": []
    },
    {
      "cell_type": "code",
      "source": [
        "# find words greator than given length\n",
        "inp = input('your sentence: ').split(\" \")\n",
        "\n",
        "length = int(input())\n",
        "lst_of_words = [word for word in inp]\n",
        "\n",
        "for word in lst_of_words:\n",
        "  if len(word) > length:\n",
        "    print(word, end=\" \")\n"
      ],
      "metadata": {
        "id": "gKPZPnkrNk2e"
      },
      "execution_count": null,
      "outputs": []
    },
    {
      "cell_type": "code",
      "source": [
        "# removing ith character from a string\n",
        "inp = input()\n",
        "str_new = \"\"\n",
        "ith = int(input())\n",
        "for i in range(len(inp)):\n",
        "  if i != ith:\n",
        "    str_new += inp[i]\n",
        "\n",
        "print(str_new)\n",
        "\n"
      ],
      "metadata": {
        "id": "jMcbCGk7QNrI"
      },
      "execution_count": null,
      "outputs": []
    },
    {
      "cell_type": "code",
      "source": [
        "# split and join the string\n",
        "inp = input().split(\" \")\n",
        "inp2 = input(\"delimiter: \")\n",
        "result = inp2.join(inp)\n",
        "print(result)\n"
      ],
      "metadata": {
        "id": "Qe-6qO9IgE3w"
      },
      "execution_count": null,
      "outputs": []
    },
    {
      "cell_type": "code",
      "source": [
        "# find uncommon words from two string\n",
        "inp1 = input().split(\" \")\n",
        "inp2 = input().split(\" \")\n",
        "new_str = \"\"\n",
        "for i in inp1:\n",
        "  if i not in inp2:\n",
        "    new_str += i\n",
        "\n",
        "for j in inp2:\n",
        "  if j not in inp1:\n",
        "    new_str += j\n",
        "\n",
        "print(new_str)\n",
        "\n"
      ],
      "metadata": {
        "id": "AxtBMoG5iN9y"
      },
      "execution_count": null,
      "outputs": []
    },
    {
      "cell_type": "code",
      "source": [
        "# to check string is binary or not\n",
        "strng = input()\n",
        "compare_set = {\"0\", \"1\"}\n",
        "a =set(strng)\n",
        "\n",
        "if a == compare_set or a == '0' or a =='1':\n",
        "  print(\"string is binary\")\n",
        "else:\n",
        "  print(\"string is not binary\")"
      ],
      "metadata": {
        "id": "xbRnKib4km8H"
      },
      "execution_count": null,
      "outputs": []
    },
    {
      "cell_type": "code",
      "source": [
        "# find all duplicate characters in string\n",
        "inp = input()\n",
        "strs = \"\"\n",
        "for i in range(len(inp)):\n",
        "  for j in range(i+1,len(inp)):\n",
        "    if inp[i] == inp[j]:\n",
        "      strs += inp[i]\n",
        "print(strs)"
      ],
      "metadata": {
        "id": "wK_R4A23ETMV"
      },
      "execution_count": null,
      "outputs": []
    },
    {
      "cell_type": "code",
      "source": [
        "# program to check special character in string\n",
        "strs = input()\n",
        "new_strs = \"\"\n",
        "spl_char = '[\"#$!@%^&*();:''<>,./\\\"]'\n",
        "for i in strs:\n",
        "  if i not in spl_char:\n",
        "    new_strs += i\n",
        "\n",
        "print(new_strs)"
      ],
      "metadata": {
        "id": "JhO6r076Idn2"
      },
      "execution_count": null,
      "outputs": []
    },
    {
      "cell_type": "code",
      "source": [
        "# dicitionary :- extract unique values of dicitionary\n",
        "dic = {}\n",
        "for i in range(2):\n",
        "  key = input(\"key: \")\n",
        "  value= input(\"value: \").split(',')\n",
        "\n",
        "  dic[key] = value\n",
        "\n",
        "print(dic)\n",
        "result = ''\n",
        "for i in dic.values():\n",
        "  for j in i:\n",
        "    result += j\n",
        "t = set(result)\n",
        "print(sorted(t))\n"
      ],
      "metadata": {
        "id": "YGzUSS5K776H"
      },
      "execution_count": null,
      "outputs": []
    },
    {
      "cell_type": "code",
      "source": [
        "s = [2,4,3,6,1]\n",
        "y = sorted(s)\n",
        "print(y)"
      ],
      "metadata": {
        "id": "FzU60j6AO5sG"
      },
      "execution_count": null,
      "outputs": []
    },
    {
      "cell_type": "code",
      "source": [
        "# find the sum of all items in a dicitionary\n",
        "dict1 = {}\n",
        "for i in range(2):\n",
        "  key = input(\"key: \")\n",
        "  values = int(input(\"val: \"))\n",
        "\n",
        "  dict1[key] = values\n",
        "\n",
        "result = sum(dict1.values())\n",
        "print(result)\n",
        "\n"
      ],
      "metadata": {
        "id": "hdwtfKhCAzqJ"
      },
      "execution_count": null,
      "outputs": []
    },
    {
      "cell_type": "code",
      "source": [
        "# merging two dicitionary\n",
        "dict1 = {\"a\":123,\"b\":234,\"c\":125}\n",
        "dict2 = {\"d\":456, \"e\" : 732}\n",
        "\n",
        "dict1.update(dict2)\n",
        "print(dict1)"
      ],
      "metadata": {
        "id": "4ZapLWELIKnV"
      },
      "execution_count": null,
      "outputs": []
    },
    {
      "cell_type": "code",
      "source": [
        "# key values list to flat dicitionary\n",
        "dict1 = {}\n",
        "num = 2\n",
        "while len(dict1) < num:\n",
        "  key = input(\"key: \")\n",
        "  value = input(\"value: \").split(\",\")\n",
        "  dict1[key] = value\n",
        "\n",
        "new_dict = dict(zip(dict1['month'], dict1['name']))\n",
        "print(new_dict)"
      ],
      "metadata": {
        "id": "9Q_8S0syKrrl"
      },
      "execution_count": null,
      "outputs": []
    },
    {
      "cell_type": "code",
      "source": [
        "g = dict()\n",
        "for x in enumerate(range(2)):\n",
        "  g[x[0]] = x[1]\n",
        "  g[x[1]+7] = x[0]\n",
        "\n",
        "print(g)"
      ],
      "metadata": {
        "id": "JSQB6aX0vQE5"
      },
      "execution_count": null,
      "outputs": []
    },
    {
      "cell_type": "code",
      "source": [
        "D = list((input()).split(','))\n",
        "C = 50\n",
        "H = 30\n",
        "for elem in D:\n",
        "  Q = ((2*C*int(elem))/H)**0.5\n",
        "  print(int(Q), end =\" \")"
      ],
      "metadata": {
        "id": "HYq87nUqvme4"
      },
      "execution_count": null,
      "outputs": []
    },
    {
      "cell_type": "code",
      "source": [
        "# program to generate 2d array\n",
        "rows = int(input())\n",
        "cols = int(input())\n",
        "arr = [[i*j for i in range(cols)] for j in range(rows)]\n",
        "print(arr)"
      ],
      "metadata": {
        "id": "l2jbAq2LTrlb"
      },
      "execution_count": null,
      "outputs": []
    },
    {
      "cell_type": "code",
      "source": [
        "# Write a program that accepts a comma separated sequence of words as input and prints the words in a comma-separated sequence after sorting them alphabetically.\n",
        "inp = input().split(\",\")\n",
        "inp.sort()\n",
        "print(\",\".join(inp))\n",
        "\n",
        "\n"
      ],
      "metadata": {
        "id": "GVzfpS9zwOF0"
      },
      "execution_count": null,
      "outputs": []
    },
    {
      "cell_type": "code",
      "source": [
        "# Write a program that accepts a sequence of whitespace separated words as input and prints the words after removing all duplicate words and sorting them alphanumerically.\n",
        "inp = input().split( )\n",
        "lst = []\n",
        "for i in inp:\n",
        "  if i not in lst:\n",
        "    lst.append(i)\n",
        "  else:\n",
        "    continue\n",
        "\n",
        "lst.sort()\n",
        "print(\" \".join(lst))\n",
        "\n",
        "\n"
      ],
      "metadata": {
        "id": "lw96g0N76UKI"
      },
      "execution_count": null,
      "outputs": []
    },
    {
      "cell_type": "code",
      "source": [
        "# Write a program that accepts a sentence and calculate the number of letters and digits.Suppose the following input is supplied to the program:\n",
        "inp = input()\n",
        "alphabets = \"abcdefghijklmnopqrstuvwxyzABCDEFGHIJKLMNOPQRSTUVWXYZ\"\n",
        "num = \"1234567890\"\n",
        "letters = 0\n",
        "digits = 0\n",
        "for i in inp:\n",
        "  if i in alphabets:\n",
        "    letters += 1\n",
        "  elif i in num:\n",
        "    digits += 1\n",
        "  else:\n",
        "    continue\n",
        "\n",
        "print(\"letters: {}\".format(letters))\n",
        "print(\"digits: {}\".format(digits))\n"
      ],
      "metadata": {
        "id": "ZUb15jValpBD"
      },
      "execution_count": null,
      "outputs": []
    },
    {
      "cell_type": "code",
      "source": [
        "# A website requires the users to input username and password to register. Write a program to check the validity of password input by users.\n",
        "# Following are the criteria for checking the password:\n",
        "# 1. At least 1 letter between [a-z]\n",
        "# 2. At least 1 number between [0-9]\n",
        "# 3. At least 1 letter between [A-Z]\n",
        "# 4. At least 1 character from [$#@]\n",
        "# 5. Minimum length of transaction password: 6\n",
        "# 6. Maximum length of transaction password: 12\n",
        "\n",
        "inp = input().split(\",\")\n",
        "val_pswds = \"abcdefghijklmnopqrstuvwxyzABCDEFGHIJKLMNOPQRSTUVWXYZ~!@#$%^&*()_?/:;1234567890\"\n",
        "\n",
        "pswd = []\n",
        "for pswds in inp:\n",
        "  for i in pswds:\n",
        "    if i in val_pswds:\n",
        "      pswd.append(pswds)\n",
        "    else:\n",
        "        continue\n",
        "print(pswd)\n",
        "\n"
      ],
      "metadata": {
        "id": "IRolkJLhpUWP"
      },
      "execution_count": null,
      "outputs": []
    },
    {
      "cell_type": "markdown",
      "source": [
        "Pattern Matching\n"
      ],
      "metadata": {
        "id": "lZMUlchheXKc"
      }
    },
    {
      "cell_type": "code",
      "source": [
        "# left side triangle\n",
        "inp = int(input())\n",
        "for i in range(inp):\n",
        "  for j in range(i+1):\n",
        "    print('*',end = \" \")\n",
        "  print()"
      ],
      "metadata": {
        "id": "D_hgnFUiev3h"
      },
      "execution_count": null,
      "outputs": []
    },
    {
      "cell_type": "code",
      "source": [
        "# odd stars in triangle\n",
        "inp = int(input())\n",
        "k = 1\n",
        "for i in range(inp):\n",
        "  for j in range(1,k+1):\n",
        "    print(\"*\", end =\" \")\n",
        "  k += 2\n",
        "  print()"
      ],
      "metadata": {
        "id": "wyzR1M0Qfo3l"
      },
      "execution_count": null,
      "outputs": []
    },
    {
      "cell_type": "code",
      "source": [
        "# print pyramid shape\n",
        "inp = int(input())\n",
        "for i in range(inp):\n",
        "  for j in range(inp-i-1):\n",
        "    print(end = \" \")\n",
        "  for j in range(i+1):\n",
        "    print(\"*\", end = \" \")\n",
        "  print()"
      ],
      "metadata": {
        "id": "Nk00VgrikdT_"
      },
      "execution_count": null,
      "outputs": []
    },
    {
      "cell_type": "code",
      "source": [
        "# reverse pyramid\n",
        "inp = int(input())\n",
        "for i in range(inp):\n",
        "  for j in range(i):\n",
        "    print(end = \" \")\n",
        "  for j in range(inp-i):\n",
        "    print(\"*\", end = \" \")\n",
        "  print()\n"
      ],
      "metadata": {
        "id": "cFxX_1MZntkj"
      },
      "execution_count": null,
      "outputs": []
    },
    {
      "cell_type": "code",
      "source": [
        "# print in diamond shape\n",
        "def pyramid(inp):\n",
        "  for i in range(inp):\n",
        "    print(\" \"*(inp-i-1) + \"* \"*(i+1))\n",
        "  for j in range(inp-1,0,-1):\n",
        "    print(\" \"*(inp-j) + \"* \"*j)\n",
        "\n",
        "pyramid(5)\n"
      ],
      "metadata": {
        "id": "Ej22S1IdqYvG"
      },
      "execution_count": null,
      "outputs": []
    },
    {
      "cell_type": "code",
      "source": [
        "inp = int(input())\n",
        "for i in range(inp):\n",
        "  for j in range(inp-i):\n",
        "    print(\"*\", end= \" \")\n",
        "  print()"
      ],
      "metadata": {
        "id": "2KfFmpjGy1wB"
      },
      "execution_count": null,
      "outputs": []
    },
    {
      "cell_type": "code",
      "source": [
        "for row in range(7):\n",
        "  for col in range(5):\n",
        "    if ((col == 0 or col == 4) and row != 0) or ((row == 0 or row == 3) and (col > 0 and col < 4)):\n",
        "      print(\"*\", end =\"\")\n",
        "    else:\n",
        "      print(end = \" \")\n",
        "\n",
        "  print()\n"
      ],
      "metadata": {
        "id": "1eLwYAY6zgqL"
      },
      "execution_count": null,
      "outputs": []
    },
    {
      "cell_type": "code",
      "source": [
        "n = int(input())\n",
        "i=1\n",
        "\n",
        "while i <= n:\n",
        "    j=1\n",
        "    while j <= i:\n",
        "        if i == 1:\n",
        "            print(1,end ='')\n",
        "\n",
        "        elif j == 1 or j == i:\n",
        "            print(i-1,end ='')\n",
        "\n",
        "        else:\n",
        "            print(0,end='')\n",
        "\n",
        "        j=j+1\n",
        "    print()\n",
        "    i=i+1"
      ],
      "metadata": {
        "id": "4PTyjEQcIE9b"
      },
      "execution_count": null,
      "outputs": []
    },
    {
      "cell_type": "code",
      "source": [
        "# square alphabet pattern\n",
        "n = int(input())\n",
        "alphabet = 65\n",
        "for i in range(n):\n",
        "  for j in range(n):\n",
        "    print(chr(alphabet + j), end = \"\")\n",
        "  alphabet += 1\n",
        "\n",
        "  print()"
      ],
      "metadata": {
        "id": "H1nG1I2-Kb88"
      },
      "execution_count": null,
      "outputs": []
    },
    {
      "cell_type": "code",
      "source": [
        "n = int(input())\n",
        "for i in range(n):\n",
        "  for j in range(n-i):\n",
        "    print(n-i,end =\"\")\n",
        "  print()"
      ],
      "metadata": {
        "id": "gR9i_qWsPfh6"
      },
      "execution_count": null,
      "outputs": []
    },
    {
      "cell_type": "code",
      "source": [
        "n = int(input())\n",
        "for i in range(n):\n",
        "  for j in range(n-i-1):\n",
        "    print(\" \",end = \" \")\n",
        "  for j in range(i,-1,-1):\n",
        "    print(j+1, end= \" \")\n",
        "  print()"
      ],
      "metadata": {
        "id": "TLkmxQhZR7LA"
      },
      "execution_count": null,
      "outputs": []
    },
    {
      "cell_type": "code",
      "source": [
        "n =5\n",
        "for i in range(n,-1,-1):\n",
        "  print(i)\n"
      ],
      "metadata": {
        "id": "08N5OhPaVLAy"
      },
      "execution_count": null,
      "outputs": []
    },
    {
      "cell_type": "code",
      "source": [
        "n = int(input())\n",
        "for i in range(n):\n",
        "  for j in range(i):\n",
        "    print(\" \", end= \"\")\n",
        "  for j in range(n-i):\n",
        "    print(j+i+1,end=\"\")\n",
        "  print()\n",
        "for i in range(n-2,-1,-1):\n",
        "  for j in range(i):\n",
        "    print(\" \",end = \"\")\n",
        "  for j in range(n-i):\n",
        "    print(j+i+1, end =\"\")\n",
        "  print()\n"
      ],
      "metadata": {
        "id": "sOax2lHGVR0x"
      },
      "execution_count": null,
      "outputs": []
    },
    {
      "cell_type": "code",
      "source": [
        "def print_pattern(n):\n",
        "    for i in range(n):\n",
        "        for j in range(i):\n",
        "            print(\" \", end=\"\")\n",
        "        for k in range(n - i):\n",
        "            print(k + i + 1, end=\"\")\n",
        "        print()\n",
        "\n",
        "    for i in range(n - 2, -1, -1):\n",
        "        for j in range(i):\n",
        "            print(\" \", end=\"\")\n",
        "        for k in range(n - i):\n",
        "            print(k + i + 1, end=\"\")\n",
        "        print()\n",
        "\n",
        "n = 5  # Number of rows in the pattern\n",
        "print_pattern(n)\n",
        "\n"
      ],
      "metadata": {
        "id": "eNOnFwgzbE14"
      },
      "execution_count": null,
      "outputs": []
    },
    {
      "cell_type": "code",
      "source": [
        "n = int(input('Enter the number:'))\n",
        "i = 0\n",
        "while i <= n - 1:\n",
        "    j = 0\n",
        "    while j < i:\n",
        "        # display space\n",
        "        print('', end= ' ')\n",
        "        j += 1\n",
        "    k = i\n",
        "    while k <= n - 1:\n",
        "        print(k+1, end= '')\n",
        "        k += 1\n",
        "    print()\n",
        "    i += 1\n",
        "\n",
        "i = n - 1\n",
        "while i >= 0:\n",
        "    j = 0\n",
        "    while j < i:\n",
        "        print('', end= ' ')\n",
        "        j += 1\n",
        "    k = i\n",
        "    while k <=  n - 1:\n",
        "        print(k+1, end= '')\n",
        "        k += 1\n",
        "    print('')\n",
        "    i -= 1"
      ],
      "metadata": {
        "id": "bi8Ix_deXGGo"
      },
      "execution_count": null,
      "outputs": []
    },
    {
      "cell_type": "code",
      "source": [
        "n = int(input())\n",
        "for i in range(1,n+1):\n",
        "  for k in range(i,1,-1):\n",
        "    print((k*n)+i,end = \"\")\n",
        "  for j in range(1,n+1):\n",
        "    print(j,end= \"\")\n",
        "\n",
        "  print()"
      ],
      "metadata": {
        "id": "zW1pE5hgsYKN"
      },
      "execution_count": null,
      "outputs": []
    },
    {
      "cell_type": "code",
      "source": [
        "n = int(input())\n",
        "upper = int(n/2)+1\n",
        "lower = n - upper\n",
        "start_i_lower = 0\n",
        "\n",
        "for i in range(0, upper):\n",
        "  if i != 0:\n",
        "    i = i + i\n",
        "  start = n*i + 1\n",
        "  end = start + n\n",
        "\n",
        "  for j in range(start, end):\n",
        "    print(j, end =\" \")\n",
        "  start_i_lower = i\n",
        "  print()\n",
        "\n",
        "start_i_lower -= 1\n",
        "\n",
        "for i in range(0, lower):\n",
        "  if(n%2 == 0):\n",
        "    start_i_lower -= 1\n",
        "\n",
        "  start = n*(start_i_lower-1) + 1\n",
        "  end = start + n\n",
        "\n",
        "  for j in range(1, n+1):\n",
        "        print(j+n, end =\" \")\n",
        "\n",
        "  print()"
      ],
      "metadata": {
        "id": "w0_bFMoN76VQ"
      },
      "execution_count": null,
      "outputs": []
    },
    {
      "cell_type": "code",
      "source": [
        "n = 5\n",
        "h = 0\n",
        "d = int(n/2)+1\n",
        "for r in range(0, n):\n",
        "\ts=''\n",
        "\tfor c in range(1, n+1):\n",
        "\t\tif r<d:\n",
        "\t\t\th = r*2\n",
        "\t\telif r==d:\n",
        "\t\t\th = d\n",
        "\t\telse:\n",
        "\t\t\th = int(d/3)\n",
        "\t\ts+=str(h*n+c) + ' '\n",
        "\tprint(s)"
      ],
      "metadata": {
        "id": "gj9oHpzJ8LKJ"
      },
      "execution_count": null,
      "outputs": []
    },
    {
      "cell_type": "code",
      "source": [
        "import math\n",
        "\n",
        "n = int(input())\n",
        "\n",
        "for i in range(math.ceil(n/2)):\n",
        "\n",
        "  for j in range(1, n+1):\n",
        "\n",
        "    print( n*2*i + j, end =\" \")\n",
        "\n",
        "  print ()\n",
        "\n",
        "  for i in range(int(n/2),0, -1):\n",
        "\n",
        "    for j in range( 1, n+1):\n",
        "\n",
        "      print(n*(2*i-1) + j, end =\" \")\n",
        "\n",
        "  print()"
      ],
      "metadata": {
        "id": "426xR3flAuI_"
      },
      "execution_count": null,
      "outputs": []
    },
    {
      "cell_type": "code",
      "source": [
        "n = int(input())\n",
        "for i in range(n):\n",
        "  for j in range(n-i):\n",
        "    print(\" \", end =\"\")\n",
        "  for j in range(2*i+1):\n",
        "    if j==0 or j==2*i or i == n-1:\n",
        "      print(\"*\", end =\"\")\n",
        "    else:\n",
        "      print(\" \",end=\"\")\n",
        "  print()"
      ],
      "metadata": {
        "id": "z0KxM2s0CxUz"
      },
      "execution_count": null,
      "outputs": []
    },
    {
      "cell_type": "code",
      "source": [
        "def print_pattern():\n",
        "    rows = 5\n",
        "    spaces = rows - 1\n",
        "    stars = 1\n",
        "\n",
        "    for i in range(rows):\n",
        "        # Print spaces\n",
        "        for j in range(spaces):\n",
        "            print(\" \", end=\"\")\n",
        "\n",
        "        # Print stars\n",
        "        for j in range(stars):\n",
        "            if i == rows - 1:\n",
        "                print(\"*\", end=\"\")\n",
        "            else:\n",
        "                if j == 0 or j == stars - 1:\n",
        "                    print(\"*\", end=\"\")\n",
        "                else:\n",
        "                    print(\" \", end=\"\")\n",
        "\n",
        "        print()\n",
        "        spaces -= 1\n",
        "        stars += 2\n",
        "\n",
        "print_pattern()\n"
      ],
      "metadata": {
        "id": "cEKr06z-tlgv"
      },
      "execution_count": null,
      "outputs": []
    },
    {
      "cell_type": "code",
      "source": [
        "n = int(input())\n",
        "for i in range(n):\n",
        "    for j in range(n-i):\n",
        "        print(\" \", end = \"\")\n",
        "    for k in range(i+1):\n",
        "        print(\"*\", end =\"\")\n",
        "    print()\n",
        "for i in range(n-1):\n",
        "    for j in range(i+2):\n",
        "        print(\" \",end = \"\")\n",
        "    for k in range(n-i-1):\n",
        "        print(\"*\", end= \"\")\n",
        "    print()"
      ],
      "metadata": {
        "id": "LDU_Sq-R3b3X"
      },
      "execution_count": null,
      "outputs": []
    },
    {
      "cell_type": "code",
      "source": [
        "nums = sorted(eval(input()))\n",
        "target= int(input())\n",
        "\n",
        "def searchInsert(nums,target):\n",
        "  for i in range(len(nums)):\n",
        "    if nums[i] == target:\n",
        "      return i\n",
        "    elif nums[i] > target:\n",
        "      return i\n",
        "\n",
        "searchInsert(nums, target)\n"
      ],
      "metadata": {
        "id": "k1rNsjyzrIJz"
      },
      "execution_count": null,
      "outputs": []
    },
    {
      "cell_type": "code",
      "source": [
        "3//2"
      ],
      "metadata": {
        "id": "RvBtsRSrpAjz"
      },
      "execution_count": null,
      "outputs": []
    },
    {
      "cell_type": "code",
      "source": [
        "nums=eval(input())\n",
        "def singleNumber(nums):\n",
        "  for i in nums:\n",
        "    count = 0\n",
        "    for j in nums:\n",
        "      if j == i:\n",
        "        count += 1\n",
        "    if count == 1:\n",
        "      return j\n",
        "\n",
        "singleNumber(nums)"
      ],
      "metadata": {
        "id": "-as6Ryl6jTfT"
      },
      "execution_count": null,
      "outputs": []
    },
    {
      "cell_type": "code",
      "source": [
        "nums=eval(input())\n",
        "def singleNumber(nums):\n",
        "  singles = []\n",
        "  for i in range(0, len(nums)):\n",
        "    for j in range(i+1, len(nums)):\n",
        "      if i == j and nums[i] not in singles:\n",
        "        singles.append(nums[i])\n",
        "\n",
        "  return\n",
        "\n",
        "\n",
        "\n",
        "singleNumber(nums)"
      ],
      "metadata": {
        "id": "9u7GK9iHCRXE"
      },
      "execution_count": null,
      "outputs": []
    },
    {
      "cell_type": "code",
      "source": [
        "inp = input().split(\",\")\n",
        "y = list(inp)\n",
        "sum = 0\n",
        "for i in inp:\n",
        "  sum += int(i)\n",
        "print(sum)\n"
      ],
      "metadata": {
        "id": "uJgvyywHJK9H"
      },
      "execution_count": null,
      "outputs": []
    },
    {
      "cell_type": "code",
      "source": [
        "inp1 = int(input())\n",
        "inp2 = int(input())\n",
        "\n",
        "div = inp1/inp2\n",
        "\n",
        "print(div)"
      ],
      "metadata": {
        "id": "ECSyL5jeJpn1"
      },
      "execution_count": null,
      "outputs": []
    },
    {
      "cell_type": "code",
      "source": [
        "nums1=eval(input())\n",
        "nums2=eval(input())\n",
        "def nextGreaterElement(nums1, nums2):\n",
        "  for i in range(len(nums1)):\n",
        "    nexts = -1\n",
        "    for j in range(len(nums2)):\n",
        "      if nums1[i] == nums2[j]:\n",
        "          if nums1[i] < nums2[j]:\n",
        "            print(nums2[J])\n",
        "          else:\n",
        "            print(nexts)\n",
        "\n",
        "\n",
        "nextGreaterElement(nums1, nums2)"
      ],
      "metadata": {
        "id": "ILwWFQMDTlMw"
      },
      "execution_count": null,
      "outputs": []
    },
    {
      "cell_type": "code",
      "source": [
        "nums1 = eval(input())\n",
        "nums2 = eval(input())\n",
        "def nextgreaterelem(nums1,nums2):\n",
        "  ans = []\n",
        "  for i in range(0,len(nums1)):\n",
        "    for j in range(0,len(nums2)):\n",
        "      flag,val = 1,0\n",
        "      if nums1[i]==nums2[j]:\n",
        "        val = nums2[j]\n",
        "        for k in range(j+1,len(nums2)):\n",
        "          if nums2[k] > val:\n",
        "            ans.append(nums2[k])\n",
        "            flag = 0\n",
        "            break\n",
        "\n",
        "        if flag == 1:\n",
        "          ans.append(-1)\n",
        "  return ans\n",
        "\n",
        "nextgreaterelem(nums1, nums2)"
      ],
      "metadata": {
        "id": "RaKbcjsun5Bv"
      },
      "execution_count": null,
      "outputs": []
    },
    {
      "cell_type": "code",
      "source": [
        "nums1 = eval(input())\n",
        "nums2 = eval(input())\n",
        "def nextGreaterElement(nums1, nums2):\n",
        "\tif not nums2:\n",
        "\t\treturn None\n",
        "\n",
        "\tmapping = {}\n",
        "\tresult = []\n",
        "\tstack = []\n",
        "\tstack.append(nums2[0])\n",
        "\n",
        "\tfor i in range(1, len(nums2)):\n",
        "\t\twhile stack and nums2[i] > stack[-1]:\n",
        "\t\t\tmapping[stack[-1]] = nums2[i]\n",
        "\t\t\tstack.pop()\n",
        "\t\tstack.append(nums2[i])\n",
        "\n",
        "\tfor element in stack:\n",
        "\t\tmapping[element] = -1\n",
        "\n",
        "\tfor i in range(len(nums1)):\n",
        "\t\tresult.append(mapping[nums1[i]])\n",
        "\treturn result\n",
        "\n",
        "\n",
        "nextGreaterElement(nums1, nums2)\n",
        "\n",
        "     # if stack is not empty, then compare it's last element with nums2[i]\n",
        "\t\t      # if the new element is greater than stack's top element, then add this to dictionary\n",
        "\t\t        # since we found a pair for the top element, remove it.\n",
        "              # add the element nums2[i] to the stack because we need to find a number greater than this\n",
        "\n",
        "                          # if there are elements in the stack for which we didn't find a greater number, map them to -1\n"
      ],
      "metadata": {
        "id": "ghc8wlIUwaHQ"
      },
      "execution_count": null,
      "outputs": []
    },
    {
      "cell_type": "code",
      "source": [
        "nums=eval(input())\n",
        "def missingNumber(nums):\n",
        "    missing_num = 0\n",
        "    for i in range(len(nums)+1):\n",
        "        if i not in nums:\n",
        "            missing_num = i\n",
        "    return missing_num\n",
        "\n",
        "\n",
        "print(missingNumber(nums))"
      ],
      "metadata": {
        "id": "FdUY8hAu2lKJ"
      },
      "execution_count": null,
      "outputs": []
    },
    {
      "cell_type": "code",
      "source": [
        "nums=eval(input())\n",
        "def canThreePartsEqualSum(nums):\n",
        "  average = sum(nums) // 3\n",
        "  remainder = sum(nums)%3\n",
        "  part = 0\n",
        "  cnt = 0\n",
        "  for a in nums:\n",
        "    part += a\n",
        "    if part == average:\n",
        "      cnt += 1\n",
        "      part = 0\n",
        "  return not remainder and cnt >= 3\n",
        "\n",
        "print(canThreePartsEqualSum(nums))"
      ],
      "metadata": {
        "id": "cblaZdFy7ivS"
      },
      "execution_count": null,
      "outputs": []
    },
    {
      "cell_type": "code",
      "source": [
        "set1=eval(input())\n",
        "set2=eval(input())\n",
        "def set_intersection(set1, set2):\n",
        "  diff = []\n",
        "  for i in range(len(set1)):\n",
        "    for j in range(len(set2)):\n",
        "      if set1[i] == set2[j]:\n",
        "        x = set1[i]\n",
        "        diff.append(x)\n",
        "  return list(set(diff))\n",
        "\n",
        "print(set_intersection(set1,set2))"
      ],
      "metadata": {
        "id": "Qv3TxRSIA9W9"
      },
      "execution_count": null,
      "outputs": []
    },
    {
      "cell_type": "code",
      "source": [
        "lst = [2,2,2,2]\n",
        "x = set(lst)\n",
        "list(x)"
      ],
      "metadata": {
        "id": "YTc-6hNeDBWQ"
      },
      "execution_count": null,
      "outputs": []
    },
    {
      "cell_type": "code",
      "source": [
        "nums=eval(input())\n",
        "def majorityElement(nums):\n",
        "  max_count = 0\n",
        "  index = -1\n",
        "  appearance = len(nums)//2\n",
        "  for i in range(len(nums)):\n",
        "    count = 1\n",
        "    for j in range(i+1, len(nums)):\n",
        "      if  nums[i] == nums[j]:\n",
        "        count += 1\n",
        "\n",
        "      if count > max_count:\n",
        "        max_count = count\n",
        "        index = i\n",
        "\n",
        "    if max_count > appearance:\n",
        "      return nums[index]\n",
        "    else:\n",
        "      return \"no elements\"\n",
        "\n",
        "print(majorityElement(nums))\n"
      ],
      "metadata": {
        "id": "KKf3pO-jDHQN"
      },
      "execution_count": null,
      "outputs": []
    },
    {
      "cell_type": "code",
      "source": [
        "a = [2,4,3,5]\n",
        "for i, x in enumerate(a):\n",
        "  print(i,x)"
      ],
      "metadata": {
        "id": "WDZV9SFWaTCP"
      },
      "execution_count": null,
      "outputs": []
    },
    {
      "cell_type": "code",
      "source": [
        "dicts = {1:2,2:4,3:7,4:5}\n",
        "for i in dicts:\n",
        "  print(i)"
      ],
      "metadata": {
        "id": "xNv3j7BpgOAv"
      },
      "execution_count": null,
      "outputs": []
    },
    {
      "cell_type": "code",
      "source": [
        "A=eval(input())\n",
        "lst = list(A)\n",
        "def largestPerimeter(lst):\n",
        "  lst.sort(reverse= True)\n",
        "  for i in range(len(lst)-2):\n",
        "    if lst[i] < lst[i+1] + lst[i+2]:\n",
        "      return lst[i]+lst[i+1]+lst[i+2]\n",
        "  return 0\n",
        "\n",
        "largestPerimeter(lst)"
      ],
      "metadata": {
        "id": "yzDAR3jKFFM6"
      },
      "execution_count": null,
      "outputs": []
    },
    {
      "cell_type": "code",
      "source": [
        "A=eval(input())\n",
        "lst = list(A)\n",
        "lst.sort()\n",
        "for i in range(len(lst),0,-1):\n",
        "  print(i)"
      ],
      "metadata": {
        "id": "S39faA2PGZTx"
      },
      "execution_count": null,
      "outputs": []
    },
    {
      "cell_type": "code",
      "source": [
        "lst = eval(input())\n",
        "digits = list(lst)\n",
        "def intg(digits):\n",
        "  num = []\n",
        "  for i in range(len(digits)):\n",
        "    if digits[i] == digits[-1]:\n",
        "      num.append(digits[i]+1)\n",
        "    else:\n",
        "      num.append(digits[i])\n",
        "  return num\n",
        "\n",
        "\n",
        "print(intg(digits))"
      ],
      "metadata": {
        "id": "4hIEjq7VUNjO"
      },
      "execution_count": null,
      "outputs": []
    },
    {
      "cell_type": "code",
      "source": [
        "lst = [1,2,3,4]\n",
        "for i in reversed(lst):\n",
        "  print(i)"
      ],
      "metadata": {
        "id": "NiF3EafCllkQ"
      },
      "execution_count": null,
      "outputs": []
    },
    {
      "cell_type": "code",
      "source": [
        "lst = [1,2,3,4]\n",
        "lst.pop(2)"
      ],
      "metadata": {
        "id": "UEv--Sub6SdT"
      },
      "execution_count": null,
      "outputs": []
    },
    {
      "cell_type": "code",
      "source": [
        "arr=eval(input())\n",
        "k=int(input())\n",
        "def findKthPositive(arr, k):\n",
        "  lst = []\n",
        "  for i in range(1,arr[-1]):\n",
        "      if i not in arr:\n",
        "        lst.append(i)\n",
        "\n",
        "  return lst.pop(k-1)\n",
        "\n",
        "print(findKthPositive(arr,k))"
      ],
      "metadata": {
        "id": "9ZSYCO9T6XiY"
      },
      "execution_count": null,
      "outputs": []
    },
    {
      "cell_type": "code",
      "source": [
        "aliceSizes=eval(input())\n",
        "bobSizes= eval(input())\n",
        "def fairCandySwap(aliceSizes, bobSizes):\n",
        "  alice_nos = sum(aliceSizes)\n",
        "  bob_nos = sum(bobSizes)\n",
        "  output_sum = (alice_nos+bob_nos)//2\n",
        "  aliceset = set(aliceSizes)\n",
        "  for i in bobSizes:\n",
        "    aliceCandy = output_sum - (bob_nos - i)\n",
        "    if aliceCandy in aliceset:\n",
        "      return [aliceCandy, i]\n",
        "\n",
        "\n",
        "print(fairCandySwap(aliceSizes, bobSizes))"
      ],
      "metadata": {
        "id": "Cvc6KTuKFGkB"
      },
      "execution_count": null,
      "outputs": []
    },
    {
      "cell_type": "code",
      "source": [
        "lst = eval(input())\n",
        "for i in range(len(lst)):\n",
        "  if lst[i] == 5:\n",
        "    break\n",
        "  print(lst[i])\n"
      ],
      "metadata": {
        "id": "PpwXfEmf8d2f"
      },
      "execution_count": null,
      "outputs": []
    },
    {
      "cell_type": "code",
      "source": [
        "lst = eval(input())\n",
        "def getsum(lst):\n",
        "  if len(lst) == 0:\n",
        "    return 0\n",
        "  else:\n",
        "    return lst[0] + getsum(lst[1:])\n",
        "\n",
        "print(getsum(lst))"
      ],
      "metadata": {
        "id": "5INTCc5v3qA1"
      },
      "execution_count": null,
      "outputs": []
    },
    {
      "cell_type": "code",
      "source": [
        "n=int(input())\n",
        "base=int(input())\n",
        "def to_string(n,base):\n",
        "  strs = '0123456789ABCDEF'\n",
        "  if n < base:\n",
        "    return strs[n]\n",
        "  else:\n",
        "    return strs[n%base] + to_string(n//base, base)\n",
        "to_string(n,base)"
      ],
      "metadata": {
        "id": "a9Wfk7xj-lLP"
      },
      "execution_count": null,
      "outputs": []
    }
  ]
}